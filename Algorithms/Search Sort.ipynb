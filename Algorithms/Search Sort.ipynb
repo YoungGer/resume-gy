{
 "cells": [
  {
   "cell_type": "markdown",
   "metadata": {},
   "source": [
    "# Kth Largest Element in an Array"
   ]
  },
  {
   "cell_type": "code",
   "execution_count": 1,
   "metadata": {
    "collapsed": true
   },
   "outputs": [],
   "source": [
    "# partition O(n)\n",
    "from random import randint\n",
    "class Solution(object):\n",
    "    def findKthLargest(self, nums, k):\n",
    "        if len(nums)==0: return \n",
    "        return self.findKthSmallest(nums, len(nums)-k) \n",
    "    \n",
    "    def findKthSmallest(self, nums, k):\n",
    "        # partition\n",
    "        pi = randint(0,len(nums)-1)\n",
    "        nums[pi], nums[-1] = nums[-1], nums[pi]\n",
    "        \n",
    "        last = -1\n",
    "        for i in range(len(nums)):\n",
    "            if nums[i]<nums[-1]:\n",
    "                last += 1\n",
    "                nums[last], nums[i] = nums[i], nums[last]\n",
    "        last += 1\n",
    "        nums[last], nums[-1] = nums[-1], nums[last]\n",
    "        \n",
    "        if last==k:\n",
    "            return nums[last]\n",
    "        elif last>k:\n",
    "            return self.findKthSmallest(nums[:last],k)\n",
    "        else:\n",
    "            return self.findKthSmallest(nums[last+1:],k-last-1)"
   ]
  },
  {
   "cell_type": "code",
   "execution_count": 3,
   "metadata": {
    "collapsed": true
   },
   "outputs": [],
   "source": [
    "# heap O()\n",
    "import heapq\n",
    "class Solution(object):\n",
    "    def findKthLargest(self, nums, k):\n",
    "        h = []\n",
    "        for i in nums:\n",
    "            if len(h)<k:\n",
    "                heapq.heappush(h,i)\n",
    "            else:\n",
    "                if i>h[0]:\n",
    "                    heapq.heappop(h)\n",
    "                    heapq.heappush(h, i)\n",
    "        return h[0]"
   ]
  },
  {
   "cell_type": "markdown",
   "metadata": {},
   "source": [
    "# Kth Smallest Element in a Sorted Matrix"
   ]
  },
  {
   "cell_type": "code",
   "execution_count": 8,
   "metadata": {
    "collapsed": false
   },
   "outputs": [],
   "source": [
    "# klog(k)\n",
    "from heapq import heapify,heappush,heappop\n",
    "class Solution(object):\n",
    "    def kthSmallest(self, matrix, k):\n",
    "        h = [(row[0],row,0) for row in matrix]\n",
    "        heapify(h)\n",
    "        \n",
    "        for _ in range(k-1):\n",
    "            val,row,idx = h[0]\n",
    "            if idx<len(row)-1:\n",
    "                heappush(h, (row[idx+1],row,idx+1))\n",
    "                heappop(h)\n",
    "            else:\n",
    "                heappop(h)\n",
    "        return h[0][0]"
   ]
  },
  {
   "cell_type": "markdown",
   "metadata": {},
   "source": [
    "# Kth Smallest Element in a BST\n",
    "\n",
    "What if the BST is modified (insert/delete operations) often and you need to find the kth smallest frequently? How would you optimize the kthSmallest routine?\n",
    "\n",
    "add count field in the tree node"
   ]
  },
  {
   "cell_type": "code",
   "execution_count": 9,
   "metadata": {
    "collapsed": true
   },
   "outputs": [],
   "source": [
    "class Solution(object):\n",
    "    def kthSmallest(self, root, k):\n",
    "        self.count = 0\n",
    "        self.rst = None\n",
    "        def dfs(root):\n",
    "            if root:\n",
    "                dfs(root.left)\n",
    "                self.count += 1\n",
    "                if self.count==k:\n",
    "                    self.rst = root.val\n",
    "                    return\n",
    "                dfs(root.right)\n",
    "        dfs(root)\n",
    "        return self.rst"
   ]
  },
  {
   "cell_type": "markdown",
   "metadata": {},
   "source": [
    "# Top K Frequent Elements\n",
    "\n",
    "O(n)"
   ]
  },
  {
   "cell_type": "code",
   "execution_count": 27,
   "metadata": {
    "collapsed": true
   },
   "outputs": [],
   "source": [
    "from collections import Counter\n",
    "import heapq\n",
    "class Solution(object):\n",
    "    def topKFrequent(self, nums, k):\n",
    "        h = map(lambda x: (-x[1],x[0]),Counter(nums).items())\n",
    "        heapq.heapify(h)\n",
    "        rst = []\n",
    "        for i in range(k):\n",
    "            rst.append(heapq.heappop(h)[1])\n",
    "        return rst"
   ]
  },
  {
   "cell_type": "markdown",
   "metadata": {
    "collapsed": true
   },
   "source": [
    "# Two sorted array to sort\n",
    "\n",
    "A(size:a) array contains a sorted elements while B(size:a+b) array contains b sorted elements.\n",
    "\n",
    "You should sort (a+b) elements in B with no space occupation."
   ]
  },
  {
   "cell_type": "code",
   "execution_count": 4,
   "metadata": {
    "collapsed": true
   },
   "outputs": [],
   "source": [
    "def resort(A,B,la,lb):\n",
    "    assert len(A)==la\n",
    "    assert len(B)==la+lb\n",
    "    \n",
    "    B[-lb:] = B[:lb]\n",
    "    \n",
    "    ia, ib = 0, la\n",
    "    i = 0\n",
    "    \n",
    "    while ia<la and ib<la+lb:\n",
    "        if A[ia]<B[ib]:\n",
    "            B[i] = A[ia]\n",
    "            ia += 1\n",
    "        else:\n",
    "            B[i] = B[ib]\n",
    "            ib += 1\n",
    "        i += 1\n",
    "    \n",
    "    if ia==la:\n",
    "        B[i:] = B[ib:]\n",
    "    else:\n",
    "        B[i:] = A[ia:]\n",
    "    \n",
    "    print (A)\n",
    "    print (B)"
   ]
  },
  {
   "cell_type": "code",
   "execution_count": 10,
   "metadata": {
    "collapsed": true
   },
   "outputs": [],
   "source": [
    "A = [1,3,5,7,9]\n",
    "B = [2,4,6,8,10,15] + [0]*len(A)"
   ]
  },
  {
   "cell_type": "code",
   "execution_count": 11,
   "metadata": {
    "collapsed": false
   },
   "outputs": [
    {
     "name": "stdout",
     "output_type": "stream",
     "text": [
      "[1, 3, 5, 7, 9]\n",
      "[1, 2, 3, 4, 5, 6, 7, 8, 9, 10, 15]\n"
     ]
    }
   ],
   "source": [
    "resort(A,B,len(A),len(B)-len(A))"
   ]
  }
 ],
 "metadata": {
  "kernelspec": {
   "display_name": "Python 3",
   "language": "python",
   "name": "python3"
  },
  "language_info": {
   "codemirror_mode": {
    "name": "ipython",
    "version": 3
   },
   "file_extension": ".py",
   "mimetype": "text/x-python",
   "name": "python",
   "nbconvert_exporter": "python",
   "pygments_lexer": "ipython3",
   "version": "3.5.2"
  }
 },
 "nbformat": 4,
 "nbformat_minor": 0
}
