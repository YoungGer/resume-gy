{
 "cells": [
  {
   "cell_type": "markdown",
   "metadata": {},
   "source": [
    "# Kth Largest Element in an Array"
   ]
  },
  {
   "cell_type": "code",
   "execution_count": 1,
   "metadata": {
    "collapsed": true
   },
   "outputs": [],
   "source": [
    "# partition O(n)\n",
    "from random import randint\n",
    "class Solution(object):\n",
    "    def findKthLargest(self, nums, k):\n",
    "        if len(nums)==0: return \n",
    "        return self.findKthSmallest(nums, len(nums)-k) \n",
    "    \n",
    "    def findKthSmallest(self, nums, k):\n",
    "        # partition\n",
    "        pi = randint(0,len(nums)-1)\n",
    "        nums[pi], nums[-1] = nums[-1], nums[pi]\n",
    "        \n",
    "        last = -1\n",
    "        for i in range(len(nums)):\n",
    "            if nums[i]<nums[-1]:\n",
    "                last += 1\n",
    "                nums[last], nums[i] = nums[i], nums[last]\n",
    "        last += 1\n",
    "        nums[last], nums[-1] = nums[-1], nums[last]\n",
    "        \n",
    "        if last==k:\n",
    "            return nums[last]\n",
    "        elif last>k:\n",
    "            return self.findKthSmallest(nums[:last],k)\n",
    "        else:\n",
    "            return self.findKthSmallest(nums[last+1:],k-last-1)"
   ]
  },
  {
   "cell_type": "code",
   "execution_count": 3,
   "metadata": {
    "collapsed": true
   },
   "outputs": [],
   "source": [
    "# heap O()\n",
    "import heapq\n",
    "class Solution(object):\n",
    "    def findKthLargest(self, nums, k):\n",
    "        h = []\n",
    "        for i in nums:\n",
    "            if len(h)<k:\n",
    "                heapq.heappush(h,i)\n",
    "            else:\n",
    "                if i>h[0]:\n",
    "                    heapq.heappop(h)\n",
    "                    heapq.heappush(h, i)\n",
    "        return h[0]"
   ]
  },
  {
   "cell_type": "markdown",
   "metadata": {},
   "source": [
    "# Kth Smallest Element in a Sorted Matrix"
   ]
  },
  {
   "cell_type": "code",
   "execution_count": 8,
   "metadata": {
    "collapsed": false
   },
   "outputs": [],
   "source": [
    "# klog(k)\n",
    "from heapq import heapify,heappush,heappop\n",
    "class Solution(object):\n",
    "    def kthSmallest(self, matrix, k):\n",
    "        h = [(row[0],row,0) for row in matrix]\n",
    "        heapify(h)\n",
    "        \n",
    "        for _ in range(k-1):\n",
    "            val,row,idx = h[0]\n",
    "            if idx<len(row)-1:\n",
    "                heappush(h, (row[idx+1],row,idx+1))\n",
    "                heappop(h)\n",
    "            else:\n",
    "                heappop(h)\n",
    "        return h[0][0]"
   ]
  },
  {
   "cell_type": "markdown",
   "metadata": {},
   "source": [
    "# Kth Smallest Element in a BST\n",
    "\n",
    "What if the BST is modified (insert/delete operations) often and you need to find the kth smallest frequently? How would you optimize the kthSmallest routine?\n",
    "\n",
    "add count field in the tree node"
   ]
  },
  {
   "cell_type": "code",
   "execution_count": 9,
   "metadata": {
    "collapsed": true
   },
   "outputs": [],
   "source": [
    "class Solution(object):\n",
    "    def kthSmallest(self, root, k):\n",
    "        self.count = 0\n",
    "        self.rst = None\n",
    "        def dfs(root):\n",
    "            if root:\n",
    "                dfs(root.left)\n",
    "                self.count += 1\n",
    "                if self.count==k:\n",
    "                    self.rst = root.val\n",
    "                    return\n",
    "                dfs(root.right)\n",
    "        dfs(root)\n",
    "        return self.rst"
   ]
  },
  {
   "cell_type": "markdown",
   "metadata": {},
   "source": [
    "# Top K Frequent Elements\n",
    "\n",
    "O(n)"
   ]
  },
  {
   "cell_type": "code",
   "execution_count": 27,
   "metadata": {
    "collapsed": true
   },
   "outputs": [],
   "source": [
    "from collections import Counter\n",
    "import heapq\n",
    "class Solution(object):\n",
    "    def topKFrequent(self, nums, k):\n",
    "        h = map(lambda x: (-x[1],x[0]),Counter(nums).items())\n",
    "        heapq.heapify(h)\n",
    "        rst = []\n",
    "        for i in range(k):\n",
    "            rst.append(heapq.heappop(h)[1])\n",
    "        return rst"
   ]
  },
  {
   "cell_type": "code",
   "execution_count": null,
   "metadata": {
    "collapsed": true
   },
   "outputs": [],
   "source": []
  }
 ],
 "metadata": {
  "kernelspec": {
   "display_name": "Python 2",
   "language": "python",
   "name": "python2"
  },
  "language_info": {
   "codemirror_mode": {
    "name": "ipython",
    "version": 2
   },
   "file_extension": ".py",
   "mimetype": "text/x-python",
   "name": "python",
   "nbconvert_exporter": "python",
   "pygments_lexer": "ipython2",
   "version": "2.7.12"
  }
 },
 "nbformat": 4,
 "nbformat_minor": 0
}
