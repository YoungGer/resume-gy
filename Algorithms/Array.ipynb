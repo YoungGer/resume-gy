{
 "cells": [
  {
   "cell_type": "markdown",
   "metadata": {},
   "source": [
    "# Rotate Array"
   ]
  },
  {
   "cell_type": "code",
   "execution_count": 4,
   "metadata": {
    "collapsed": true
   },
   "outputs": [],
   "source": [
    "from collections import  deque\n",
    "class Solution(object):\n",
    "    def rotate(self, nums, k):\n",
    "        nums2 = deque(nums)\n",
    "        for i in range(k):\n",
    "            nums2.appendleft(nums2.pop())\n",
    "        nums = list(nums2)"
   ]
  },
  {
   "cell_type": "code",
   "execution_count": 7,
   "metadata": {
    "collapsed": true
   },
   "outputs": [],
   "source": [
    "class Solution(object):\n",
    "    def rotate(self, nums, k):\n",
    "        k = k%len(nums)\n",
    "        nums[:] = nums[-k:] + nums[:-k]"
   ]
  },
  {
   "cell_type": "markdown",
   "metadata": {},
   "source": [
    "# Search in Rotated Sorted Array"
   ]
  },
  {
   "cell_type": "code",
   "execution_count": 32,
   "metadata": {
    "collapsed": true
   },
   "outputs": [],
   "source": [
    "class Solution(object):\n",
    "    def search(self, nums, target):\n",
    "        if not nums: return -1\n",
    "        i,j = 0,len(nums)-1\n",
    "        while i<j:\n",
    "            mi = (i+j)/2\n",
    "            m = nums[mi]\n",
    "            \n",
    "            if target==m:\n",
    "                return mi\n",
    "            \n",
    "            if m>=nums[i]:\n",
    "                # 在左边\n",
    "                if target>=nums[i] and target<m:\n",
    "                    j = mi-1\n",
    "                else:\n",
    "                    i = mi+1\n",
    "            else:\n",
    "                # 在右边\n",
    "                if target>m and target<=nums[j]:\n",
    "                    i = mi+1\n",
    "                else:\n",
    "                    j = mi-1\n",
    "        return i if nums[i]==target else -1"
   ]
  },
  {
   "cell_type": "markdown",
   "metadata": {},
   "source": [
    "# Search in Rotated Sorted Array II\n",
    "\n",
    "duplicates are allowed\n",
    "\n",
    "worst O(n)"
   ]
  },
  {
   "cell_type": "code",
   "execution_count": 33,
   "metadata": {
    "collapsed": true
   },
   "outputs": [],
   "source": [
    "class Solution(object):\n",
    "    def search(self, nums, target):\n",
    "        if not nums: return False\n",
    "        \n",
    "        i,j = 0,len(nums)-1\n",
    "        \n",
    "        while i<=j:\n",
    "            mi = i+(j-i+1)/2\n",
    "            m = nums[mi]\n",
    "            \n",
    "            if m==target:\n",
    "                return True\n",
    "            \n",
    "            if m>nums[i]:\n",
    "                # left sorted\n",
    "                if target>=nums[i] and  target<m:\n",
    "                    j = mi-1\n",
    "                else:\n",
    "                    i = mi+1\n",
    "            elif m<nums[i]:\n",
    "                # right sorted\n",
    "                if target<=nums[j] and target>m:\n",
    "                    i = mi+1\n",
    "                else:\n",
    "                    j = mi-1\n",
    "            else:\n",
    "                # confused\n",
    "                i += 1   \n",
    "            \n",
    "        return False"
   ]
  },
  {
   "cell_type": "markdown",
   "metadata": {},
   "source": [
    "# Remove Duplicates from Sorted Array\n",
    "\n",
    "Given a sorted array, remove the duplicates in place such that each element appear only once and return the new length.\n",
    "\n",
    "Do not allocate extra space for another array, you must do this in place with constant memory."
   ]
  },
  {
   "cell_type": "code",
   "execution_count": 34,
   "metadata": {
    "collapsed": true
   },
   "outputs": [],
   "source": [
    "class Solution(object):\n",
    "    def removeDuplicates(self, nums):\n",
    "        \"\"\"\n",
    "        :type nums: List[int]\n",
    "        :rtype: int\n",
    "        \"\"\"\n",
    "        last = None\n",
    "        count = 0\n",
    "        idx = -1\n",
    "        for i,k in enumerate(nums):\n",
    "            if k!=last:\n",
    "                idx += 1\n",
    "                count += 1\n",
    "                nums[idx],nums[i] = nums[i],nums[idx]\n",
    "                last = k\n",
    "        return count"
   ]
  },
  {
   "cell_type": "markdown",
   "metadata": {},
   "source": [
    "# Remove Duplicates from Sorted Array II\n",
    "\n",
    "Follow up for \"Remove Duplicates\":\n",
    "What if duplicates are allowed at most twice?\n",
    "\n",
    "For example,\n",
    "Given sorted array nums = [1,1,1,2,2,3],\n",
    "\n",
    "Your function should return length = 5, with the first five elements of nums being 1, 1, 2, 2 and 3. It doesn't matter what you leave beyond the new length."
   ]
  },
  {
   "cell_type": "code",
   "execution_count": 41,
   "metadata": {
    "collapsed": true
   },
   "outputs": [],
   "source": [
    "class Solution(object):\n",
    "    def removeDuplicates(self, nums):\n",
    "        last2, last1 = None,None\n",
    "        last = -1\n",
    "        count = 0\n",
    "        for idx,i in enumerate(nums):\n",
    "            if not (i==last1 and i==last2):\n",
    "                count += 1\n",
    "                last += 1\n",
    "                nums[last],nums[idx] = nums[idx],nums[last]\n",
    "                last2, last1 = last1,i\n",
    "        return count"
   ]
  },
  {
   "cell_type": "markdown",
   "metadata": {},
   "source": [
    "# Remove Duplicates from Sorted List"
   ]
  },
  {
   "cell_type": "code",
   "execution_count": 35,
   "metadata": {
    "collapsed": true
   },
   "outputs": [],
   "source": [
    "class Solution(object):\n",
    "    def deleteDuplicates(self, head):\n",
    "        \"\"\"\n",
    "        :type head: ListNode\n",
    "        :rtype: ListNode\n",
    "        \"\"\"\n",
    "        node = head\n",
    "        while node:\n",
    "            if node.next and node.next.val==node.val:\n",
    "                node.next = node.next.next\n",
    "            else:\n",
    "                node = node.next\n",
    "        return head"
   ]
  },
  {
   "cell_type": "markdown",
   "metadata": {},
   "source": [
    "# Remove Duplicates from Sorted List II\n",
    "\n",
    "Given a sorted linked list, delete all nodes that have duplicate numbers, leaving only distinct numbers from the original list."
   ]
  },
  {
   "cell_type": "code",
   "execution_count": 44,
   "metadata": {
    "collapsed": true
   },
   "outputs": [],
   "source": [
    "class Solution(object):\n",
    "    def deleteDuplicates(self, head):\n",
    "        fake = ListNode(-1)\n",
    "        fake.next = head\n",
    "        \n",
    "        pre = fake\n",
    "        node = head\n",
    "        flag = False\n",
    "        while node:\n",
    "            while node.next and node.next.val==node.val:\n",
    "                flag = True\n",
    "                node.next =node.next.next\n",
    "                \n",
    "            if flag:\n",
    "                pre.next = node.next\n",
    "                node = pre.next\n",
    "                flag = False\n",
    "            else:\n",
    "                pre, node = node, node.next\n",
    "        return fake.next"
   ]
  },
  {
   "cell_type": "markdown",
   "metadata": {},
   "source": [
    "# Find All Duplicates in an Array\n",
    "\n",
    "Given an array of integers, 1 ≤ a[i] ≤ n (n = size of array), some elements appear twice and others appear once.\n",
    "\n",
    "Find all the elements that appear twice in this array.\n",
    "\n",
    "Could you do it without extra space and in O(n) runtime?"
   ]
  },
  {
   "cell_type": "code",
   "execution_count": 36,
   "metadata": {
    "collapsed": true
   },
   "outputs": [],
   "source": [
    "class Solution(object):\n",
    "    def findDuplicates(self, nums):\n",
    "        \"\"\"\n",
    "        :type nums: List[int]\n",
    "        :rtype: List[int]\n",
    "        \"\"\"\n",
    "        rst = []\n",
    "        for i in nums:\n",
    "            if nums[abs(i)-1]<0:\n",
    "                rst.append(abs(i))\n",
    "            else:\n",
    "                nums[abs(i)-1] = -nums[abs(i)-1]\n",
    "        return rst"
   ]
  },
  {
   "cell_type": "markdown",
   "metadata": {},
   "source": [
    "# Find the Duplicate Number\n",
    "\n",
    "Given an array nums containing n + 1 integers where each integer is between 1 and n (inclusive), prove that at least one duplicate number must exist. Assume that there is only one duplicate number, find the duplicate one."
   ]
  },
  {
   "cell_type": "code",
   "execution_count": 38,
   "metadata": {
    "collapsed": true
   },
   "outputs": [],
   "source": [
    "class Solution(object):\n",
    "    def findDuplicate(self, nums):\n",
    "        for i in nums:\n",
    "            if nums[abs(i)-1]<0:\n",
    "                return abs(i)\n",
    "            else:\n",
    "                nums[abs(i)-1] = -nums[abs(i)-1]"
   ]
  },
  {
   "cell_type": "code",
   "execution_count": null,
   "metadata": {
    "collapsed": true
   },
   "outputs": [],
   "source": []
  }
 ],
 "metadata": {
  "kernelspec": {
   "display_name": "Python 2",
   "language": "python",
   "name": "python2"
  },
  "language_info": {
   "codemirror_mode": {
    "name": "ipython",
    "version": 2
   },
   "file_extension": ".py",
   "mimetype": "text/x-python",
   "name": "python",
   "nbconvert_exporter": "python",
   "pygments_lexer": "ipython2",
   "version": "2.7.12"
  }
 },
 "nbformat": 4,
 "nbformat_minor": 0
}
