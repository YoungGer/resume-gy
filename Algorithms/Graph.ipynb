{
 "cells": [
  {
   "cell_type": "code",
   "execution_count": 13,
   "metadata": {
    "collapsed": false
   },
   "outputs": [
    {
     "ename": "TypeError",
     "evalue": "can only concatenate list (not \"int\") to list",
     "output_type": "error",
     "traceback": [
      "\u001b[0;31m---------------------------------------------------------------------------\u001b[0m",
      "\u001b[0;31mTypeError\u001b[0m                                 Traceback (most recent call last)",
      "\u001b[0;32m<ipython-input-13-d6ff2eec2d61>\u001b[0m in \u001b[0;36m<module>\u001b[0;34m()\u001b[0m\n\u001b[1;32m      2\u001b[0m \u001b[0mpoints\u001b[0m \u001b[0;34m=\u001b[0m \u001b[0;34m[\u001b[0m\u001b[0;34m[\u001b[0m\u001b[0;36m0\u001b[0m\u001b[0;34m,\u001b[0m\u001b[0;36m0\u001b[0m\u001b[0;34m]\u001b[0m\u001b[0;34m,\u001b[0m\u001b[0;34m[\u001b[0m\u001b[0;36m1\u001b[0m\u001b[0;34m,\u001b[0m\u001b[0;36m0\u001b[0m\u001b[0;34m]\u001b[0m\u001b[0;34m,\u001b[0m\u001b[0;34m[\u001b[0m\u001b[0;36m2\u001b[0m\u001b[0;34m,\u001b[0m\u001b[0;36m0\u001b[0m\u001b[0;34m]\u001b[0m\u001b[0;34m]\u001b[0m\u001b[0;34m\u001b[0m\u001b[0m\n\u001b[1;32m      3\u001b[0m \u001b[0;32mfor\u001b[0m \u001b[0mpi\u001b[0m \u001b[0;32min\u001b[0m \u001b[0mpoints\u001b[0m\u001b[0;34m[\u001b[0m\u001b[0;34m:\u001b[0m\u001b[0;34m-\u001b[0m\u001b[0;36m1\u001b[0m\u001b[0;34m]\u001b[0m\u001b[0;34m:\u001b[0m\u001b[0;34m\u001b[0m\u001b[0m\n\u001b[0;32m----> 4\u001b[0;31m     \u001b[0;32mfor\u001b[0m \u001b[0mpj\u001b[0m \u001b[0;32min\u001b[0m \u001b[0mpoints\u001b[0m\u001b[0;34m[\u001b[0m\u001b[0mpi\u001b[0m\u001b[0;34m+\u001b[0m\u001b[0;36m1\u001b[0m\u001b[0;34m:\u001b[0m\u001b[0;34m]\u001b[0m\u001b[0;34m:\u001b[0m\u001b[0;34m\u001b[0m\u001b[0m\n\u001b[0m\u001b[1;32m      5\u001b[0m         \u001b[0;32mif\u001b[0m \u001b[0mpi\u001b[0m \u001b[0;32mnot\u001b[0m \u001b[0;32min\u001b[0m \u001b[0mH\u001b[0m\u001b[0;34m:\u001b[0m\u001b[0;34m\u001b[0m\u001b[0m\n\u001b[1;32m      6\u001b[0m             \u001b[0mH\u001b[0m\u001b[0;34m[\u001b[0m\u001b[0mpi\u001b[0m\u001b[0;34m]\u001b[0m \u001b[0;34m=\u001b[0m \u001b[0;34m{\u001b[0m\u001b[0;34m}\u001b[0m\u001b[0;34m\u001b[0m\u001b[0m\n",
      "\u001b[0;31mTypeError\u001b[0m: can only concatenate list (not \"int\") to list"
     ]
    }
   ],
   "source": [
    "H = {}\n",
    "points = [[0,0],[1,0],[2,0]]\n",
    "for pi in points[:-1]:\n",
    "    for pj in points[pi+1:]:\n",
    "        if pi not in H:\n",
    "            H[pi] = {}\n",
    "        if pj not in H:\n",
    "            H[pj] = {}\n",
    "\n",
    "        d = (pi[0]-pj[0])**2 + (pi[1]-pj[1])**2\n",
    "        if d not in H[pi]:\n",
    "            H[pi][d] = 1\n",
    "        else:\n",
    "            H[pi][d] += 1\n",
    "        if d not in H[pj]:\n",
    "            H[pj][d] = 1\n",
    "        else:\n",
    "            H[pj][d] += 1"
   ]
  },
  {
   "cell_type": "markdown",
   "metadata": {},
   "source": [
    "# linked list to graph"
   ]
  },
  {
   "cell_type": "code",
   "execution_count": 9,
   "metadata": {
    "collapsed": false
   },
   "outputs": [
    {
     "name": "stdout",
     "output_type": "stream",
     "text": [
      "{1: [2], 2: [3], 3: [2]}\n"
     ]
    }
   ],
   "source": [
    "def list2g_direct(l):\n",
    "    G = {}\n",
    "    for (i,j) in l:\n",
    "        if i in G:\n",
    "            G[i].append(j)\n",
    "        else:\n",
    "            G[i] = [j]\n",
    "    return G\n",
    "print list2g_direct([(1,2),(2,3),(3,2)])"
   ]
  },
  {
   "cell_type": "code",
   "execution_count": 12,
   "metadata": {
    "collapsed": false
   },
   "outputs": [
    {
     "name": "stdout",
     "output_type": "stream",
     "text": [
      "{1: [2], 2: [1, 3, 4], 3: [2, 4], 4: [3, 2]}\n"
     ]
    }
   ],
   "source": [
    "def list2g_undirect(l):\n",
    "    G = {}\n",
    "    for (i,j) in l:\n",
    "        if i in G:\n",
    "            G[i].append(j)\n",
    "        else:\n",
    "            G[i] = [j]\n",
    "        if j in G:\n",
    "            G[j].append(i)\n",
    "        else:\n",
    "            G[j] = [i]\n",
    "    return G\n",
    "print list2g_undirect([(1,2),(2,3),(3,4),(4,2)])"
   ]
  },
  {
   "cell_type": "markdown",
   "metadata": {},
   "source": [
    "# Directed Graph Cycle"
   ]
  },
  {
   "cell_type": "code",
   "execution_count": 1,
   "metadata": {
    "collapsed": true
   },
   "outputs": [],
   "source": [
    "class Solution(object):\n",
    "    def __init__(self):\n",
    "        self.flag = False\n",
    "    def detect_cycle(self, G):\n",
    "        for v in G:\n",
    "            if self.flag:\n",
    "                break\n",
    "            self.dfs(G,v,[])\n",
    "        return self.flag\n",
    "    def dfs(self,G,v,seen):\n",
    "        if v in seen:\n",
    "            self.flag = True\n",
    "            return \n",
    "        if self.flag:\n",
    "            return\n",
    "        for vi in G[v]:\n",
    "            self.dfs(G,vi,seen+[v])"
   ]
  },
  {
   "cell_type": "code",
   "execution_count": 2,
   "metadata": {
    "collapsed": false
   },
   "outputs": [
    {
     "name": "stdout",
     "output_type": "stream",
     "text": [
      "Graph1 has a cycle.\n",
      "Graph2 has a cycle.\n",
      "Graph3 has no cycle.\n",
      "Graph4 has no cycle.\n",
      "\n",
      "Algorithm passed all test cases\n"
     ]
    }
   ],
   "source": [
    "# connected graph with cycle\n",
    "q = Solution()\n",
    "graph1 = { 0 : [1, 2],\n",
    "           1 : [],\n",
    "           2 : [3],\n",
    "           3 : [4],\n",
    "           4 : [2] }\n",
    "assert(q.detect_cycle(graph1) == True)\n",
    "print(\"Graph1 has a cycle.\")\n",
    " \n",
    "#----------------------------------------------------\n",
    " \n",
    "# disconnected graph with cycle\n",
    "q = Solution()\n",
    "graph2 = { 0 : [],\n",
    "           1 : [2],\n",
    "           2 : [],  \n",
    "           3 : [4],\n",
    "           4 : [5],\n",
    "           5 : [3] }\n",
    "assert(q.detect_cycle(graph2) == True)\n",
    "print(\"Graph2 has a cycle.\")\n",
    " \n",
    "#----------------------------------------------------\n",
    " \n",
    "# disconnected graph without a cycle\n",
    "q = Solution()\n",
    "graph3 = { 0 : [],\n",
    "           1 : [],\n",
    "           2 : [],\n",
    "           3 : [] }\n",
    "assert(q.detect_cycle(graph3) == False)\n",
    "print(\"Graph3 has no cycle.\")\n",
    " \n",
    "#----------------------------------------------------\n",
    " \n",
    "# disconnected graph without a cycle\n",
    "q = Solution()\n",
    "graph4 = { 0 : [1, 2],\n",
    "           1 : [3, 4],\n",
    "           2 : [],\n",
    "           3 : [],\n",
    "           4 : [],\n",
    "           5 : [6, 7],\n",
    "           6 : [],\n",
    "           7 : [] }\n",
    "assert(q.detect_cycle(graph4) == False)           \n",
    "print(\"Graph4 has no cycle.\")\n",
    " \n",
    "#----------------------------------------------------\n",
    " \n",
    "# If assert raises an error, then a test case was not passed.\n",
    "print(\"\\nAlgorithm passed all test cases\")"
   ]
  },
  {
   "cell_type": "markdown",
   "metadata": {},
   "source": [
    "# Undirected Graph Cycle"
   ]
  },
  {
   "cell_type": "code",
   "execution_count": 3,
   "metadata": {
    "collapsed": true
   },
   "outputs": [],
   "source": [
    "class Solution(object):\n",
    "    def __init__(self):\n",
    "        self.flag = False\n",
    "    def detect_cycle(self, G):\n",
    "        for v in G:\n",
    "            if self.flag:\n",
    "                break\n",
    "            self.dfs(G,v,[],None)\n",
    "        return self.flag\n",
    "\n",
    "    def dfs(self,G,v,seen,last):\n",
    "        if v in seen:\n",
    "            self.flag = True\n",
    "            return \n",
    "        if self.flag:\n",
    "            return\n",
    "        for vi in G[v]:\n",
    "            if vi != last:\n",
    "                self.dfs(G,vi,seen+[v],v)"
   ]
  },
  {
   "cell_type": "code",
   "execution_count": 5,
   "metadata": {
    "collapsed": false
   },
   "outputs": [
    {
     "name": "stdout",
     "output_type": "stream",
     "text": [
      "Graph1 has a cycle.\n",
      "Graph2 has a cycle.\n",
      "Graph3 has no cycle.\n",
      "Graph4 has no cycle.\n",
      "\n",
      "Algorithm passed all test cases.\n"
     ]
    }
   ],
   "source": [
    "# connected graph with cycle\n",
    "q = Solution()\n",
    "graph1 = { 0 : [1, 2],\n",
    "           1 : [0, 2],\n",
    "           2 : [0, 1] }\n",
    " \n",
    "       \n",
    "assert(q.detect_cycle(graph1) == True) \n",
    "print(\"Graph1 has a cycle.\")\n",
    " \n",
    "#--------------------------------------------\n",
    " \n",
    "# disconnected graph with cycle\n",
    "q = Solution()\n",
    "graph2 = { 0 : [1],\n",
    "           1 : [0],\n",
    "           2 : [3, 4],\n",
    "           3 : [2, 4],\n",
    "           4 : [2, 3] }\n",
    "       \n",
    "assert(q.detect_cycle(graph2) == True)\n",
    "print(\"Graph2 has a cycle.\")\n",
    " \n",
    "#--------------------------------------------\n",
    " \n",
    "# connected graph without a cycle (i.e. a tree)\n",
    "q = Solution()\n",
    "graph3 = { 0 : [1, 2],\n",
    "           1 : [0],\n",
    "           2 : [0] }\n",
    "       \n",
    "assert(q.detect_cycle(graph3) == False)\n",
    "print(\"Graph3 has no cycle.\")\n",
    " \n",
    "#--------------------------------------------\n",
    " \n",
    "# disconnected graph without a cycle (i.e. a forest)\n",
    "q = Solution()\n",
    "graph4 = { 0 : [],\n",
    "           1 : [],\n",
    "           2 : [3, 4],\n",
    "           3 : [2],\n",
    "           4 : [2] }\n",
    "       \n",
    "assert(q.detect_cycle(graph4) == False)\n",
    "print(\"Graph4 has no cycle.\")\n",
    " \n",
    "#--------------------------------------------\n",
    " \n",
    "# If assert raises an error, then a test case was not passed.\n",
    "print(\"\\nAlgorithm passed all test cases.\")"
   ]
  }
 ],
 "metadata": {
  "kernelspec": {
   "display_name": "Python 2",
   "language": "python",
   "name": "python2"
  },
  "language_info": {
   "codemirror_mode": {
    "name": "ipython",
    "version": 2
   },
   "file_extension": ".py",
   "mimetype": "text/x-python",
   "name": "python",
   "nbconvert_exporter": "python",
   "pygments_lexer": "ipython2",
   "version": "2.7.12"
  }
 },
 "nbformat": 4,
 "nbformat_minor": 1
}
