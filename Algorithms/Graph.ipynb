{
 "cells": [
  {
   "cell_type": "markdown",
   "metadata": {},
   "source": [
    "# Directed Graph Cycle"
   ]
  },
  {
   "cell_type": "code",
   "execution_count": 1,
   "metadata": {
    "collapsed": true
   },
   "outputs": [],
   "source": [
    "class Solution(object):\n",
    "    def __init__(self):\n",
    "        self.flag = False\n",
    "    def detect_cycle(self, G):\n",
    "        for v in G:\n",
    "            if self.flag:\n",
    "                break\n",
    "            self.dfs(G,v,[])\n",
    "        return self.flag\n",
    "    def dfs(self,G,v,seen):\n",
    "        if v in seen:\n",
    "            self.flag = True\n",
    "            return \n",
    "        if self.flag:\n",
    "            return\n",
    "        for vi in G[v]:\n",
    "            self.dfs(G,vi,seen+[v])"
   ]
  },
  {
   "cell_type": "code",
   "execution_count": 2,
   "metadata": {
    "collapsed": false
   },
   "outputs": [
    {
     "name": "stdout",
     "output_type": "stream",
     "text": [
      "Graph1 has a cycle.\n",
      "Graph2 has a cycle.\n",
      "Graph3 has no cycle.\n",
      "Graph4 has no cycle.\n",
      "\n",
      "Algorithm passed all test cases\n"
     ]
    }
   ],
   "source": [
    "# connected graph with cycle\n",
    "q = Solution()\n",
    "graph1 = { 0 : [1, 2],\n",
    "           1 : [],\n",
    "           2 : [3],\n",
    "           3 : [4],\n",
    "           4 : [2] }\n",
    "assert(q.detect_cycle(graph1) == True)\n",
    "print(\"Graph1 has a cycle.\")\n",
    " \n",
    "#----------------------------------------------------\n",
    " \n",
    "# disconnected graph with cycle\n",
    "q = Solution()\n",
    "graph2 = { 0 : [],\n",
    "           1 : [2],\n",
    "           2 : [],  \n",
    "           3 : [4],\n",
    "           4 : [5],\n",
    "           5 : [3] }\n",
    "assert(q.detect_cycle(graph2) == True)\n",
    "print(\"Graph2 has a cycle.\")\n",
    " \n",
    "#----------------------------------------------------\n",
    " \n",
    "# disconnected graph without a cycle\n",
    "q = Solution()\n",
    "graph3 = { 0 : [],\n",
    "           1 : [],\n",
    "           2 : [],\n",
    "           3 : [] }\n",
    "assert(q.detect_cycle(graph3) == False)\n",
    "print(\"Graph3 has no cycle.\")\n",
    " \n",
    "#----------------------------------------------------\n",
    " \n",
    "# disconnected graph without a cycle\n",
    "q = Solution()\n",
    "graph4 = { 0 : [1, 2],\n",
    "           1 : [3, 4],\n",
    "           2 : [],\n",
    "           3 : [],\n",
    "           4 : [],\n",
    "           5 : [6, 7],\n",
    "           6 : [],\n",
    "           7 : [] }\n",
    "assert(q.detect_cycle(graph4) == False)           \n",
    "print(\"Graph4 has no cycle.\")\n",
    " \n",
    "#----------------------------------------------------\n",
    " \n",
    "# If assert raises an error, then a test case was not passed.\n",
    "print(\"\\nAlgorithm passed all test cases\")"
   ]
  },
  {
   "cell_type": "markdown",
   "metadata": {},
   "source": [
    "# Undirected Graph Cycle"
   ]
  },
  {
   "cell_type": "code",
   "execution_count": 3,
   "metadata": {
    "collapsed": true
   },
   "outputs": [],
   "source": [
    "class Solution(object):\n",
    "    def __init__(self):\n",
    "        self.flag = False\n",
    "    def detect_cycle(self, G):\n",
    "        for v in G:\n",
    "            if self.flag:\n",
    "                break\n",
    "            self.dfs(G,v,[],None)\n",
    "        return self.flag\n",
    "\n",
    "    def dfs(self,G,v,seen,last):\n",
    "        if v in seen:\n",
    "            self.flag = True\n",
    "            return \n",
    "        if self.flag:\n",
    "            return\n",
    "        for vi in G[v]:\n",
    "            if vi != last:\n",
    "                self.dfs(G,vi,seen+[v],v)"
   ]
  },
  {
   "cell_type": "code",
   "execution_count": 5,
   "metadata": {
    "collapsed": false
   },
   "outputs": [
    {
     "name": "stdout",
     "output_type": "stream",
     "text": [
      "Graph1 has a cycle.\n",
      "Graph2 has a cycle.\n",
      "Graph3 has no cycle.\n",
      "Graph4 has no cycle.\n",
      "\n",
      "Algorithm passed all test cases.\n"
     ]
    }
   ],
   "source": [
    "# connected graph with cycle\n",
    "q = Solution()\n",
    "graph1 = { 0 : [1, 2],\n",
    "           1 : [0, 2],\n",
    "           2 : [0, 1] }\n",
    " \n",
    "       \n",
    "assert(q.detect_cycle(graph1) == True) \n",
    "print(\"Graph1 has a cycle.\")\n",
    " \n",
    "#--------------------------------------------\n",
    " \n",
    "# disconnected graph with cycle\n",
    "q = Solution()\n",
    "graph2 = { 0 : [1],\n",
    "           1 : [0],\n",
    "           2 : [3, 4],\n",
    "           3 : [2, 4],\n",
    "           4 : [2, 3] }\n",
    "       \n",
    "assert(q.detect_cycle(graph2) == True)\n",
    "print(\"Graph2 has a cycle.\")\n",
    " \n",
    "#--------------------------------------------\n",
    " \n",
    "# connected graph without a cycle (i.e. a tree)\n",
    "q = Solution()\n",
    "graph3 = { 0 : [1, 2],\n",
    "           1 : [0],\n",
    "           2 : [0] }\n",
    "       \n",
    "assert(q.detect_cycle(graph3) == False)\n",
    "print(\"Graph3 has no cycle.\")\n",
    " \n",
    "#--------------------------------------------\n",
    " \n",
    "# disconnected graph without a cycle (i.e. a forest)\n",
    "q = Solution()\n",
    "graph4 = { 0 : [],\n",
    "           1 : [],\n",
    "           2 : [3, 4],\n",
    "           3 : [2],\n",
    "           4 : [2] }\n",
    "       \n",
    "assert(q.detect_cycle(graph4) == False)\n",
    "print(\"Graph4 has no cycle.\")\n",
    " \n",
    "#--------------------------------------------\n",
    " \n",
    "# If assert raises an error, then a test case was not passed.\n",
    "print(\"\\nAlgorithm passed all test cases.\")"
   ]
  }
 ],
 "metadata": {
  "kernelspec": {
   "display_name": "Python 2",
   "language": "python",
   "name": "python2"
  },
  "language_info": {
   "codemirror_mode": {
    "name": "ipython",
    "version": 2
   },
   "file_extension": ".py",
   "mimetype": "text/x-python",
   "name": "python",
   "nbconvert_exporter": "python",
   "pygments_lexer": "ipython2",
   "version": "2.7.12"
  }
 },
 "nbformat": 4,
 "nbformat_minor": 1
}
