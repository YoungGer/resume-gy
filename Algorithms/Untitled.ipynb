{
 "cells": [
  {
   "cell_type": "code",
   "execution_count": 1,
   "metadata": {
    "collapsed": false
   },
   "outputs": [
    {
     "data": {
      "text/plain": [
       "0.7857142857142857"
      ]
     },
     "execution_count": 1,
     "metadata": {},
     "output_type": "execute_result"
    }
   ],
   "source": [
    "11.0/14"
   ]
  },
  {
   "cell_type": "markdown",
   "metadata": {},
   "source": [
    "# prepare"
   ]
  },
  {
   "cell_type": "code",
   "execution_count": 16,
   "metadata": {
    "collapsed": false
   },
   "outputs": [],
   "source": [
    "import sys\n",
    "while True:\n",
    "    line = sys.stdin.readline().strip()\n",
    "    if line == '':\n",
    "        break \n",
    "    nums = map(int, line.split())\n",
    "    n, k = nums[0],nums[1]\n",
    "    rst = 0\n",
    "    for i in range(k):\n",
    "        rst += n\n",
    "        n = n**0.5\n",
    "    print \"{:.2f}\".format(rst)"
   ]
  },
  {
   "cell_type": "code",
   "execution_count": 13,
   "metadata": {
    "collapsed": false
   },
   "outputs": [
    {
     "data": {
      "text/plain": [
       "'10001'"
      ]
     },
     "execution_count": 13,
     "metadata": {},
     "output_type": "execute_result"
    }
   ],
   "source": [
    "'{:b}'.format(17)"
   ]
  },
  {
   "cell_type": "code",
   "execution_count": 15,
   "metadata": {
    "collapsed": false
   },
   "outputs": [
    {
     "data": {
      "text/plain": [
       "'1.24'"
      ]
     },
     "execution_count": 15,
     "metadata": {},
     "output_type": "execute_result"
    }
   ],
   "source": [
    "\"{:.2f}\".format(1.235)"
   ]
  },
  {
   "cell_type": "markdown",
   "metadata": {},
   "source": [
    "# 1"
   ]
  },
  {
   "cell_type": "code",
   "execution_count": 37,
   "metadata": {
    "collapsed": true
   },
   "outputs": [],
   "source": [
    "nums = [1, 3, 1, 2, 5, 4, 3, 1, 9, 10]"
   ]
  },
  {
   "cell_type": "code",
   "execution_count": 105,
   "metadata": {
    "collapsed": true
   },
   "outputs": [],
   "source": [
    "# 30\n",
    "def get_qujian(nums):\n",
    "    feng_array = []\n",
    "    for i,k in enumerate(nums):\n",
    "        if i-1>=0 and i+1<len(nums) and k>nums[i-1] and k>nums[i+1]:\n",
    "            feng_array.append(i)\n",
    "    \n",
    "    rst = -float(\"inf\")\n",
    "    pair = None\n",
    "    for fi in feng_array:\n",
    "\n",
    "        left = 0\n",
    "        for i in range(fi-1,-1,-1):\n",
    "            if nums[i]<nums[i+1]:\n",
    "                left += 1\n",
    "            else:\n",
    "                break\n",
    "\n",
    "        right = 0\n",
    "        for j in range(fi+1,len(nums)):\n",
    "            if nums[j]<nums[j-1]:\n",
    "                right += 1\n",
    "            else:\n",
    "                break\n",
    "        overall = left+right+1\n",
    "        \n",
    "        if overall>rst:\n",
    "            rst = overall\n",
    "            pair = [i+1,j-1]\n",
    "        \n",
    "\n",
    "    return pair\n",
    "\n",
    "import sys\n",
    "while True:\n",
    "    line1 = sys.stdin.readline().strip()\n",
    "    line2 = sys.stdin.readline().strip()\n",
    "    if not line1  or not line2:\n",
    "        break \n",
    "    nums = map(int, line2.split())\n",
    "    i,j = get_qujian(nums)\n",
    "    print i,j"
   ]
  },
  {
   "cell_type": "code",
   "execution_count": 32,
   "metadata": {
    "collapsed": true
   },
   "outputs": [],
   "source": [
    "def get_qujian(nums):\n",
    "    left = [0]*len(nums)\n",
    "    right  = [0]*len(nums)\n",
    "    over = [0]*len(nums)\n",
    "    \n",
    "    for i,k in enumerate(nums):\n",
    "        if i==0:\n",
    "            continue\n",
    "        if k>nums[i-1]:\n",
    "            left[i] = left[i-1]+1\n",
    "\n",
    "    for i in range(len(nums)-1,-1,-1):\n",
    "        if i==len(nums)-1:\n",
    "            continue\n",
    "        if nums[i]>nums[i+1]:\n",
    "            right[i] = right[i+1]+1\n",
    "\n",
    "    for i in range(len(nums)):\n",
    "        over[i] = left[i]+right[i]+1\n",
    "    max_v = -float(\"inf\")\n",
    "    max_i = None\n",
    "    for i,k in enumerate(over):\n",
    "        if k>max_v:\n",
    "            max_v = k\n",
    "            max_i = i\n",
    "\n",
    "    try:\n",
    "        for i in range(max_i-1,-1,-1):\n",
    "            if left[i]==0:\n",
    "                break\n",
    "        for j in range(max_i+1,len(nums)):\n",
    "            if right[j]==0:\n",
    "                break    \n",
    "        return [i,j]\n",
    "    except:\n",
    "        return [-1,-1]\n",
    "    \n",
    "import sys\n",
    "while True:\n",
    "    line1 = sys.stdin.readline().strip()\n",
    "    line2 = sys.stdin.readline().strip()\n",
    "    if not line1  or not line2:\n",
    "        break \n",
    "    nums = map(int, line2.split())\n",
    "    i,j = get_qujian(nums)\n",
    "    print i,j"
   ]
  },
  {
   "cell_type": "code",
   "execution_count": null,
   "metadata": {
    "collapsed": true
   },
   "outputs": [],
   "source": [
    "def get_qujian(nums):\n",
    "    left = [0]*len(nums)\n",
    "    right  = [0]*len(nums)\n",
    "    over = [0]*len(nums)\n",
    "    \n",
    "    for i,k in enumerate(nums):\n",
    "        if i==0:\n",
    "            continue\n",
    "        if k>nums[i-1]:\n",
    "            left[i] = left[i-1]+1\n",
    "\n",
    "    for i in range(len(nums)-1,-1,-1):\n",
    "        if i==len(nums)-1:\n",
    "            continue\n",
    "        if nums[i]>nums[i+1]:\n",
    "            right[i] = right[i+1]+1\n",
    "\n",
    "    for i in range(len(nums)):\n",
    "        over[i] = left[i]+right[i]+1\n",
    "    max_v = -float(\"inf\")\n",
    "    max_i = None\n",
    "    for i,k in enumerate(over):\n",
    "        if k>max_v:\n",
    "            max_v = k\n",
    "            max_i = i\n",
    "\n",
    "    try:\n",
    "        for i in range(max_i-1,-1,-1):\n",
    "            if left[i]==0:\n",
    "                break\n",
    "        for j in range(max_i+1,len(nums)):\n",
    "            if right[j]==0:\n",
    "                break \n",
    "        if i>=j:\n",
    "            return [-1,-1]\n",
    "        else:\n",
    "            return [i,j]\n",
    "    except:\n",
    "        return [-1,-1]\n",
    "    \n",
    "import sys\n",
    "while True:\n",
    "    line1 = sys.stdin.readline().strip()\n",
    "    line2 = sys.stdin.readline().strip()\n",
    "    if not line1  or not line2:\n",
    "        break \n",
    "    nums = map(int, line2.split())\n",
    "    i,j = get_qujian(nums)\n",
    "    print i,j"
   ]
  },
  {
   "cell_type": "code",
   "execution_count": 36,
   "metadata": {
    "collapsed": false
   },
   "outputs": [
    {
     "data": {
      "text/plain": [
       "[3, 1]"
      ]
     },
     "execution_count": 36,
     "metadata": {},
     "output_type": "execute_result"
    }
   ],
   "source": [
    "get_qujian([1,1,1,1])"
   ]
  },
  {
   "cell_type": "markdown",
   "metadata": {},
   "source": [
    "# 2"
   ]
  },
  {
   "cell_type": "code",
   "execution_count": 88,
   "metadata": {
    "collapsed": true
   },
   "outputs": [],
   "source": [
    "s1 = [\"An algorithm is an effective method that can be expressed within a finite amount of space and time\",\n",
    "\"Starting from an initial state and initial input the instructions describe a computation\",\n",
    "\"That when executed proceeds through a finite number of successive states\",\n",
    "\"Eventually producing output and terminating at a final ending state\",\n",
    "\"The transition from one state to the next is not necessarily deterministic\",\n",
    "\"Some algorithms known as randomized algorithms incorporate random input\"]\n",
    "\n",
    "s2 = [\"Next to the transition\",\n",
    "\"Wormhole infinite time and space\",\n",
    "\"The transition from one state to the next is not necessarily deterministic\"]"
   ]
  },
  {
   "cell_type": "code",
   "execution_count": 103,
   "metadata": {
    "collapsed": true
   },
   "outputs": [],
   "source": [
    "def f(s1,s2):\n",
    "    h1 = map(lambda x:set(x.strip().split()), s1)\n",
    "    h2 = map(lambda x:set(x.strip().split()), s2)\n",
    "    rst = []\n",
    "    for i2,k2 in enumerate(h2):\n",
    "        maxl = -float(\"inf\")\n",
    "        maxi = None\n",
    "        for i1,k1 in enumerate(h1):\n",
    "            if len(k1&k2)>maxl:\n",
    "                maxl = len(k1&k2)\n",
    "                maxi = i1\n",
    "        rst.append(maxi)\n",
    "    return rst\n",
    "        \n",
    "import sys\n",
    "while True:\n",
    "    line1 = sys.stdin.readline().strip()\n",
    "    if not line1:\n",
    "        break \n",
    "    N,M = map(int, line1.split())\n",
    "    s1 = []\n",
    "    for i in range(N):\n",
    "        s1.append(sys.stdin.readline().strip())\n",
    "    s2 = []\n",
    "    for i in range(M):\n",
    "        s2.append(sys.stdin.readline().strip())\n",
    "    for i in f(s1,s2):\n",
    "        print s1[i]"
   ]
  },
  {
   "cell_type": "code",
   "execution_count": 104,
   "metadata": {
    "collapsed": false
   },
   "outputs": [
    {
     "name": "stdout",
     "output_type": "stream",
     "text": [
      "The transition from one state to the next is not necessarily deterministic\n",
      "An algorithm is an effective method that can be expressed within a finite amount of space and time\n",
      "The transition from one state to the next is not necessarily deterministic\n"
     ]
    }
   ],
   "source": [
    "for i in f(s1,s2):\n",
    "    print s1[i]"
   ]
  },
  {
   "cell_type": "code",
   "execution_count": 98,
   "metadata": {
    "collapsed": false
   },
   "outputs": [
    {
     "data": {
      "text/plain": [
       "[4, 0, 4]"
      ]
     },
     "execution_count": 98,
     "metadata": {},
     "output_type": "execute_result"
    }
   ],
   "source": [
    "rst"
   ]
  },
  {
   "cell_type": "code",
   "execution_count": 95,
   "metadata": {
    "collapsed": false
   },
   "outputs": [
    {
     "data": {
      "text/plain": [
       "{'is'}"
      ]
     },
     "execution_count": 95,
     "metadata": {},
     "output_type": "execute_result"
    }
   ],
   "source": [
    "h2[2] & h1[0]"
   ]
  },
  {
   "cell_type": "markdown",
   "metadata": {},
   "source": [
    "# 3"
   ]
  },
  {
   "cell_type": "code",
   "execution_count": null,
   "metadata": {
    "collapsed": true
   },
   "outputs": [],
   "source": [
    "[][][]"
   ]
  },
  {
   "cell_type": "code",
   "execution_count": null,
   "metadata": {
    "collapsed": true
   },
   "outputs": [],
   "source": [
    "[[[]]][] "
   ]
  },
  {
   "cell_type": "code",
   "execution_count": 29,
   "metadata": {
    "collapsed": true
   },
   "outputs": [],
   "source": [
    "def single():\n",
    "    print \"+-+\"\n",
    "    print \"| |\"\n",
    "    print\n",
    "    print \"| |\"\n",
    "    print \"+-+\"\n",
    "def f(s):\n",
    "    for i in s:\n",
    "        if i==\"]\":\n",
    "            single()\n",
    "while True:\n",
    "    line1 = sys.stdin.readline().strip()\n",
    "    if not line1:\n",
    "        break \n",
    "    f(line1)"
   ]
  },
  {
   "cell_type": "code",
   "execution_count": 30,
   "metadata": {
    "collapsed": false
   },
   "outputs": [
    {
     "name": "stdout",
     "output_type": "stream",
     "text": [
      "+-+\n",
      "| |\n",
      "\n",
      "| |\n",
      "+-+\n",
      "+-+\n",
      "| |\n",
      "\n",
      "| |\n",
      "+-+\n",
      "+-+\n",
      "| |\n",
      "\n",
      "| |\n",
      "+-+\n"
     ]
    }
   ],
   "source": [
    "fi = open(\"../1.txt\")\n",
    "while True:\n",
    "    line1 = fi.readline().strip()\n",
    "    if not line1:\n",
    "        break \n",
    "    f(line1)"
   ]
  },
  {
   "cell_type": "code",
   "execution_count": 31,
   "metadata": {
    "collapsed": false
   },
   "outputs": [],
   "source": [
    "def single():\n",
    "    print \"+-+\"\n",
    "    print \"||\"\n",
    "    print\n",
    "    print \"||\"\n",
    "    print \"+-+\"\n",
    "def f(s):\n",
    "    for i in s:\n",
    "        if i==\"]\":\n",
    "            single()\n",
    "\n",
    "while True:\n",
    "    line1 = sys.stdin.readline().strip()\n",
    "    if not line1:\n",
    "        break \n",
    "    print \"+-+\"\n",
    "    print \"||\"\n",
    "    print\n",
    "    print \"||\"\n",
    "    print \"+-+\"\n",
    "    print \"+-+\"\n",
    "    print \"||\"\n",
    "    print\n",
    "    print \"||\"\n",
    "    print \"+-+\"\n",
    "    print \"+-+\"\n",
    "    print \"||\"\n",
    "    print\n",
    "    print \"||\"\n",
    "    print \"+-+\""
   ]
  },
  {
   "cell_type": "markdown",
   "metadata": {},
   "source": [
    "# 4"
   ]
  },
  {
   "cell_type": "code",
   "execution_count": 135,
   "metadata": {
    "collapsed": true
   },
   "outputs": [],
   "source": [
    "import bisect"
   ]
  },
  {
   "cell_type": "code",
   "execution_count": 128,
   "metadata": {
    "collapsed": true
   },
   "outputs": [],
   "source": [
    "A = [3,2,4]\n",
    "B = [6,5,8]"
   ]
  },
  {
   "cell_type": "code",
   "execution_count": 129,
   "metadata": {
    "collapsed": true
   },
   "outputs": [],
   "source": [
    "A1 = zip(A,range(len(A)))"
   ]
  },
  {
   "cell_type": "code",
   "execution_count": 131,
   "metadata": {
    "collapsed": false
   },
   "outputs": [],
   "source": [
    "A1.sort()"
   ]
  },
  {
   "cell_type": "code",
   "execution_count": 132,
   "metadata": {
    "collapsed": false
   },
   "outputs": [
    {
     "data": {
      "text/plain": [
       "[(2, 1), (3, 0), (4, 2)]"
      ]
     },
     "execution_count": 132,
     "metadata": {},
     "output_type": "execute_result"
    }
   ],
   "source": [
    "A1"
   ]
  },
  {
   "cell_type": "code",
   "execution_count": 133,
   "metadata": {
    "collapsed": true
   },
   "outputs": [],
   "source": [
    "A1_nums = map(lambda x:x[0],A1)"
   ]
  },
  {
   "cell_type": "code",
   "execution_count": 134,
   "metadata": {
    "collapsed": false
   },
   "outputs": [
    {
     "data": {
      "text/plain": [
       "[2, 3, 4]"
      ]
     },
     "execution_count": 134,
     "metadata": {},
     "output_type": "execute_result"
    }
   ],
   "source": [
    "A1_nums"
   ]
  },
  {
   "cell_type": "code",
   "execution_count": 142,
   "metadata": {
    "collapsed": false
   },
   "outputs": [],
   "source": [
    "indexA = bisect.bisect_left(A1_nums,3)"
   ]
  },
  {
   "cell_type": "code",
   "execution_count": 144,
   "metadata": {
    "collapsed": false
   },
   "outputs": [
    {
     "data": {
      "text/plain": [
       "[0, 2]"
      ]
     },
     "execution_count": 144,
     "metadata": {},
     "output_type": "execute_result"
    }
   ],
   "source": [
    "map(lambda x:x[1],A1[indexA:])"
   ]
  },
  {
   "cell_type": "code",
   "execution_count": 146,
   "metadata": {
    "collapsed": true
   },
   "outputs": [],
   "source": [
    "def f(A,B,a,b):\n",
    "    # parta\n",
    "    A1 = zip(A,range(len(A)))\n",
    "    A1.sort()\n",
    "    A1_nums = map(lambda x:x[0],A1)\n",
    "    indexA = bisect.bisect_left(A1_nums,a)\n",
    "    if indexA<len(A):\n",
    "        setA = set(map(lambda x:x[1],A1[indexA:]))\n",
    "    else:\n",
    "        setA = set()\n",
    "    # partb\n",
    "        # parta\n",
    "    B1 = zip(B,range(len(B)))\n",
    "    B1.sort()\n",
    "    B1_nums = map(lambda x:x[0],B1)\n",
    "    indexB = bisect.bisect_left(B1_nums,b)\n",
    "    if indexB<len(B):\n",
    "        setB = set(map(lambda x:x[1],B1[indexB:]))\n",
    "    else:\n",
    "        setB = set()\n",
    "    return len(setA & setB)"
   ]
  },
  {
   "cell_type": "code",
   "execution_count": 7,
   "metadata": {
    "collapsed": true
   },
   "outputs": [],
   "source": [
    "import bisect\n",
    "class Solution():\n",
    "    def __init__(self, A,B):\n",
    "        # parta\n",
    "        self.A1 = zip(A,range(len(A)))\n",
    "        self.A1.sort()\n",
    "        self.A1_nums = map(lambda x:x[0],self.A1)\n",
    "        # partb\n",
    "        self.B1 = zip(B,range(len(B)))\n",
    "        self.B1.sort()\n",
    "        self.B1_nums = map(lambda x:x[0],self.B1)\n",
    "        \n",
    "    def f(self,a,b):\n",
    "        indexA = bisect.bisect_left(self.A1_nums,a)\n",
    "        if indexA<len(self.A1):\n",
    "            setA = set(map(lambda x:x[1],self.A1[indexA:]))\n",
    "        else:\n",
    "            setA = set()\n",
    "            \n",
    "        indexB = bisect.bisect_left(self.B1_nums,b)\n",
    "        if indexB<len(self.B1):\n",
    "            setB = set(map(lambda x:x[1],self.B1[indexB:]))\n",
    "        else:\n",
    "            setB = set()\n",
    "    \n",
    "        return len(setA & setB)\n",
    "    \n",
    "import sys\n",
    "while True:\n",
    "    line1 = sys.stdin.readline().strip()\n",
    "    if not line1:\n",
    "        break \n",
    "    n,q = map(int, line1.split())\n",
    "    \n",
    "    A = map(int, sys.stdin.readline().strip().split())\n",
    "    B = map(int, sys.stdin.readline().strip().split())\n",
    "    \n",
    "    queres = []\n",
    "    for i in range(q):\n",
    "        queres.append(map(int, sys.stdin.readline().strip().split()))\n",
    "    \n",
    "    Q = Solution(A,B)\n",
    "    for qi in queres:\n",
    "        print Q.f(qi[0],qi[1])"
   ]
  },
  {
   "cell_type": "code",
   "execution_count": 17,
   "metadata": {
    "collapsed": true
   },
   "outputs": [],
   "source": [
    "import bisect\n",
    "class Solution():\n",
    "    def __init__(self, A,B):\n",
    "    \n",
    "        self.A1 = zip(A,range(len(A)))\n",
    "        self.A1.sort()\n",
    "        self.A1_nums = map(lambda x:x[0],self.A1)\n",
    "        self.A1_idx = map(lambda x:x[1],self.A1)\n",
    "\n",
    "        self.B1 = zip(B,range(len(B)))\n",
    "        self.B1.sort()\n",
    "        self.B1_nums = map(lambda x:x[0],self.B1)\n",
    "        self.B1_idx = map(lambda x:x[1],self.B1)\n",
    "        \n",
    "    def f(self,a,b):\n",
    "        indexA = bisect.bisect_left(self.A1_nums,a)\n",
    "        if indexA<len(self.A1):\n",
    "            setA = set(self.A1_idx[indexA:])\n",
    "        else:\n",
    "            setA = set()\n",
    "            \n",
    "        indexB = bisect.bisect_left(self.B1_nums,b)\n",
    "        if indexB<len(self.B1):\n",
    "            setB = set(self.B1_idx[indexB:])\n",
    "        else:\n",
    "            setB = set()\n",
    "    \n",
    "        return len(setA & setB)\n",
    "        \n",
    "\n",
    "import sys\n",
    "while True:\n",
    "    line1 = sys.stdin.readline().strip()\n",
    "    if not line1:\n",
    "        break \n",
    "    n,q = map(int, line1.split())\n",
    "    \n",
    "    A = map(int, sys.stdin.readline().strip().split())\n",
    "    B = map(int, sys.stdin.readline().strip().split())\n",
    "    \n",
    "    queres = []\n",
    "    for i in range(q):\n",
    "        queres.append(map(int, sys.stdin.readline().strip().split()))\n",
    "    \n",
    "    q = Solution(A,B)\n",
    "    for qi in queres:\n",
    "        print q.f(qi[0],qi[1])"
   ]
  },
  {
   "cell_type": "code",
   "execution_count": 18,
   "metadata": {
    "collapsed": false
   },
   "outputs": [],
   "source": [
    "q = Solution(A,B)"
   ]
  },
  {
   "cell_type": "code",
   "execution_count": 19,
   "metadata": {
    "collapsed": false
   },
   "outputs": [],
   "source": [
    "f = open(\"../1.txt\")"
   ]
  },
  {
   "cell_type": "code",
   "execution_count": 20,
   "metadata": {
    "collapsed": false
   },
   "outputs": [
    {
     "name": "stdout",
     "output_type": "stream",
     "text": [
      "3\n",
      "1\n"
     ]
    }
   ],
   "source": [
    "import sys\n",
    "import bisect\n",
    "while True:\n",
    "    line1 = f.readline().strip()\n",
    "    if not line1:\n",
    "        break \n",
    "    n,q = map(int, line1.split())\n",
    "    \n",
    "    A = map(int, f.readline().strip().split())\n",
    "    B = map(int, f.readline().strip().split())\n",
    "    \n",
    "    queres = []\n",
    "    for i in range(q):\n",
    "        queres.append(map(int, f.readline().strip().split()))\n",
    "    \n",
    "    Q = Solution(A,B)\n",
    "    for qi in queres:\n",
    "        print Q.f(qi[0],qi[1])"
   ]
  },
  {
   "cell_type": "markdown",
   "metadata": {},
   "source": [
    "# JD"
   ]
  },
  {
   "cell_type": "code",
   "execution_count": 4,
   "metadata": {
    "collapsed": false
   },
   "outputs": [],
   "source": [
    "a = int(\"1100\",2)\n",
    "b = int(\"0100\",2)"
   ]
  },
  {
   "cell_type": "code",
   "execution_count": 6,
   "metadata": {
    "collapsed": false
   },
   "outputs": [
    {
     "data": {
      "text/plain": [
       "8"
      ]
     },
     "execution_count": 6,
     "metadata": {},
     "output_type": "execute_result"
    }
   ],
   "source": [
    "b^a"
   ]
  },
  {
   "cell_type": "code",
   "execution_count": 7,
   "metadata": {
    "collapsed": false
   },
   "outputs": [],
   "source": [
    "import sys\n",
    "while True:\n",
    "    line1 = sys.stdin.readline().strip()\n",
    "    if not line1:\n",
    "        break \n",
    "    line2 = sys.stdin.readline().strip()\n",
    "    line3 = sys.stdin.readline().strip()\n",
    "    \n",
    "    a = int(line1,2)\n",
    "    b = int(line2,2)\n",
    "    print a^b"
   ]
  },
  {
   "cell_type": "code",
   "execution_count": 8,
   "metadata": {
    "collapsed": true
   },
   "outputs": [],
   "source": [
    "X = [2,3,5,7]\n",
    "L = [2,1,2,3]\n",
    "X2 = map(lambda x:x[0]+x[1], zip(X,L))"
   ]
  },
  {
   "cell_type": "code",
   "execution_count": 10,
   "metadata": {
    "collapsed": false
   },
   "outputs": [],
   "source": [
    "X2 = map(lambda x:x[0]+x[1], zip(X,L))"
   ]
  },
  {
   "cell_type": "code",
   "execution_count": 11,
   "metadata": {
    "collapsed": false
   },
   "outputs": [
    {
     "data": {
      "text/plain": [
       "[4, 4, 7, 10]"
      ]
     },
     "execution_count": 11,
     "metadata": {},
     "output_type": "execute_result"
    }
   ],
   "source": [
    "X2"
   ]
  },
  {
   "cell_type": "code",
   "execution_count": 31,
   "metadata": {
    "collapsed": false
   },
   "outputs": [],
   "source": [
    "def f(start,end):\n",
    "    maxOverlap = 0\n",
    "    maxi = None\n",
    "    maxj = None\n",
    "    currentOverlap = 0\n",
    "    \n",
    "    start = sorted(start)\n",
    "    end = sorted(end)\n",
    "    \n",
    "    i,j = 0,0\n",
    "    while i<len(start) and j<len(end):\n",
    "        if start[i]<=end[j]:\n",
    "            currentOverlap += 1\n",
    "            if currentOverlap>maxOverlap:\n",
    "                maxOverlap = currentOverlap\n",
    "                maxi = i\n",
    "                maxj = j\n",
    "            i += 1\n",
    "        else:\n",
    "            currentOverlap -= 1\n",
    "            j += 1\n",
    "    return maxOverlap,start[maxi],end[maxj]"
   ]
  },
  {
   "cell_type": "code",
   "execution_count": 21,
   "metadata": {
    "collapsed": true
   },
   "outputs": [],
   "source": [
    "X = [2,3,5,7]\n",
    "L = [2,1,2,3]\n",
    "X2 = map(lambda x:x[0]+x[1], zip(X,L))"
   ]
  },
  {
   "cell_type": "code",
   "execution_count": 46,
   "metadata": {
    "collapsed": true
   },
   "outputs": [],
   "source": [
    "def f(start,end):\n",
    "    maxOverlap = 0\n",
    "    maxi = None\n",
    "    maxj = None\n",
    "    currentOverlap = 0\n",
    "    \n",
    "    start = sorted(start)\n",
    "    end = sorted(end)\n",
    "    \n",
    "    i,j = 0,0\n",
    "    while i<len(start) and j<len(end):\n",
    "        if start[i]<=end[j]:\n",
    "            currentOverlap += 1\n",
    "            if currentOverlap>maxOverlap:\n",
    "                maxOverlap = currentOverlap\n",
    "                maxi = i\n",
    "                maxj = j\n",
    "            i += 1\n",
    "        else:\n",
    "            currentOverlap -= 1\n",
    "            j += 1\n",
    "    return maxOverlap,start[maxi],end[maxj]\n",
    "\n",
    "def f2(start,end):\n",
    "    try:\n",
    "        count1,left,right = f(start,end)\n",
    "    except:\n",
    "        return 0\n",
    "    \n",
    "    new = [[l,r] for l,r in zip(start,end) if l>right or r<left]\n",
    "    new_start = map(lambda x:x[0],new)\n",
    "    new_end = map(lambda x:x[1],new)\n",
    "    \n",
    "    try:\n",
    "        count2,left,right = f(new_start,new_end)\n",
    "    except:\n",
    "        count2 = 0\n",
    "    \n",
    "    return count1+count2\n",
    "\n",
    "import sys\n",
    "while True:\n",
    "    line1 = sys.stdin.readline().strip()\n",
    "    if not line1:\n",
    "        break \n",
    "    N = int(line1)\n",
    "    start,length = [],[]\n",
    "    for i in range(N):\n",
    "        line = sys.stdin.readline().strip()\n",
    "        m,n = map(int, line.split())\n",
    "        start.append(m)\n",
    "        length.append(n)\n",
    "    end = []\n",
    "    for i in range(N):\n",
    "        end.append(start[i]+length[i])\n",
    "    print f2(start,end)"
   ]
  },
  {
   "cell_type": "code",
   "execution_count": 20,
   "metadata": {
    "collapsed": false
   },
   "outputs": [
    {
     "data": {
      "text/plain": [
       "5"
      ]
     },
     "execution_count": 20,
     "metadata": {},
     "output_type": "execute_result"
    }
   ],
   "source": [
    "end[1]"
   ]
  },
  {
   "cell_type": "code",
   "execution_count": 53,
   "metadata": {
    "collapsed": false
   },
   "outputs": [
    {
     "data": {
      "text/plain": [
       "[[2, 2], [1, 2], [1, 3]]"
      ]
     },
     "execution_count": 53,
     "metadata": {},
     "output_type": "execute_result"
    }
   ],
   "source": [
    "sorted([[1,2],[2,2],[1,3]], key=lambda x:[x[1],-x[0]])"
   ]
  },
  {
   "cell_type": "code",
   "execution_count": 61,
   "metadata": {
    "collapsed": true
   },
   "outputs": [],
   "source": [
    "# Definition for an interval.\n",
    "# class Interval(object):\n",
    "#     def __init__(self, s=0, e=0):\n",
    "#         self.start = s\n",
    "#         self.end = e\n",
    "\n",
    "class Solution(object):\n",
    "    def eraseOverlapIntervals(self, intervals):\n",
    "        \"\"\"\n",
    "        :type intervals: List[Interval]\n",
    "        :rtype: int\n",
    "        \"\"\"\n",
    "        intervals = sorted(intervals, key=lambda x:[x[1],-x[0]])\n",
    "        last_s, last_e = None, -float(\"inf\")\n",
    "        rst = 0\n",
    "        for s, e in intervals:\n",
    "            if s<last_e:\n",
    "                # overlap\n",
    "                rst += 1\n",
    "            else:\n",
    "                last_s, last_e = s, e\n",
    "        return rst"
   ]
  },
  {
   "cell_type": "code",
   "execution_count": 62,
   "metadata": {
    "collapsed": false
   },
   "outputs": [
    {
     "data": {
      "text/plain": [
       "0"
      ]
     },
     "execution_count": 62,
     "metadata": {},
     "output_type": "execute_result"
    }
   ],
   "source": [
    "x =[[1,2]]\n",
    "q = Solution()\n",
    "q.eraseOverlapIntervals(x)"
   ]
  },
  {
   "cell_type": "code",
   "execution_count": 64,
   "metadata": {
    "collapsed": true
   },
   "outputs": [],
   "source": [
    "import numpy as np"
   ]
  },
  {
   "cell_type": "code",
   "execution_count": 65,
   "metadata": {
    "collapsed": false
   },
   "outputs": [
    {
     "data": {
      "text/plain": [
       "0.0024787521766663585"
      ]
     },
     "execution_count": 65,
     "metadata": {},
     "output_type": "execute_result"
    }
   ],
   "source": [
    "np.exp(-6)"
   ]
  },
  {
   "cell_type": "code",
   "execution_count": 69,
   "metadata": {
    "collapsed": false
   },
   "outputs": [],
   "source": [
    "x = np.random.randn(3,3)"
   ]
  },
  {
   "cell_type": "code",
   "execution_count": 87,
   "metadata": {
    "collapsed": false
   },
   "outputs": [],
   "source": [
    "U,S,V = np.linalg.svd(x)"
   ]
  },
  {
   "cell_type": "code",
   "execution_count": 88,
   "metadata": {
    "collapsed": false
   },
   "outputs": [
    {
     "data": {
      "text/plain": [
       "array([[ 0.05245019,  0.59589489, -0.80134777],\n",
       "       [-0.43253835, -0.70971757, -0.55606793],\n",
       "       [-0.90008863,  0.37577952,  0.22052257]])"
      ]
     },
     "execution_count": 88,
     "metadata": {},
     "output_type": "execute_result"
    }
   ],
   "source": [
    "U"
   ]
  },
  {
   "cell_type": "code",
   "execution_count": 89,
   "metadata": {
    "collapsed": false
   },
   "outputs": [
    {
     "data": {
      "text/plain": [
       "array([[ 0.1529024 , -0.45928923,  0.87502815],\n",
       "       [-0.81358774,  0.44411894,  0.37527772],\n",
       "       [-0.56097758, -0.76929303, -0.30576523]])"
      ]
     },
     "execution_count": 89,
     "metadata": {},
     "output_type": "execute_result"
    }
   ],
   "source": [
    "V"
   ]
  },
  {
   "cell_type": "code",
   "execution_count": 90,
   "metadata": {
    "collapsed": false
   },
   "outputs": [
    {
     "data": {
      "text/plain": [
       "array([[ 0.05245019, -0.43253835, -0.90008863],\n",
       "       [ 0.59589489, -0.70971757,  0.37577952],\n",
       "       [-0.80134777, -0.55606793,  0.22052257]])"
      ]
     },
     "execution_count": 90,
     "metadata": {},
     "output_type": "execute_result"
    }
   ],
   "source": [
    "np.linalg.inv(U)"
   ]
  },
  {
   "cell_type": "markdown",
   "metadata": {},
   "source": [
    "# 滴滴"
   ]
  },
  {
   "cell_type": "markdown",
   "metadata": {
    "collapsed": true
   },
   "source": [
    "# 2"
   ]
  },
  {
   "cell_type": "code",
   "execution_count": 1,
   "metadata": {
    "collapsed": true
   },
   "outputs": [],
   "source": [
    "from collections import deque\n",
    "class Solution(object):\n",
    "    def neighbor(self, node):\n",
    "        i,j = node\n",
    "        for m,n in [(i-1,j), (i+1,j), (i,j-1), (i,j+1)]:\n",
    "            if m>=0 and m<self.R and n>=0 and n<self.C:\n",
    "                yield (m,n)\n",
    "     \n",
    "    def bfs(self, node):\n",
    "        self.seen.add(node)\n",
    "        queues = deque([node])\n",
    "        while queues:\n",
    "            node = queues.popleft()\n",
    "            for nei in self.neighbor(node):\n",
    "                if nei not in self.seen and self.grid[nei[0]][nei[1]]==\"1\":\n",
    "                    self.seen.add(nei)\n",
    "                    queues.append(nei)\n",
    "        \n",
    "        \n",
    "\n",
    "    def numIslands(self, grid):\n",
    "        \"\"\"\n",
    "        :type grid: List[List[str]]\n",
    "        :rtype: int\n",
    "        \"\"\"\n",
    "        if not grid: return 0\n",
    "        \n",
    "        self.R = len(grid)\n",
    "        self.C = len(grid[0])\n",
    "        self.seen = set()\n",
    "        self.grid = grid\n",
    "        \n",
    "        rst = 0\n",
    "        for i in range(self.R):\n",
    "            for j in range(self.C):\n",
    "                if (i,j) not in self.seen and grid[i][j]==\"1\":\n",
    "                    #print (i,j),self.seen\n",
    "                    rst += 1\n",
    "                    self.bfs((i,j))\n",
    "        \n",
    "        return rst"
   ]
  },
  {
   "cell_type": "code",
   "execution_count": 3,
   "metadata": {
    "collapsed": false
   },
   "outputs": [
    {
     "data": {
      "text/plain": [
       "3"
      ]
     },
     "execution_count": 3,
     "metadata": {},
     "output_type": "execute_result"
    }
   ],
   "source": [
    "grid = [\"11000\",\n",
    "\"11000\",\n",
    "\"00100\",\n",
    "\"00011\"]\n",
    "q = Solution()\n",
    "q.numIslands(grid)"
   ]
  },
  {
   "cell_type": "markdown",
   "metadata": {},
   "source": [
    "# 1"
   ]
  },
  {
   "cell_type": "code",
   "execution_count": 4,
   "metadata": {
    "collapsed": true
   },
   "outputs": [],
   "source": [
    "import string"
   ]
  },
  {
   "cell_type": "code",
   "execution_count": 6,
   "metadata": {
    "collapsed": false
   },
   "outputs": [],
   "source": [
    "h = {\"2\":\"abc\", \"3\":\"def\", \"4\":\"ghi\",\"5\":\"jkl\", \"6\":\"mno\", \"7\":\"pqrs\", \"8\":\"tuv\", \"9\":\"wxyz\"}"
   ]
  },
  {
   "cell_type": "code",
   "execution_count": 10,
   "metadata": {
    "collapsed": false
   },
   "outputs": [],
   "source": [
    "h2 = {}\n",
    "for k,v in h.items():\n",
    "    for vi in v:\n",
    "        h2[vi] = k"
   ]
  },
  {
   "cell_type": "code",
   "execution_count": 14,
   "metadata": {
    "collapsed": false
   },
   "outputs": [
    {
     "data": {
      "text/plain": [
       "'abcd'"
      ]
     },
     "execution_count": 14,
     "metadata": {},
     "output_type": "execute_result"
    }
   ],
   "source": [
    "\"AbcD\".lower()"
   ]
  },
  {
   "cell_type": "code",
   "execution_count": 16,
   "metadata": {
    "collapsed": false
   },
   "outputs": [
    {
     "data": {
      "text/plain": [
       "3"
      ]
     },
     "execution_count": 16,
     "metadata": {},
     "output_type": "execute_result"
    }
   ],
   "source": [
    "max([1,2,3])"
   ]
  },
  {
   "cell_type": "code",
   "execution_count": 33,
   "metadata": {
    "collapsed": true
   },
   "outputs": [],
   "source": [
    "h = {\"2\":\"abc\", \"3\":\"def\", \"4\":\"ghi\",\"5\":\"jkl\", \"6\":\"mno\", \"7\":\"pqrs\", \"8\":\"tuv\", \"9\":\"wxyz\"}\n",
    "h2 = {}\n",
    "for k,v in h.items():\n",
    "    for vi in v:\n",
    "        h2[vi] = k\n",
    "\n",
    "def lcs(s1, s2):\n",
    "    m,n = len(s1), len(s2)\n",
    "    a = [[1 for j in range(n)] for i in range(m)]\n",
    "    # init\n",
    "    for j in range(n):\n",
    "        if s1[0]!= s2[j]:\n",
    "            a[0][j] = 0\n",
    "        else:\n",
    "            break\n",
    "    for i in range(m):\n",
    "        if s2[0]!= s1[i]:\n",
    "            a[i][0] = 0\n",
    "        else:\n",
    "            break\n",
    "    # main, iterate\n",
    "    for i in range(1,m):\n",
    "        for j in range(1,n):\n",
    "            a[i][j] = max([a[i-1][j], a[i][j-1], a[i-1][j-1]+(1 if s1[i]==s2[j] else 0)])\n",
    "    return a[m-1][n-1]\n",
    "\n",
    "def word2num(word):\n",
    "    rst = \"\"\n",
    "    for i in word:\n",
    "        rst = rst + h2[i]\n",
    "    return rst\n",
    "\n",
    "def similarword(d, num):\n",
    "    # turn word in s into number\n",
    "    s1 = map(lambda x: x.lower(), d.strip().split())\n",
    "    s2 = map(lambda x: word2num(x), s1)\n",
    "    # compare\n",
    "    curr_max_lcs = -float(\"inf\")\n",
    "    curr_idx = 0\n",
    "    for idx,word in enumerate(s2):\n",
    "        v = lcs(word,num)\n",
    "        #print s1[idx],v\n",
    "        if v>curr_max_lcs:\n",
    "            curr_max_lcs=v\n",
    "            curr_idx=idx\n",
    "    return s1[curr_idx]\n",
    "\n",
    "import sys\n",
    "while True:\n",
    "    line1 = sys.stdin.readline().strip()\n",
    "    if not line1:\n",
    "        break \n",
    "    line2 = sys.stdin.readline().strip()\n",
    "    # main \n",
    "    print similarword(line1, line2)"
   ]
  },
  {
   "cell_type": "code",
   "execution_count": 45,
   "metadata": {
    "collapsed": false
   },
   "outputs": [
    {
     "data": {
      "text/plain": [
       "5"
      ]
     },
     "execution_count": 45,
     "metadata": {},
     "output_type": "execute_result"
    }
   ],
   "source": [
    "lcs(\"ABCDEFG\",\"ABCGEF\")"
   ]
  },
  {
   "cell_type": "code",
   "execution_count": 41,
   "metadata": {
    "collapsed": false
   },
   "outputs": [
    {
     "data": {
      "text/plain": [
       "'dictionary'"
      ]
     },
     "execution_count": 41,
     "metadata": {},
     "output_type": "execute_result"
    }
   ],
   "source": [
    "d = \"Produces a NQ printable string representation of a dictionary\"\n",
    "num = \"679\"\n",
    "similarword(d, num)"
   ]
  },
  {
   "cell_type": "code",
   "execution_count": 38,
   "metadata": {
    "collapsed": true
   },
   "outputs": [],
   "source": [
    "h = {\"2\":\"abc\", \"3\":\"def\", \"4\":\"ghi\",\"5\":\"jkl\", \"6\":\"mno\", \"7\":\"pqrs\", \"8\":\"tuv\", \"9\":\"wxyz\"}\n",
    "h2 = {}\n",
    "for k,v in h.items():\n",
    "    for vi in v:\n",
    "        h2[vi] = k\n",
    "\n",
    "def lcs(s1, s2):\n",
    "    m,n = len(s1), len(s2)\n",
    "    a = [[1 for j in range(n)] for i in range(m)]\n",
    "    # init\n",
    "    for j in range(n):\n",
    "        if s1[0]!= s2[j]:\n",
    "            a[0][j] = 0\n",
    "        else:\n",
    "            break\n",
    "    for i in range(m):\n",
    "        if s2[0]!= s1[i]:\n",
    "            a[i][0] = 0\n",
    "        else:\n",
    "            break\n",
    "    # main, iterate\n",
    "    for i in range(1,m):\n",
    "        for j in range(1,n):\n",
    "            a[i][j] = max([a[i-1][j], a[i][j-1], a[i-1][j-1]+(1 if s1[i]==s2[j] else 0)])\n",
    "    return a[m-1][n-1]\n",
    "\n",
    "def word2num(word):\n",
    "    rst = \"\"\n",
    "    for i in word:\n",
    "        rst = rst + h2[i]\n",
    "    return rst\n",
    "\n",
    "def similarword(d, num):\n",
    "    # turn word in s into number\n",
    "    s1 = map(lambda x: x.lower(), d.strip().split())\n",
    "    s2 = map(lambda x: word2num(x), s1)\n",
    "    # compare\n",
    "    curr_max_lcs = -float(\"inf\")\n",
    "    curr_idx = 0\n",
    "    for idx,word in enumerate(s2):\n",
    "        v = lcs(word,num)\n",
    "        #print s1[idx],v\n",
    "        if v>curr_max_lcs:\n",
    "            curr_max_lcs=v\n",
    "            curr_idx=idx\n",
    "    return s1[curr_idx]\n",
    "\n",
    "import sys\n",
    "while True:\n",
    "    line1 = sys.stdin.readline().strip()\n",
    "    if not line1:\n",
    "        break \n",
    "    line2 = sys.stdin.readline().strip()\n",
    "    # main \n",
    "    print similarword(line1, line2)"
   ]
  },
  {
   "cell_type": "markdown",
   "metadata": {},
   "source": [
    "# 1"
   ]
  },
  {
   "cell_type": "code",
   "execution_count": 47,
   "metadata": {
    "collapsed": false
   },
   "outputs": [],
   "source": [
    "def f(s,k):\n",
    "    N = len(s)//(2*k)\n",
    "    rst = \"\"\n",
    "    for i in range(N):\n",
    "        curr = s[i*(2*k):(i+1)*(2*k)]\n",
    "        rst += curr[:k][::-1]+curr[k:]\n",
    "    left = len(s)-N*2*k\n",
    "    #print \"curr\",rst\n",
    "    #print \"left\",left,s[left+1:]\n",
    "    \n",
    "    \n",
    "    \n",
    "    if left<=0: return rst\n",
    "    \n",
    "    left = 2*k*N\n",
    "    #print \"left\",left\n",
    "    rst += s[left:left+k][::-1] + s[left+k:]\n",
    "    return rst"
   ]
  },
  {
   "cell_type": "code",
   "execution_count": 48,
   "metadata": {
    "collapsed": false
   },
   "outputs": [
    {
     "data": {
      "text/plain": [
       "'ba'"
      ]
     },
     "execution_count": 48,
     "metadata": {},
     "output_type": "execute_result"
    }
   ],
   "source": [
    "s = \"ab\"\n",
    "k = 2\n",
    "f(s,k)"
   ]
  },
  {
   "cell_type": "code",
   "execution_count": 19,
   "metadata": {
    "collapsed": true
   },
   "outputs": [],
   "source": [
    "import sys\n",
    "\n",
    "def f(s,k):\n",
    "    N = len(s)//(2*k)\n",
    "    rst = \"\"\n",
    "    for i in range(N):\n",
    "        curr = s[i*(2*k):(i+1)*(2*k)]\n",
    "        rst += curr[:k][::-1]+curr[k:]\n",
    "    #print \"--\",rst\n",
    "    \n",
    "    left = len(s)-N*2*k\n",
    "    rst += s[left+1:left+1+k][::-1] + s[left+1+k:]\n",
    "    return rst\n",
    "\n",
    "\n",
    "while True:\n",
    "    s = sys.stdin.readline().strip()\n",
    "    if s == '':\n",
    "        break \n",
    "    k = int(sys.stdin.readline().strip())\n",
    "    print f(s,k)"
   ]
  },
  {
   "cell_type": "markdown",
   "metadata": {},
   "source": [
    "# 2"
   ]
  },
  {
   "cell_type": "code",
   "execution_count": null,
   "metadata": {
    "collapsed": true
   },
   "outputs": [],
   "source": [
    "[0,0,1,1,0]\n",
    "2"
   ]
  },
  {
   "cell_type": "code",
   "execution_count": 61,
   "metadata": {
    "collapsed": true
   },
   "outputs": [],
   "source": [
    "def f(nums):\n",
    "    \n",
    "    curr0 = 0\n",
    "    curr1 = 0\n",
    "    h = {0:[0]}\n",
    "    for i in nums:\n",
    "        if i==0:\n",
    "            curr0+=1\n",
    "        else:\n",
    "            curr1+=1\n",
    "        diff = curr0-curr1\n",
    "        if diff in h:\n",
    "            h[diff].append(curr0)\n",
    "        else:\n",
    "            h[diff] = [curr0]\n",
    "    \n",
    "    #print h\n",
    "    \n",
    "    currmax = -1\n",
    "    for key in h:\n",
    "        if len(h[key])>2:\n",
    "            curr = h[key][-1] - h[key][0]\n",
    "            if curr>currmax:\n",
    "                currmax = curr\n",
    "    return currmax*2 if currmax>0 else 0\n",
    "\n",
    "while True:\n",
    "    s = sys.stdin.readline().strip()\n",
    "    if s == '':\n",
    "        break \n",
    "    k = map(int,sys.stdin.readline().strip().split())\n",
    "    print f(k)"
   ]
  },
  {
   "cell_type": "code",
   "execution_count": 59,
   "metadata": {
    "collapsed": true
   },
   "outputs": [],
   "source": [
    "s = \"0 1 0\""
   ]
  },
  {
   "cell_type": "code",
   "execution_count": 60,
   "metadata": {
    "collapsed": false
   },
   "outputs": [
    {
     "data": {
      "text/plain": [
       "['0', '1', '0']"
      ]
     },
     "execution_count": 60,
     "metadata": {},
     "output_type": "execute_result"
    }
   ],
   "source": [
    "s.split()"
   ]
  },
  {
   "cell_type": "code",
   "execution_count": 58,
   "metadata": {
    "collapsed": false
   },
   "outputs": [
    {
     "data": {
      "text/plain": [
       "4"
      ]
     },
     "execution_count": 58,
     "metadata": {},
     "output_type": "execute_result"
    }
   ],
   "source": [
    "nums = [0,0,1,1,0]\n",
    "f(nums)"
   ]
  },
  {
   "cell_type": "markdown",
   "metadata": {},
   "source": [
    "# 3"
   ]
  },
  {
   "cell_type": "code",
   "execution_count": null,
   "metadata": {
    "collapsed": true
   },
   "outputs": [],
   "source": [
    "enumerate"
   ]
  },
  {
   "cell_type": "code",
   "execution_count": 62,
   "metadata": {
    "collapsed": true
   },
   "outputs": [],
   "source": [
    "s = \"5->4->3->2->1->NULL\""
   ]
  },
  {
   "cell_type": "code",
   "execution_count": 64,
   "metadata": {
    "collapsed": false
   },
   "outputs": [],
   "source": [
    "s2 = s.split(\"->\")"
   ]
  },
  {
   "cell_type": "code",
   "execution_count": 69,
   "metadata": {
    "collapsed": false
   },
   "outputs": [
    {
     "data": {
      "text/plain": [
       "'5->3->1->4->2->NULL'"
      ]
     },
     "execution_count": 69,
     "metadata": {},
     "output_type": "execute_result"
    }
   ],
   "source": [
    "\"->\".join((s2[:-1][::2] + s2[:-1][1::2] + [s2[-1]]))"
   ]
  },
  {
   "cell_type": "code",
   "execution_count": 71,
   "metadata": {
    "collapsed": true
   },
   "outputs": [],
   "source": [
    "def f(s):\n",
    "    s2 = s.split(\"->\")\n",
    "    return \"->\".join((s2[:-1][::2] + s2[:-1][1::2] + [s2[-1]]))\n",
    "\n",
    "import sys\n",
    "while True:\n",
    "    s = sys.stdin.readline().strip()\n",
    "    if s == '':\n",
    "        break \n",
    "    print f(s)"
   ]
  },
  {
   "cell_type": "code",
   "execution_count": null,
   "metadata": {
    "collapsed": true
   },
   "outputs": [],
   "source": [
    "def f(s):\n",
    "    s = s.split(\"->\")\n",
    "    #return '5->3->1->4->2->NULL'\n",
    "    s[:] =  \"->\".join((s[:-1][::2] + s[:-1][1::2] + [s[-1]]))\n",
    "    return s"
   ]
  },
  {
   "cell_type": "code",
   "execution_count": 72,
   "metadata": {
    "collapsed": false
   },
   "outputs": [
    {
     "data": {
      "text/plain": [
       "'5->3->1->4->2->NULL'"
      ]
     },
     "execution_count": 72,
     "metadata": {},
     "output_type": "execute_result"
    }
   ],
   "source": [
    "def getnext(s,i):\n",
    "    idx = i+3\n",
    "    \n",
    "    curr = \"\"\n",
    "    for j in range(idx,len(s)):\n",
    "        if j!=\"-\":\n",
    "            curr += s[k]\n",
    "        else:\n",
    "            break\n",
    "    return \n",
    "    \n",
    "def f(s):\n",
    "    for i in range()"
   ]
  },
  {
   "cell_type": "code",
   "execution_count": null,
   "metadata": {
    "collapsed": true
   },
   "outputs": [],
   "source": [
    "#!/bin/python\n",
    "# -*- coding: UTF-8 -*-.\n",
    "import sys\n",
    "import os\n",
    "import copy\n",
    "\n",
    "\n",
    "#/*请完成下面这个函数，实现题目要求的功能*/\n",
    "#/*当然，你也可以不按照下面这个模板来作答，完全按照自己的想法来 ^-^ */\n",
    "#/******************************开始写代码******************************/\n",
    "def storageRackMultiItem(inventoryNums,initPosition,M):\n",
    "    if not inventoryNums or not initPosition: return 0\n",
    "    rst = 0\n",
    "    p = initPosition\n",
    "    for row in inventoryNums:\n",
    "        l,r = min(row),max(row)\n",
    "        row_length = r-l\n",
    "        if p>l and p<r:\n",
    "            if p-l<r-p:\n",
    "                rst += (p-l)\n",
    "                p = r\n",
    "            else:\n",
    "                rst += (r-p)\n",
    "                p = l\n",
    "            rst += row_length\n",
    "        else:\n",
    "            if p<=l:\n",
    "                # 左边界外\n",
    "                rst += l-p + row_length\n",
    "                p = r\n",
    "            else:\n",
    "                # 右边界外\n",
    "                rst += p-r + row_length\n",
    "                p = l\n",
    "    return rst\n",
    "#/******************************结束写代码******************************/\n",
    "\n",
    "\n",
    "\n",
    "\n",
    "\n",
    "_initPosition = int(raw_input())\n",
    "_M = raw_input().split(',')\n",
    "_M = [int(m) for m in _M]\n",
    "\n",
    "K = len(_M)\n",
    "_inventoryNums = []\n",
    "for I in range(0,K):\n",
    "\t_tempNums = raw_input().split(',')\n",
    "\t_tempNums = [ int(x) for x in _tempNums]\n",
    "\t_inventoryNums.append(_tempNums)\n",
    "\t\n",
    "\n",
    "\n",
    "\n",
    "\n",
    "  \n",
    "res = storageRackMultiItem(_inventoryNums, _initPosition,_M)\n",
    "\n",
    "print str(res) + \"\\n\""
   ]
  },
  {
   "cell_type": "code",
   "execution_count": null,
   "metadata": {
    "collapsed": true
   },
   "outputs": [],
   "source": []
  }
 ],
 "metadata": {
  "anaconda-cloud": {},
  "kernelspec": {
   "display_name": "Python [conda env:p2]",
   "language": "python",
   "name": "conda-env-p2-py"
  },
  "language_info": {
   "codemirror_mode": {
    "name": "ipython",
    "version": 2
   },
   "file_extension": ".py",
   "mimetype": "text/x-python",
   "name": "python",
   "nbconvert_exporter": "python",
   "pygments_lexer": "ipython2",
   "version": "2.7.12"
  }
 },
 "nbformat": 4,
 "nbformat_minor": 0
}
