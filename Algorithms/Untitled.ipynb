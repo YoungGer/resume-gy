{
 "cells": [
  {
   "cell_type": "code",
   "execution_count": 1,
   "metadata": {
    "collapsed": true
   },
   "outputs": [],
   "source": [
    "from random import random"
   ]
  },
  {
   "cell_type": "code",
   "execution_count": 28,
   "metadata": {
    "collapsed": false
   },
   "outputs": [],
   "source": [
    "xs = np.random.normal(2,3,100000)\n",
    "ys = np.random.normal(3,4,100000)"
   ]
  },
  {
   "cell_type": "code",
   "execution_count": 29,
   "metadata": {
    "collapsed": true
   },
   "outputs": [],
   "source": [
    "def f1(x,y):\n",
    "    flag1 = x**2+y**2-1-x*y<0\n",
    "    flag2 = x**2+y**2-1+x*y<0\n",
    "    flag = flag1 or flag2\n",
    "    return flag"
   ]
  },
  {
   "cell_type": "code",
   "execution_count": 30,
   "metadata": {
    "collapsed": true
   },
   "outputs": [],
   "source": [
    "rst = []\n",
    "for i in range(len(xs)):\n",
    "    rst.append(f1(xs[i],ys[i]))"
   ]
  },
  {
   "cell_type": "code",
   "execution_count": 31,
   "metadata": {
    "collapsed": false
   },
   "outputs": [
    {
     "data": {
      "text/plain": [
       "0.03712"
      ]
     },
     "execution_count": 31,
     "metadata": {},
     "output_type": "execute_result"
    }
   ],
   "source": [
    "np.mean(rst)"
   ]
  },
  {
   "cell_type": "code",
   "execution_count": null,
   "metadata": {
    "collapsed": true
   },
   "outputs": [],
   "source": [
    "import java.io.*;\n",
    "import java.util.*;\n",
    "import java.text.*;\n",
    "import java.math.*;\n",
    "import java.util.regex.*;\n",
    "\n",
    "public class Main {\n",
    "\n",
    "/** 请完成下面这个函数，实现题目要求的功能 **/\n",
    " /** 当然，你也可以不按照这个模板来作答，完全按照自己的想法来 ^-^  **/\n",
    "    static double leartCurve(double mu1, double sigma1, double mu2, double sigma2) {\n",
    "    \tint exp_num = 10000, hit_num = 0;\n",
    "    \tfor (int i = 0; i < exp_num; i++) {\n",
    "    \t\tRandom random = new Random();\n",
    "    \t\tdouble x = sigma1*random.nextGaussian()+mu1;\n",
    "    \t\tdouble y = sigma2*random.nextGaussian()+mu2;\n",
    "    \t\tdouble value1 = Math.pow(x, 2) + Math.pow(y, 2) - 1 - x*y;\n",
    "    \t\tdouble value2 = Math.pow(x, 2) + Math.pow(y, 2) - 1 + x*y;\n",
    "    \t\tif (value1 < 0 || value2 < 0) hit_num++;\n",
    "    \t}\n",
    "    \treturn hit_num*1.0/exp_num;\n",
    "    }\n",
    "\n",
    "    public static void main(String[] args){\n",
    "        Scanner in = new Scanner(System.in);\n",
    "        double res;\n",
    "    \n",
    "        double _mu1;\n",
    "        _mu1 = Double.parseDouble(in.nextLine().trim());\n",
    "\n",
    "        double _sigma1;\n",
    "        _sigma1 = Double.parseDouble(in.nextLine().trim());\n",
    "\n",
    "        double _mu2;\n",
    "        _mu2 = Double.parseDouble(in.nextLine().trim());\n",
    "\n",
    "        double _sigma2;\n",
    "        _sigma2 = Double.parseDouble(in.nextLine().trim());\n",
    "  \n",
    "        res = leartCurve(_mu1, _sigma1, _mu2, _sigma2);\n",
    "        System.out.println(String.valueOf(res));\n",
    "    }\n",
    "}\n"
   ]
  }
 ],
 "metadata": {
  "kernelspec": {
   "display_name": "Python 3",
   "language": "python",
   "name": "python3"
  },
  "language_info": {
   "codemirror_mode": {
    "name": "ipython",
    "version": 3
   },
   "file_extension": ".py",
   "mimetype": "text/x-python",
   "name": "python",
   "nbconvert_exporter": "python",
   "pygments_lexer": "ipython3",
   "version": "3.5.2"
  }
 },
 "nbformat": 4,
 "nbformat_minor": 0
}
