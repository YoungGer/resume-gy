{
 "cells": [
  {
   "cell_type": "markdown",
   "metadata": {},
   "source": [
    "# Rotate Array"
   ]
  },
  {
   "cell_type": "code",
   "execution_count": 4,
   "metadata": {
    "collapsed": true
   },
   "outputs": [],
   "source": [
    "from collections import  deque\n",
    "class Solution(object):\n",
    "    def rotate(self, nums, k):\n",
    "        nums2 = deque(nums)\n",
    "        for i in range(k):\n",
    "            nums2.appendleft(nums2.pop())\n",
    "        nums = list(nums2)"
   ]
  },
  {
   "cell_type": "code",
   "execution_count": 7,
   "metadata": {
    "collapsed": true
   },
   "outputs": [],
   "source": [
    "class Solution(object):\n",
    "    def rotate(self, nums, k):\n",
    "        k = k%len(nums)\n",
    "        nums[:] = nums[-k:] + nums[:-k]"
   ]
  },
  {
   "cell_type": "markdown",
   "metadata": {},
   "source": [
    "# Search in Rotated Sorted Array"
   ]
  },
  {
   "cell_type": "code",
   "execution_count": 32,
   "metadata": {
    "collapsed": true
   },
   "outputs": [],
   "source": [
    "class Solution(object):\n",
    "    def search(self, nums, target):\n",
    "        if not nums: return -1\n",
    "        i,j = 0,len(nums)-1\n",
    "        while i<j:\n",
    "            mi = (i+j)/2\n",
    "            m = nums[mi]\n",
    "            \n",
    "            if target==m:\n",
    "                return mi\n",
    "            \n",
    "            if m>=nums[i]:\n",
    "                # 在左边\n",
    "                if target>=nums[i] and target<m:\n",
    "                    j = mi-1\n",
    "                else:\n",
    "                    i = mi+1\n",
    "            else:\n",
    "                # 在右边\n",
    "                if target>m and target<=nums[j]:\n",
    "                    i = mi+1\n",
    "                else:\n",
    "                    j = mi-1\n",
    "        return i if nums[i]==target else -1"
   ]
  },
  {
   "cell_type": "markdown",
   "metadata": {},
   "source": [
    "# Search in Rotated Sorted Array II\n",
    "\n",
    "duplicates are allowed\n",
    "\n",
    "worst O(n)"
   ]
  },
  {
   "cell_type": "code",
   "execution_count": 33,
   "metadata": {
    "collapsed": true
   },
   "outputs": [],
   "source": [
    "class Solution(object):\n",
    "    def search(self, nums, target):\n",
    "        if not nums: return -1\n",
    "        \n",
    "        i,j = 0,len(nums)-1\n",
    "        \n",
    "        while i<=j:\n",
    "            mi = i+(j-i+1)/2\n",
    "            m = nums[mi]\n",
    "            \n",
    "            if m==target:\n",
    "                return mi\n",
    "            \n",
    "            if m>nums[i]:\n",
    "                # left sorted\n",
    "                if target>=nums[i] and  target<m:\n",
    "                    j = mi-1\n",
    "                else:\n",
    "                    i = mi+1\n",
    "            elif m<nums[i]:\n",
    "                # right sorted\n",
    "                if target<=nums[j] and target>m:\n",
    "                    i = mi+1\n",
    "                else:\n",
    "                    j = mi-1\n",
    "            else:\n",
    "                # confused\n",
    "                i += 1   \n",
    "            \n",
    "        return False"
   ]
  }
 ],
 "metadata": {
  "kernelspec": {
   "display_name": "Python 2",
   "language": "python",
   "name": "python2"
  },
  "language_info": {
   "codemirror_mode": {
    "name": "ipython",
    "version": 2
   },
   "file_extension": ".py",
   "mimetype": "text/x-python",
   "name": "python",
   "nbconvert_exporter": "python",
   "pygments_lexer": "ipython2",
   "version": "2.7.12"
  }
 },
 "nbformat": 4,
 "nbformat_minor": 0
}
