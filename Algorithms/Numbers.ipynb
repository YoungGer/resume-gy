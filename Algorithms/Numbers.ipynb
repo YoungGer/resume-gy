{
 "cells": [
  {
   "cell_type": "markdown",
   "metadata": {},
   "source": [
    "# Fibonacci"
   ]
  },
  {
   "cell_type": "code",
   "execution_count": 1,
   "metadata": {
    "collapsed": true
   },
   "outputs": [],
   "source": [
    "def fib():\n",
    "    a, b = 0, 1\n",
    "    yield a\n",
    "    yield b\n",
    "    while True:\n",
    "        a, b = b, a+b\n",
    "        yield b\n",
    "        \n",
    "def fib(idx):\n",
    "    a, b = 0, 1\n",
    "    if idx == 0:\n",
    "        return a\n",
    "    elif idx == 1:\n",
    "        return b\n",
    "    else:\n",
    "        for i in range(idx-1):\n",
    "            a, b = b, a+b\n",
    "        return b"
   ]
  },
  {
   "cell_type": "markdown",
   "metadata": {},
   "source": [
    "# Count Prime\n",
    "\n",
    "O(nloglogn)"
   ]
  },
  {
   "cell_type": "code",
   "execution_count": 26,
   "metadata": {
    "collapsed": true
   },
   "outputs": [],
   "source": [
    "class Solution(object):\n",
    "    def countPrimes(self, n):\n",
    "        if n<=2: return 0\n",
    "        \n",
    "        array = [1 for _ in range(n)]\n",
    "        for i in range(2, int((n-1)**0.5)+1 ):\n",
    "            if array[i]==1:\n",
    "                array[i*i::i] = [0]*len(array[i*i::i])\n",
    "        return sum(array)-2\n",
    "        "
   ]
  },
  {
   "cell_type": "markdown",
   "metadata": {},
   "source": [
    "# Reservvoir Sampling"
   ]
  },
  {
   "cell_type": "markdown",
   "metadata": {},
   "source": [
    "## Random Pick Index"
   ]
  },
  {
   "cell_type": "code",
   "execution_count": 104,
   "metadata": {
    "collapsed": true
   },
   "outputs": [],
   "source": [
    "from random import  random\n",
    "class Solution(object):\n",
    "\n",
    "    def __init__(self, nums):\n",
    "        \"\"\"\n",
    "        \n",
    "        :type nums: List[int]\n",
    "        :type numsSize: int\n",
    "        \"\"\"\n",
    "        self.nums = nums  \n",
    "\n",
    "    def pick(self, target):\n",
    "        \"\"\"\n",
    "        :type target: int\n",
    "        :rtype: int\n",
    "        \"\"\"\n",
    "        size = 0\n",
    "        rst = None\n",
    "        for idx,i in enumerate(self.nums):\n",
    "            if i==target:\n",
    "                if random()<1.0/(size+1):\n",
    "                    rst = idx\n",
    "                size += 1\n",
    "        return int(rst)"
   ]
  },
  {
   "cell_type": "markdown",
   "metadata": {},
   "source": [
    "## Linked List Random Node"
   ]
  },
  {
   "cell_type": "code",
   "execution_count": 105,
   "metadata": {
    "collapsed": true
   },
   "outputs": [],
   "source": [
    "from random import random\n",
    "class Solution(object):\n",
    "\n",
    "    def __init__(self, head):\n",
    "        \"\"\"\n",
    "        @param head The linked list's head.\n",
    "        Note that the head is guaranteed to be not null, so it contains at least one node.\n",
    "        :type head: ListNode\n",
    "        \"\"\"\n",
    "        self.head = head\n",
    "        \n",
    "\n",
    "    def getRandom(self):\n",
    "        \"\"\"\n",
    "        Returns a random node's value.\n",
    "        :rtype: int\n",
    "        \"\"\"\n",
    "        if not self.head: return\n",
    "        \n",
    "        node = self.head\n",
    "        size = 0\n",
    "        rst = None\n",
    "        \n",
    "        while node:\n",
    "            if random()<1.0/(size+1):\n",
    "                rst = node.val\n",
    "            size += 1\n",
    "            node = node.next\n",
    "            \n",
    "        return rst"
   ]
  },
  {
   "cell_type": "markdown",
   "metadata": {},
   "source": [
    "# Kth Largest Element in an Array"
   ]
  },
  {
   "cell_type": "code",
   "execution_count": 51,
   "metadata": {
    "collapsed": true
   },
   "outputs": [],
   "source": [
    "from random import randint\n",
    "class Solution(object):\n",
    "    def findKthLargest(self, nums, k):\n",
    "        if len(nums)==0: return \n",
    "        return self.findKthSmallest(nums, len(nums)-k) \n",
    "    \n",
    "    def findKthSmallest(self, nums, k):\n",
    "        # partition\n",
    "        pi = randint(0,len(nums)-1)\n",
    "        nums[pi], nums[-1] = nums[-1], nums[pi]\n",
    "        \n",
    "        last = -1\n",
    "        for i in range(len(nums)):\n",
    "            if nums[i]<nums[-1]:\n",
    "                last += 1\n",
    "                nums[last], nums[i] = nums[i], nums[last]\n",
    "        last += 1\n",
    "        nums[last], nums[-1] = nums[-1], nums[last]\n",
    "        \n",
    "        if last==k:\n",
    "            return nums[last]\n",
    "        elif last>k:\n",
    "            return self.findKthSmallest(nums[:last],k)\n",
    "        else:\n",
    "            return self.findKthSmallest(nums[last+1:],k-last-1)"
   ]
  },
  {
   "cell_type": "markdown",
   "metadata": {},
   "source": [
    "# Continuous Subarray Sum"
   ]
  },
  {
   "cell_type": "code",
   "execution_count": 64,
   "metadata": {
    "collapsed": true
   },
   "outputs": [],
   "source": [
    "# brute force O(n^2)\n",
    "class Solution(object):\n",
    "    def checkSubarraySum(self, nums, k):\n",
    "        if len(nums)<=1: return False\n",
    "        if k==0: return '00' in  ''.join(map(str,nums))\n",
    "        \n",
    "        for i in range(len(nums)-1):\n",
    "            curr = nums[i]\n",
    "            for j in range(i+1,len(nums)):\n",
    "                curr += nums[j]\n",
    "                if curr%k==0:\n",
    "                    return True\n",
    "        return False"
   ]
  },
  {
   "cell_type": "code",
   "execution_count": 72,
   "metadata": {
    "collapsed": false
   },
   "outputs": [],
   "source": [
    "# O(n)\n",
    "class Solution(object):\n",
    "    def checkSubarraySum(self, nums, k):\n",
    "        # base case\n",
    "        if len(nums)<=1: return False\n",
    "        if k==0: return '00' in  ''.join(map(str,nums))\n",
    "        \n",
    "        h = {0:-1}\n",
    "        curr = 0\n",
    "        for idx,i in enumerate(nums):\n",
    "            curr += i\n",
    "            if curr%k in h:\n",
    "                if idx-h[curr%k]>1:\n",
    "                    return True\n",
    "            else:\n",
    "                h[curr%k] = idx\n",
    "        return False"
   ]
  }
 ],
 "metadata": {
  "kernelspec": {
   "display_name": "Python 2",
   "language": "python",
   "name": "python2"
  },
  "language_info": {
   "codemirror_mode": {
    "name": "ipython",
    "version": 2
   },
   "file_extension": ".py",
   "mimetype": "text/x-python",
   "name": "python",
   "nbconvert_exporter": "python",
   "pygments_lexer": "ipython2",
   "version": "2.7.12"
  }
 },
 "nbformat": 4,
 "nbformat_minor": 0
}
