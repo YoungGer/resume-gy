{
 "cells": [
  {
   "cell_type": "markdown",
   "metadata": {},
   "source": [
    "# ms"
   ]
  },
  {
   "cell_type": "code",
   "execution_count": 52,
   "metadata": {
    "collapsed": true
   },
   "outputs": [],
   "source": [
    "def ms(x):\n",
    "    if len(x)<2:\n",
    "        return x\n",
    "    \n",
    "    mid = len(x)/2\n",
    "    left = ms(x[:mid])\n",
    "    right = ms(x[mid:])\n",
    "    \n",
    "    rst = []\n",
    "    i,j = 0,0\n",
    "    \n",
    "    while i<len(left) and j<len(right):\n",
    "        if left[i]<=right[j]:\n",
    "            rst.append(left[i])\n",
    "            i += 1\n",
    "        else:\n",
    "            rst.append(right[j])\n",
    "            j += 1\n",
    "    rst += left[i:]\n",
    "    rst += right[j:]\n",
    "    \n",
    "    return rst"
   ]
  },
  {
   "cell_type": "code",
   "execution_count": 53,
   "metadata": {
    "collapsed": false
   },
   "outputs": [
    {
     "data": {
      "text/plain": [
       "[1, 2, 3, 5, 8, 8, 9, 10]"
      ]
     },
     "execution_count": 53,
     "metadata": {},
     "output_type": "execute_result"
    }
   ],
   "source": [
    "nums = [8,10,5,8,9,1,2,3]\n",
    "ms(nums)"
   ]
  },
  {
   "cell_type": "markdown",
   "metadata": {},
   "source": [
    "# qs"
   ]
  },
  {
   "cell_type": "code",
   "execution_count": 50,
   "metadata": {
    "collapsed": true
   },
   "outputs": [],
   "source": [
    "from random import randint\n",
    "def qs(x,start,end):\n",
    "    if start<end:\n",
    "        p = partition(x,start,end)\n",
    "        qs(x, start, p-1)\n",
    "        qs(x, p+1, end)\n",
    "\n",
    "def partition(x,start,end):\n",
    "    ri = randint(start, end)\n",
    "    x[ri],x[end] = x[end],x[ri]\n",
    "    \n",
    "    last = start-1\n",
    "    for i in range(start,end):\n",
    "        if x[i]<x[end]:\n",
    "            last += 1\n",
    "            x[last],x[i] = x[i],x[last]\n",
    "    last += 1\n",
    "    x[last],x[end] = x[end],x[last]\n",
    "    return last"
   ]
  },
  {
   "cell_type": "code",
   "execution_count": 51,
   "metadata": {
    "collapsed": false
   },
   "outputs": [
    {
     "name": "stdout",
     "output_type": "stream",
     "text": [
      "[0, 3, 4, 4, 4, 5, 6, 7, 22, 45, 82]\n"
     ]
    }
   ],
   "source": [
    "X=[4,5,7,4,3,6,0,4,22,45,82]\n",
    "qs(X,0,len(X)-1)\n",
    "print X"
   ]
  },
  {
   "cell_type": "markdown",
   "metadata": {},
   "source": [
    "# reverse string\n",
    "\n",
    "- 切片\n",
    "- 前后\n",
    "- 递归\n",
    "- 双端队列"
   ]
  },
  {
   "cell_type": "code",
   "execution_count": 77,
   "metadata": {
    "collapsed": false
   },
   "outputs": [],
   "source": [
    "def rs1(s):\n",
    "    return s[::-1]\n",
    "\n",
    "def rs2(s):\n",
    "    i,j = 0, len(s)-1\n",
    "    s = list(s)\n",
    "    while i<j:\n",
    "        s[i],s[j] = s[j],s[i]\n",
    "        i +=1\n",
    "        j -= 1\n",
    "    return ''.join(s)\n",
    "\n",
    "def rs3(s):\n",
    "    if len(s)<2:\n",
    "        return s\n",
    "    middle = len(s)/2\n",
    "    return rs3(s[middle:])+rs3(s[:middle])\n",
    "\n",
    "from collections import deque\n",
    "def rs4(s):\n",
    "    rst = deque()\n",
    "    rst.extendleft(s)\n",
    "    return ''.join(rst)"
   ]
  },
  {
   "cell_type": "code",
   "execution_count": 79,
   "metadata": {
    "collapsed": false
   },
   "outputs": [
    {
     "name": "stdout",
     "output_type": "stream",
     "text": [
      "43 21\n",
      "43 21\n",
      "43 21\n",
      "43 21\n"
     ]
    }
   ],
   "source": [
    "s = '12 34'\n",
    "print rs1(s)\n",
    "print rs2(s)\n",
    "print rs3(s)\n",
    "print rs4(s)"
   ]
  },
  {
   "cell_type": "markdown",
   "metadata": {},
   "source": [
    "# Tree"
   ]
  },
  {
   "cell_type": "markdown",
   "metadata": {},
   "source": [
    "## preorder"
   ]
  },
  {
   "cell_type": "code",
   "execution_count": 83,
   "metadata": {
    "collapsed": true
   },
   "outputs": [],
   "source": [
    "class Solution(object):\n",
    "    def preorderTraversal(self, root):\n",
    "        def dfs(node):\n",
    "            if node:\n",
    "                rst.append(node.val)\n",
    "                dfs(node.left)\n",
    "                dfs(node.right)\n",
    "        rst = []\n",
    "        dfs(root)\n",
    "        return rst\n",
    "    \n",
    "class Solution(object):\n",
    "    def preorderTraversal(self, root):\n",
    "        stack, rst = [root],[]\n",
    "        while stack:\n",
    "            node = stack.pop()\n",
    "            if node:\n",
    "                rst.append(node.val)\n",
    "                stack.append(node.right)\n",
    "                stack.append(node.left)\n",
    "        return rst\n",
    "    \n",
    "class Solution(object):\n",
    "    def preorderTraversal(self, root):\n",
    "        stack, rst = [(root,False)],[]\n",
    "        while stack:\n",
    "            node,visited = stack.pop()\n",
    "            if node:\n",
    "                if visited:\n",
    "                    rst.append(node.val)\n",
    "                else:\n",
    "                    stack.append((node.right,False))\n",
    "                    stack.append((node.left,False))\n",
    "                    stack.append((node,True))\n",
    "        return rst"
   ]
  },
  {
   "cell_type": "markdown",
   "metadata": {},
   "source": [
    "## inorder"
   ]
  },
  {
   "cell_type": "code",
   "execution_count": 85,
   "metadata": {
    "collapsed": true
   },
   "outputs": [],
   "source": [
    "class Solution(object):\n",
    "    def inorderTraversal(self, root):\n",
    "        def dfs(node):\n",
    "            if node:\n",
    "                dfs(node.left)\n",
    "                rst.append(node.val)\n",
    "                dfs(node.right)\n",
    "        rst = []\n",
    "        dfs(root)\n",
    "        return rst\n",
    "    \n",
    "class Solution(object):\n",
    "    def inorderTraversal(self, root):\n",
    "        rst, stack = [], [(root,False)]\n",
    "        while stack:\n",
    "            node, visited = stack.pop()\n",
    "            if node:\n",
    "                if visited:\n",
    "                    rst.append(node.val)\n",
    "                else:\n",
    "                    stack.append((node.right,False))\n",
    "                    stack.append((node,True))\n",
    "                    stack.append((node.left, False))\n",
    "        return rst"
   ]
  },
  {
   "cell_type": "markdown",
   "metadata": {},
   "source": [
    "## postorder"
   ]
  },
  {
   "cell_type": "code",
   "execution_count": 88,
   "metadata": {
    "collapsed": true
   },
   "outputs": [],
   "source": [
    "class Solution(object):\n",
    "    def postorderTraversal(self, root):\n",
    "        def dfs(node):\n",
    "            if node:\n",
    "                dfs(node.left)\n",
    "                dfs(node.right)\n",
    "                rst.append(node.val)\n",
    "        rst = []\n",
    "        dfs(root)\n",
    "        return rst\n",
    "    \n",
    "class Solution(object):\n",
    "    def postorderTraversal(self, root):\n",
    "        rst, stack = [],[(root,False)]\n",
    "        while stack:\n",
    "            node, visited = stack.pop()\n",
    "            if node:\n",
    "                if visited:\n",
    "                    rst.append(node.val)\n",
    "                else:\n",
    "                    stack.append((node,True))\n",
    "                    stack.append((node.right, False))\n",
    "                    stack.append((node.left, False))\n",
    "        return rst"
   ]
  },
  {
   "cell_type": "markdown",
   "metadata": {},
   "source": [
    "## invert binary tree"
   ]
  },
  {
   "cell_type": "code",
   "execution_count": 3,
   "metadata": {
    "collapsed": true
   },
   "outputs": [],
   "source": [
    "class Solution(object):\n",
    "    def invertTree(self, root):\n",
    "        if not root: return None\n",
    "        root.left,root.right = self.invertTree(root.right), self.invertTree(root.left)\n",
    "        return root"
   ]
  },
  {
   "cell_type": "markdown",
   "metadata": {},
   "source": [
    "# List"
   ]
  },
  {
   "cell_type": "markdown",
   "metadata": {},
   "source": [
    "## Reverse Linked List"
   ]
  },
  {
   "cell_type": "code",
   "execution_count": 90,
   "metadata": {
    "collapsed": true
   },
   "outputs": [],
   "source": [
    "class Solution(object):\n",
    "    def reverseList(self, head):\n",
    "        last, curr = None, head\n",
    "        while curr:\n",
    "            curr.next, last, curr = last, curr, curr.next\n",
    "        return last"
   ]
  },
  {
   "cell_type": "markdown",
   "metadata": {},
   "source": [
    "# Permutations"
   ]
  },
  {
   "cell_type": "code",
   "execution_count": 97,
   "metadata": {
    "collapsed": false
   },
   "outputs": [],
   "source": [
    "class Solution(object):\n",
    "    def permute(self, nums):\n",
    "        rst = []\n",
    "        for i,k in enumerate(nums):\n",
    "            rst += map(lambda x: [k]+x, self.permute(nums[:i]+nums[i+1:]))\n",
    "        return rst or [[]]\n",
    "    \n",
    "class Solution(object):\n",
    "    def permuteUnique(self, nums):\n",
    "        rst = []\n",
    "        seen = []\n",
    "        for i,k in enumerate(nums):\n",
    "            if k in seen:\n",
    "                continue\n",
    "            seen.append(k)\n",
    "            rst += map(lambda x: [k]+x, self.permuteUnique(nums[:i]+nums[i+1:]))\n",
    "        return rst or [[]]"
   ]
  },
  {
   "cell_type": "markdown",
   "metadata": {},
   "source": [
    "# Binary Search"
   ]
  },
  {
   "cell_type": "markdown",
   "metadata": {},
   "source": [
    "## Search Insert Position"
   ]
  },
  {
   "cell_type": "code",
   "execution_count": 25,
   "metadata": {
    "collapsed": true
   },
   "outputs": [],
   "source": [
    "class Solution(object):\n",
    "    def searchInsert(self, nums, target):\n",
    "        \"\"\"\n",
    "        :type nums: List[int]\n",
    "        :type target: int\n",
    "        :rtype: int\n",
    "        \"\"\"\n",
    "        i,j = 0,len(nums)-1\n",
    "        while i<=j:\n",
    "            mi = i+(j-i)/2\n",
    "            m = nums[mi]\n",
    "            if m==target:\n",
    "                return mi\n",
    "            elif target>m:\n",
    "                i = mi+1\n",
    "            else:\n",
    "                j = mi-1\n",
    "        return i"
   ]
  },
  {
   "cell_type": "code",
   "execution_count": 26,
   "metadata": {
    "collapsed": false
   },
   "outputs": [
    {
     "data": {
      "text/plain": [
       "4"
      ]
     },
     "execution_count": 26,
     "metadata": {},
     "output_type": "execute_result"
    }
   ],
   "source": [
    "nums = [1,3,5,6]\n",
    "q = Solution()\n",
    "q.searchInsert(nums,7)"
   ]
  },
  {
   "cell_type": "markdown",
   "metadata": {},
   "source": [
    "# test"
   ]
  },
  {
   "cell_type": "code",
   "execution_count": 75,
   "metadata": {
    "collapsed": true
   },
   "outputs": [],
   "source": [
    "def foo():\n",
    "    print('i am foo')"
   ]
  }
 ],
 "metadata": {
  "kernelspec": {
   "display_name": "Python 2",
   "language": "python",
   "name": "python2"
  },
  "language_info": {
   "codemirror_mode": {
    "name": "ipython",
    "version": 2
   },
   "file_extension": ".py",
   "mimetype": "text/x-python",
   "name": "python",
   "nbconvert_exporter": "python",
   "pygments_lexer": "ipython2",
   "version": "2.7.12"
  }
 },
 "nbformat": 4,
 "nbformat_minor": 0
}
