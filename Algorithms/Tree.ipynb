{
 "cells": [
  {
   "cell_type": "markdown",
   "metadata": {},
   "source": [
    "# Maximum Depth of Binary Tree"
   ]
  },
  {
   "cell_type": "code",
   "execution_count": 7,
   "metadata": {
    "collapsed": true
   },
   "outputs": [],
   "source": [
    "from collections import deque\n",
    "class Solution(object):\n",
    "    def maxDepth(self, root):\n",
    "        # 0case\n",
    "        if not root: return 0\n",
    "        \n",
    "        stack = deque([root])\n",
    "        layer = 0\n",
    "        while stack:\n",
    "            size = len(stack)\n",
    "            layer += 1\n",
    "            for i in range(size):\n",
    "                node = stack.popleft()\n",
    "                if node.left:\n",
    "                    stack.append(node.left)\n",
    "                if node.right:\n",
    "                    stack.append(node.right)\n",
    "        return layer  "
   ]
  },
  {
   "cell_type": "markdown",
   "metadata": {},
   "source": [
    "# Binary Tree Level Order Traversal"
   ]
  },
  {
   "cell_type": "code",
   "execution_count": 6,
   "metadata": {
    "collapsed": true
   },
   "outputs": [],
   "source": [
    "from collections import deque\n",
    "class Solution(object):\n",
    "    def levelOrder(self, root):\n",
    "        \"\"\"\n",
    "        :type root: TreeNode\n",
    "        :rtype: List[List[int]]\n",
    "        \"\"\"\n",
    "        # 0 case\n",
    "        if not root: return []\n",
    "        \n",
    "        stack = deque([root])\n",
    "        rst = []\n",
    "        while stack:\n",
    "            size = len(stack)\n",
    "            curr = []\n",
    "            for i in range(size):\n",
    "                node = stack.popleft()\n",
    "                curr.append(node.val)\n",
    "                if node.left:\n",
    "                    stack.append(node.left)\n",
    "                if node.right:\n",
    "                    stack.append(node.right)\n",
    "            rst.append(curr)\n",
    "        return rst  "
   ]
  },
  {
   "cell_type": "markdown",
   "metadata": {},
   "source": [
    "# Binary Tree Level Order Traversal 2"
   ]
  },
  {
   "cell_type": "code",
   "execution_count": 13,
   "metadata": {
    "collapsed": true
   },
   "outputs": [],
   "source": [
    "from collections import deque\n",
    "class Solution(object):\n",
    "    def levelOrderBottom(self, root):\n",
    "        \"\"\"\n",
    "        :type root: TreeNode\n",
    "        :rtype: List[List[int]]\n",
    "        \"\"\"\n",
    "        # 0 case\n",
    "        if not root: return []\n",
    "        \n",
    "        stack = deque([root])\n",
    "        rst = deque([])\n",
    "        while stack:\n",
    "            size = len(stack)\n",
    "            curr = []\n",
    "            for i in range(size):\n",
    "                node = stack.popleft()\n",
    "                curr.append(node.val)\n",
    "                if node.left:\n",
    "                    stack.append(node.left)\n",
    "                if node.right:\n",
    "                    stack.append(node.right)\n",
    "            rst.appendleft(curr)\n",
    "        return list(rst)"
   ]
  },
  {
   "cell_type": "markdown",
   "metadata": {},
   "source": [
    "# Lowest Common Ancestor of a Binary Search Tree"
   ]
  },
  {
   "cell_type": "code",
   "execution_count": 15,
   "metadata": {
    "collapsed": true
   },
   "outputs": [],
   "source": [
    "class Solution(object):\n",
    "    def lowestCommonAncestor(self, root, p, q):\n",
    "        if root.val>p.val and root.val>q.val:\n",
    "            return self.lowestCommonAncestor(root.left, p, q)\n",
    "        elif root.val<p.val and root.val<q.val:\n",
    "            return self.lowestCommonAncestor(root.right, p, q)\n",
    "        else:\n",
    "            return root"
   ]
  },
  {
   "cell_type": "markdown",
   "metadata": {},
   "source": [
    "# Lowest Common Ancestor of a Binary Tree"
   ]
  },
  {
   "cell_type": "code",
   "execution_count": 18,
   "metadata": {
    "collapsed": true
   },
   "outputs": [],
   "source": [
    "class Solution(object):\n",
    "    def lowestCommonAncestor(self, root, p, q):\n",
    "        # base case\n",
    "        if not root or root==p or root==q: return root\n",
    "        \n",
    "        left = self.lowestCommonAncestor(root.left, p, q)\n",
    "        right = self.lowestCommonAncestor(root.right, p, q)\n",
    "        \n",
    "        if left and right:\n",
    "            return root\n",
    "        elif left:\n",
    "            return left\n",
    "        else:\n",
    "            return right"
   ]
  },
  {
   "cell_type": "markdown",
   "metadata": {},
   "source": [
    "# Balanced Binary Tree\n",
    "\n",
    "左子树和右子树的深度之差的绝对值不超过1，且它的左子树和右子树都是一颗平衡二叉树"
   ]
  },
  {
   "cell_type": "code",
   "execution_count": 22,
   "metadata": {
    "collapsed": true
   },
   "outputs": [],
   "source": [
    "# O(n^2) top to down\n",
    "class Solution(object):\n",
    "    def depth(self, root):\n",
    "        if not root: return 0\n",
    "        return 1+max(self.depth(root.left), self.depth(root.right))\n",
    "    def isBalanced(self, root):\n",
    "        if not root: return True\n",
    "        return self.isBalanced(root.left) and self.isBalanced(root.right) and abs(self.depth(root.left)-self.depth(root.right))<=1"
   ]
  },
  {
   "cell_type": "code",
   "execution_count": 24,
   "metadata": {
    "collapsed": false
   },
   "outputs": [],
   "source": [
    "# O(n) down to top\n",
    "class Solution(object):\n",
    "    def depth(self, root):\n",
    "        if not root: return 0\n",
    "        \n",
    "        left = self.depth(root.left)\n",
    "        right = self.depth(root.right)\n",
    "        \n",
    "        if left==-1 or right==-1 or abs(left-right)>1:\n",
    "            return -1\n",
    "        else:\n",
    "            return 1+max(left,right)\n",
    "        \n",
    "    def isBalanced(self, root):\n",
    "        if self.depth(root) != -1:\n",
    "            return True\n",
    "        else:\n",
    "            return False"
   ]
  }
 ],
 "metadata": {
  "kernelspec": {
   "display_name": "Python 2",
   "language": "python",
   "name": "python2"
  },
  "language_info": {
   "codemirror_mode": {
    "name": "ipython",
    "version": 2
   },
   "file_extension": ".py",
   "mimetype": "text/x-python",
   "name": "python",
   "nbconvert_exporter": "python",
   "pygments_lexer": "ipython2",
   "version": "2.7.12"
  }
 },
 "nbformat": 4,
 "nbformat_minor": 0
}
