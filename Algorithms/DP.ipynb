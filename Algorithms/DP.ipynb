{
 "cells": [
  {
   "cell_type": "markdown",
   "metadata": {},
   "source": [
    "# Maximum Subarray (Continus)\n",
    "\n",
    "containing at least one number"
   ]
  },
  {
   "cell_type": "markdown",
   "metadata": {},
   "source": [
    "## O(n)"
   ]
  },
  {
   "cell_type": "code",
   "execution_count": 1,
   "metadata": {
    "collapsed": true
   },
   "outputs": [],
   "source": [
    "# 设定最大值和当前值，另外需要设置最大的负值考虑到全部为负的情况。 \n",
    "class Solution(object):\n",
    "    def maxSubArray(self, nums):\n",
    "        rst, curr = 0,0\n",
    "        max_negtive = -float(\"inf\")\n",
    "        flag_positive = False\n",
    "        \n",
    "        for i in nums:\n",
    "            if i>=0:\n",
    "                curr += i\n",
    "                flag_positive = True\n",
    "            else:\n",
    "                max_negtive = max(max_negtive,i)\n",
    "                rst = max(rst,curr)\n",
    "                if curr+i>0:\n",
    "                    curr = curr+i\n",
    "                else:\n",
    "                    curr = 0\n",
    "        \n",
    "        if flag_positive:\n",
    "            return max(rst, curr)\n",
    "        else:\n",
    "            return max_negtive"
   ]
  },
  {
   "cell_type": "markdown",
   "metadata": {},
   "source": [
    "## DP\n",
    "\n",
    "- dp[i]为以i结尾的最大子序列，dp[i+1]=A[i+1] + (dp[i] if dp[i]>0 else 0)\n",
    "- dp[nums] = max(left,right,left+right)"
   ]
  },
  {
   "cell_type": "code",
   "execution_count": 2,
   "metadata": {
    "collapsed": true
   },
   "outputs": [],
   "source": [
    "class Solution(object):\n",
    "    def maxSubArray(self, nums):\n",
    "        if not nums: return 0\n",
    "        \n",
    "        dp = nums[0]\n",
    "        rst = -float(\"inf\")\n",
    "        for i in nums[1:]:\n",
    "            rst = max(rst, dp)\n",
    "            dp = i + (dp if dp>0 else 0)\n",
    "        rst = max(rst, dp)    \n",
    "        return rst"
   ]
  },
  {
   "cell_type": "code",
   "execution_count": 41,
   "metadata": {
    "collapsed": true
   },
   "outputs": [],
   "source": [
    "class Solution(object):\n",
    "    def maxSubArray(self, nums):\n",
    "        # base case\n",
    "        if not nums: return 0\n",
    "        if len(nums)==1: return nums[0]\n",
    "        \n",
    "        # main\n",
    "        mi = len(nums)//2\n",
    "        \n",
    "        middle_left_curr,middle_left_max=0, -float(\"inf\")\n",
    "        for i in nums[:mi][::-1]:\n",
    "            middle_left_curr += i\n",
    "            middle_left_max = max(middle_left_curr, middle_left_max)\n",
    "        middle_left_max = max(middle_left_curr, middle_left_max)\n",
    "        \n",
    "        middle_right_curr,middle_right_max=0, -float(\"inf\")\n",
    "        for i in nums[mi:]:\n",
    "            middle_right_curr += i\n",
    "            middle_right_max = max(middle_right_curr, middle_right_max)\n",
    "        middle_right_max = max(middle_right_curr, middle_right_max)\n",
    "        \n",
    "        middle = middle_left_max+middle_right_max\n",
    "        \n",
    "        return max(self.maxSubArray(nums[:mi]), self.maxSubArray(nums[mi:]), middle)  "
   ]
  },
  {
   "cell_type": "markdown",
   "metadata": {},
   "source": [
    "# Fibonacci"
   ]
  },
  {
   "cell_type": "code",
   "execution_count": 58,
   "metadata": {
    "collapsed": true
   },
   "outputs": [],
   "source": [
    "def fib():\n",
    "    a, b = 0, 1\n",
    "    yield a\n",
    "    yield b\n",
    "    while True:\n",
    "        a, b = b, a+b\n",
    "        yield b\n",
    "        \n",
    "def fib(idx):\n",
    "    a, b = 0, 1\n",
    "    if idx == 0:\n",
    "        return a\n",
    "    elif idx == 1:\n",
    "        return b\n",
    "    else:\n",
    "        for i in range(idx-1):\n",
    "            a, b = b, a+b\n",
    "        return b"
   ]
  },
  {
   "cell_type": "code",
   "execution_count": 46,
   "metadata": {
    "collapsed": false
   },
   "outputs": [],
   "source": []
  }
 ],
 "metadata": {
  "anaconda-cloud": {},
  "kernelspec": {
   "display_name": "Python [default]",
   "language": "python",
   "name": "python3"
  },
  "language_info": {
   "codemirror_mode": {
    "name": "ipython",
    "version": 3
   },
   "file_extension": ".py",
   "mimetype": "text/x-python",
   "name": "python",
   "nbconvert_exporter": "python",
   "pygments_lexer": "ipython3",
   "version": "3.5.2"
  }
 },
 "nbformat": 4,
 "nbformat_minor": 0
}
