{
 "cells": [
  {
   "cell_type": "markdown",
   "metadata": {},
   "source": [
    "# Changing Money"
   ]
  },
  {
   "cell_type": "code",
   "execution_count": 239,
   "metadata": {
    "collapsed": true
   },
   "outputs": [],
   "source": [
    "def get_change(n):\n",
    "    K = 0\n",
    "    \n",
    "    for k in [10,5,1]:\n",
    "        aliquot = n//k\n",
    "        K += aliquot\n",
    "        remainder = n%k\n",
    "        n = remainder\n",
    "        if remainder==0:\n",
    "            return K\n",
    "    raise ValueError('there is error')"
   ]
  },
  {
   "cell_type": "markdown",
   "metadata": {},
   "source": [
    "# Fractional Knapsack"
   ]
  },
  {
   "cell_type": "code",
   "execution_count": 246,
   "metadata": {
    "collapsed": true
   },
   "outputs": [],
   "source": [
    "def get_optimal_value(capacity, weights, values):\n",
    "\n",
    "    #获得排序的（valuePerWeight,weight）的元组\n",
    "    valuePerWeight = [i/j for i,j in zip(values,weights)]\n",
    "    vperw_weight = list(zip(valuePerWeight,weights))\n",
    "    vperw_weight.sort(key=lambda x:x[0],reverse=True)  #根据单位重量的价值进行排序，vperw_weight是（valuePerWeight,weight）的元组\n",
    "    #根据上面的（valuePerWeight,weight）来计算\n",
    "    remainCapacity = capacity\n",
    "    value = 0.\n",
    "    for vpw,weight in vperw_weight:\n",
    "        putWeight = min(remainCapacity,weight)\n",
    "        remainCapacity -= putWeight\n",
    "        value += putWeight*vpw\n",
    "    return value"
   ]
  },
  {
   "cell_type": "markdown",
   "metadata": {},
   "source": [
    "# Covering Segments"
   ]
  },
  {
   "cell_type": "code",
   "execution_count": 254,
   "metadata": {
    "collapsed": false
   },
   "outputs": [],
   "source": [
    "def inSegment(segment,num):\n",
    "    return num in range(segment.start,segment.end+1)\n",
    "\n",
    "def eachTurn(leftSegments,K_num = []):\n",
    "    \n",
    "    #确定终止条件\n",
    "    if leftSegments == []:\n",
    "        return K_num\n",
    "    \n",
    "    leftSegments.sort(key=lambda x:x.start)\n",
    "    takeIntoSegments = []\n",
    "    firstSegment = leftSegments[0]\n",
    "    \n",
    "    \n",
    "    #print ('程序调用：',leftSegments)\n",
    "    #遍历第一个线段\n",
    "    for k in range(firstSegment.start,firstSegment.end+2):\n",
    "        \n",
    "        #原来takeIntoSegments里面在的，现在还要在\n",
    "        for segment in takeIntoSegments:\n",
    "            if not inSegment(segment,k):\n",
    "                #确定第一个分割的点\n",
    "                K_num.append(k-1)\n",
    "                #确定剩下的segment,从leftSegments减去takeIntoSegments，然后清空takeIntoSegments\n",
    "                leftSegments = list(set(leftSegments) - set(takeIntoSegments))\n",
    "                #递归\n",
    "                #print ('开始递归',leftSegments)\n",
    "                return eachTurn(leftSegments,K_num = K_num)\n",
    "\n",
    "        #查看那个segments在这里\n",
    "        for segment in leftSegments:\n",
    "            if inSegment(segment,k) and (segment not in takeIntoSegments) :\n",
    "                takeIntoSegments.append(segment)\n",
    "            elif not inSegment(segment,k):\n",
    "                break\n",
    "        #print(k,'结束时:',takeIntoSegments)\n",
    "\n",
    "def optimal_points(segments):\n",
    "    points = eachTurn(segments, K_num=[])\n",
    "    return points"
   ]
  },
  {
   "cell_type": "code",
   "execution_count": 174,
   "metadata": {
    "collapsed": true
   },
   "outputs": [],
   "source": [
    "n, *data = map(int, open('data.txt').read().split())\n",
    "segments = list(map(lambda x: Segment(x[0], x[1]), zip(data[::2], data[1::2])))"
   ]
  },
  {
   "cell_type": "code",
   "execution_count": 175,
   "metadata": {
    "collapsed": false
   },
   "outputs": [
    {
     "data": {
      "text/plain": [
       "[Segment(start=4, end=7), Segment(start=4, end=7), Segment(start=4, end=7)]"
      ]
     },
     "execution_count": 175,
     "metadata": {},
     "output_type": "execute_result"
    }
   ],
   "source": [
    "segments"
   ]
  },
  {
   "cell_type": "code",
   "execution_count": 255,
   "metadata": {
    "collapsed": false
   },
   "outputs": [
    {
     "data": {
      "text/plain": [
       "[7]"
      ]
     },
     "execution_count": 255,
     "metadata": {},
     "output_type": "execute_result"
    }
   ],
   "source": [
    "optimal_points(segments)"
   ]
  },
  {
   "cell_type": "markdown",
   "metadata": {},
   "source": [
    "# Pairwise Distinct Summands"
   ]
  },
  {
   "cell_type": "code",
   "execution_count": 247,
   "metadata": {
    "collapsed": true
   },
   "outputs": [],
   "source": [
    "def small_q(k,l,summands=[]):\n",
    "    if k<=2*l:\n",
    "        summands.append(k)\n",
    "        return summands\n",
    "    else:\n",
    "        summands.append(l)\n",
    "        return small_q(k-l,l+1,summands=summands)\n",
    "\n",
    "\n",
    "def optimal_summands(n):\n",
    "    init = []\n",
    "    x = small_q(n,l=1,summands=init)\n",
    "    #write your code here\n",
    "    return x"
   ]
  }
 ],
 "metadata": {
  "kernelspec": {
   "display_name": "Python 3",
   "language": "python",
   "name": "python3"
  },
  "language_info": {
   "codemirror_mode": {
    "name": "ipython",
    "version": 3
   },
   "file_extension": ".py",
   "mimetype": "text/x-python",
   "name": "python",
   "nbconvert_exporter": "python",
   "pygments_lexer": "ipython3",
   "version": "3.5.1"
  }
 },
 "nbformat": 4,
 "nbformat_minor": 0
}
