{
 "cells": [
  {
   "cell_type": "code",
   "execution_count": 5,
   "metadata": {
    "collapsed": true
   },
   "outputs": [],
   "source": [
    "import random\n",
    "import copy\n",
    "import scipy as sp\n",
    "import os\n",
    "import numpy as np"
   ]
  },
  {
   "cell_type": "code",
   "execution_count": 6,
   "metadata": {
    "collapsed": true
   },
   "outputs": [],
   "source": [
    "#Q16\n",
    "def sign(x):\n",
    "    if (x>=0):\n",
    "        return 1\n",
    "    else:\n",
    "        return -1"
   ]
  },
  {
   "cell_type": "code",
   "execution_count": 7,
   "metadata": {
    "collapsed": true
   },
   "outputs": [],
   "source": [
    "def accuracy(set1,set2):\n",
    "    if (len(set1)!=len(set2)):\n",
    "        print (\"error\")\n",
    "    else:\n",
    "        l = len(set1)\n",
    "        suml = 0\n",
    "        for i in range(l):\n",
    "            if set1[i]==set2[i]:\n",
    "                suml += 1\n",
    "    return float(suml)/l\n",
    "        "
   ]
  },
  {
   "cell_type": "code",
   "execution_count": 35,
   "metadata": {
    "collapsed": true
   },
   "outputs": [],
   "source": [
    "def h(s,theta,x):\n",
    "    return s*sign(x-theta)"
   ]
  },
  {
   "cell_type": "code",
   "execution_count": 10,
   "metadata": {
    "collapsed": true
   },
   "outputs": [],
   "source": [
    "def eout(s,theta):\n",
    "    return 0.5+0.3*s*(abs(theta)-1)"
   ]
  },
  {
   "cell_type": "code",
   "execution_count": 8,
   "metadata": {
    "collapsed": true
   },
   "outputs": [],
   "source": [
    "#产生大小为20的x，y数据\n",
    "def generateData():\n",
    "    xset= []\n",
    "    yset= []\n",
    "    choices = [1,1,1,1,-1]\n",
    "    for i in range(20):\n",
    "        x = random.uniform(-1,1)\n",
    "        y = sign(x)*random.choice(choices)\n",
    "        xset.append(x)\n",
    "        yset.append(y)\n",
    "    return (xset,yset)"
   ]
  },
  {
   "cell_type": "code",
   "execution_count": 11,
   "metadata": {
    "collapsed": true
   },
   "outputs": [],
   "source": [
    "#将输入的数组排序，输出排序后的x,y\n",
    "def paixu(xset,yset):\n",
    "    n = len(yset)\n",
    "    #产生xsort，并将其排序\n",
    "    xsort = copy.deepcopy(xset)\n",
    "    xsort.sort()\n",
    "    y = [0]*n\n",
    "    for i in range(n):\n",
    "        y[i] = yset[xset.index(xsort[i])]\n",
    "    return (xsort,y)\n",
    "    \n",
    "    "
   ]
  },
  {
   "cell_type": "code",
   "execution_count": 12,
   "metadata": {
    "collapsed": false
   },
   "outputs": [],
   "source": [
    "def stump(xset,yset):\n",
    "    #先对原数组进行排序\n",
    "    xsort,ysort = paixu(xset,yset)\n",
    "    #设置最优参数\n",
    "    bestaccu = 0\n",
    "    besti = 0\n",
    "    bestiArray =[]\n",
    "    for i in range(40):\n",
    "        #遍历各种情况\n",
    "        if i < 20:\n",
    "            yp = [-1]*i + [1]*(20-i)\n",
    "        else:\n",
    "            ii = i-20\n",
    "            yp = [1]*ii + [-1]*(20-ii)\n",
    "        Accu = accuracy(yp,ysort)\n",
    "\n",
    "        if Accu>bestaccu:\n",
    "            bestaccu = Accu\n",
    "            besti = i\n",
    "            bestiArray =[]\n",
    "            bestiArray.append(i) \n",
    "        elif Accu==bestaccu:\n",
    "            bestiArray.append(i)   \n",
    "            \n",
    "        besti = random.choice(bestiArray)\n",
    "    #print besti,bestaccu\n",
    "    #已经遍历完所有可能情况了\n",
    "    if (besti<20):\n",
    "        #说明s是正的情况，第i个数据是负的，第i+1个数据是正的\n",
    "        s = 1\n",
    "        if (besti==19):\n",
    "            theta =(xsort[besti]+xsort[besti-1])/2\n",
    "        elif (besti==0):\n",
    "            theta =xsort[besti]\n",
    "        else:\n",
    "            theta = (xsort[besti]+xsort[besti+1])/2\n",
    "    else:\n",
    "        #说明s是负的情况，第i个数据是正的的，第i+1个数据是负的的\n",
    "        s = -1\n",
    "        if (besti==39):\n",
    "            theta =(xsort[besti-20]+xsort[besti-20-1])/2\n",
    "        elif (besti==20):\n",
    "            theta =xsort[besti-20]\n",
    "        else:\n",
    "            theta = (xsort[besti-20]+xsort[besti-20+1])/2\n",
    "    oute = eout(s,theta)\n",
    "    return (1-bestaccu,oute)"
   ]
  },
  {
   "cell_type": "code",
   "execution_count": 13,
   "metadata": {
    "collapsed": false
   },
   "outputs": [],
   "source": [
    "def main():\n",
    "    x,y = generateData()\n",
    "    return stump(x,y)"
   ]
  },
  {
   "cell_type": "code",
   "execution_count": 14,
   "metadata": {
    "collapsed": false
   },
   "outputs": [],
   "source": [
    "#Q17\n",
    "eein = []\n",
    "eeout = []\n",
    "for i in range(5000):\n",
    "    nei,wai = main()\n",
    "    eein.append(nei)\n",
    "    eeout.append(wai)\n",
    "    \n",
    "    "
   ]
  },
  {
   "cell_type": "code",
   "execution_count": 15,
   "metadata": {
    "collapsed": false
   },
   "outputs": [
    {
     "data": {
      "text/plain": [
       "0.16893"
      ]
     },
     "execution_count": 15,
     "metadata": {},
     "output_type": "execute_result"
    }
   ],
   "source": [
    "#Q17\n",
    "sp.mean(eein)"
   ]
  },
  {
   "cell_type": "code",
   "execution_count": 16,
   "metadata": {
    "collapsed": false
   },
   "outputs": [
    {
     "data": {
      "text/plain": [
       "0.2685752190465644"
      ]
     },
     "execution_count": 16,
     "metadata": {},
     "output_type": "execute_result"
    }
   ],
   "source": [
    "#Q18\n",
    "sp.mean(eeout)"
   ]
  },
  {
   "cell_type": "code",
   "execution_count": 357,
   "metadata": {
    "collapsed": true
   },
   "outputs": [],
   "source": [
    "#multi-dimensional\n",
    "#读取输入训练和测试数据"
   ]
  },
  {
   "cell_type": "code",
   "execution_count": 17,
   "metadata": {
    "collapsed": false
   },
   "outputs": [],
   "source": [
    "os.chdir('E:\\\\\\xce\\xd2\\xb5\\xc4\\xbc\\xe1\\xb9\\xfb\\xd4\\xc6')"
   ]
  },
  {
   "cell_type": "code",
   "execution_count": 18,
   "metadata": {
    "collapsed": false
   },
   "outputs": [
    {
     "data": {
      "text/plain": [
       "True"
      ]
     },
     "execution_count": 18,
     "metadata": {},
     "output_type": "execute_result"
    }
   ],
   "source": [
    "trainfile = open(\"train.txt\")\n",
    "train = []\n",
    "for line in trainfile:\n",
    "    a1 = line.strip().split()\n",
    "    train.append (map(lambda x:float(x),a1))\n",
    "trainfile.close()\n",
    "trainfile.closed"
   ]
  },
  {
   "cell_type": "code",
   "execution_count": 19,
   "metadata": {
    "collapsed": false
   },
   "outputs": [
    {
     "data": {
      "text/plain": [
       "True"
      ]
     },
     "execution_count": 19,
     "metadata": {},
     "output_type": "execute_result"
    }
   ],
   "source": [
    "testfile = open(\"test.txt\")\n",
    "test = []\n",
    "for line in testfile:\n",
    "    a1 = line.strip().split()\n",
    "    test.append (map(lambda x:float(x),a1))\n",
    "testfile.close()\n",
    "testfile.closed"
   ]
  },
  {
   "cell_type": "code",
   "execution_count": 20,
   "metadata": {
    "collapsed": false
   },
   "outputs": [
    {
     "name": "stdout",
     "output_type": "stream",
     "text": [
      "(100L, 10L)\n",
      "(1000L, 10L)\n"
     ]
    }
   ],
   "source": [
    "train = np.array(train)\n",
    "test = np.array(test)\n",
    "print train.shape\n",
    "print test.shape"
   ]
  },
  {
   "cell_type": "code",
   "execution_count": 33,
   "metadata": {
    "collapsed": true
   },
   "outputs": [],
   "source": [
    "def stump2(xset,yset,N):\n",
    "    #先对原数组进行排序\n",
    "    xsort,ysort = paixu(xset,yset)\n",
    "    #设置最优参数\n",
    "    bestaccu = 0\n",
    "    besti = 0\n",
    "    bestiArray =[]\n",
    "    \n",
    "    for i in range(N*2):\n",
    "        #遍历各种情况\n",
    "        if i < N:\n",
    "            yp = [-1]*i + [1]*(N-i)\n",
    "        else:\n",
    "            ii = i-N\n",
    "            yp = [1]*ii + [-1]*(N-ii)\n",
    "        Accu = accuracy(yp,ysort)\n",
    "\n",
    "        if Accu>bestaccu:\n",
    "            bestaccu = Accu\n",
    "            besti = i\n",
    "            bestiArray =[]\n",
    "            bestiArray.append(i) \n",
    "        elif Accu==bestaccu:\n",
    "            bestiArray.append(i)   \n",
    "            \n",
    "        besti = random.choice(bestiArray)\n",
    "    #print besti,bestaccu\n",
    "    #已经遍历完所有可能情况了\n",
    "    if (besti<N):\n",
    "        #说明s是正的情况，第i个数据是负的，第i+1个数据是正的\n",
    "        s = 1\n",
    "        if (besti==N-1):\n",
    "            theta =(xsort[besti]+xsort[besti-1])/2\n",
    "        elif (besti==0):\n",
    "            theta =xsort[besti]\n",
    "        else:\n",
    "            theta = (xsort[besti]+xsort[besti+1])/2\n",
    "    else:\n",
    "        #说明s是负的情况，第i个数据是正的的，第i+1个数据是负的的\n",
    "        s = -1\n",
    "        if (besti==N*2-1):\n",
    "            theta =(xsort[besti-N]+xsort[besti-N-1])/2\n",
    "        elif (besti==N):\n",
    "            theta =xsort[besti-N]\n",
    "        else:\n",
    "            theta = (xsort[besti-N]+xsort[besti-N+1])/2\n",
    "    oute = eout(s,theta)\n",
    "    #return (1-bestaccu,oute)  #Q18\n",
    "    return (s,theta)"
   ]
  },
  {
   "cell_type": "code",
   "execution_count": 34,
   "metadata": {
    "collapsed": false,
    "scrolled": true
   },
   "outputs": [
    {
     "name": "stdout",
     "output_type": "stream",
     "text": [
      "(-1, 5.3004999999999995)\n",
      "(1, -2.1305000000000001)\n",
      "(1, -8.3324999999999996)\n",
      "(-1, 1.8835000000000002)\n",
      "(1, -7.843)\n",
      "(-1, 4.3879999999999999)\n",
      "(-1, 4.2435)\n",
      "(-1, -2.6795)\n",
      "(-1, 0.048000000000000001)\n"
     ]
    }
   ],
   "source": [
    "#Q19\n",
    "for i in range(9):\n",
    "    print stump2(list(train[:,i]),list(train[:,-1]),100)"
   ]
  },
  {
   "cell_type": "code",
   "execution_count": 45,
   "metadata": {
    "collapsed": false
   },
   "outputs": [],
   "source": [
    "testsets = []\n",
    "for i in list(test[:,3]):\n",
    "    testsets.append(h(-1, 1.8835000000000002,i))"
   ]
  },
  {
   "cell_type": "code",
   "execution_count": 49,
   "metadata": {
    "collapsed": false
   },
   "outputs": [
    {
     "data": {
      "text/plain": [
       "1000"
      ]
     },
     "execution_count": 49,
     "metadata": {},
     "output_type": "execute_result"
    }
   ],
   "source": [
    "len(testsets)\n",
    "\n"
   ]
  },
  {
   "cell_type": "code",
   "execution_count": 50,
   "metadata": {
    "collapsed": false
   },
   "outputs": [
    {
     "data": {
      "text/plain": [
       "0.633"
      ]
     },
     "execution_count": 50,
     "metadata": {},
     "output_type": "execute_result"
    }
   ],
   "source": [
    "#Q20\n",
    "accuracy(testsets,list(test[:,-1]))"
   ]
  }
 ],
 "metadata": {
  "kernelspec": {
   "display_name": "Python 2",
   "language": "python",
   "name": "python2"
  },
  "language_info": {
   "codemirror_mode": {
    "name": "ipython",
    "version": 2
   },
   "file_extension": ".py",
   "mimetype": "text/x-python",
   "name": "python",
   "nbconvert_exporter": "python",
   "pygments_lexer": "ipython2",
   "version": "2.7.10"
  }
 },
 "nbformat": 4,
 "nbformat_minor": 0
}
