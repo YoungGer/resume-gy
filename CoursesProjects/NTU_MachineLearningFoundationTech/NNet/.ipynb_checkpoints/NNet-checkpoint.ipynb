{
 "cells": [
  {
   "cell_type": "code",
   "execution_count": 1,
   "metadata": {
    "collapsed": false
   },
   "outputs": [
    {
     "name": "stdout",
     "output_type": "stream",
     "text": [
      "C:\\Users\\younggy\\Desktop\n"
     ]
    }
   ],
   "source": [
    "cd Desktop/"
   ]
  },
  {
   "cell_type": "code",
   "execution_count": 2,
   "metadata": {
    "collapsed": true
   },
   "outputs": [],
   "source": [
    "train = pd.read_csv(\"hw4_nnet_train.dat\",sep=\" \",names=[\"x\",\"y\",\"label\"])\n",
    "test  = pd.read_csv(\"hw4_nnet_test.dat\",sep=\" \",names=[\"x\",\"y\",\"label\"])"
   ]
  },
  {
   "cell_type": "code",
   "execution_count": 263,
   "metadata": {
    "collapsed": false,
    "scrolled": true
   },
   "outputs": [
    {
     "name": "stdout",
     "output_type": "stream",
     "text": [
      "(25L, 3L)\n",
      "(1L, 25L)\n",
      "(250L, 3L)\n",
      "(1L, 250L)\n"
     ]
    }
   ],
   "source": [
    "train[\"z\"] = 1\n",
    "test[\"z\"] = 1\n",
    "trainX = np.array(train[[\"x\",\"y\",\"z\"]])\n",
    "trainY = np.array(train[\"label\"])\n",
    "testX  = np.array(test[[\"x\",\"y\",\"z\"]])\n",
    "testY  = np.array(test[\"label\"])\n",
    "trainY = trainY.reshape(1,len(trainY))\n",
    "testY = testY.reshape(1,len(testY))\n",
    "print trainX.shape\n",
    "print trainY.shape\n",
    "print testX.shape\n",
    "print testY.shape"
   ]
  },
  {
   "cell_type": "code",
   "execution_count": 427,
   "metadata": {
    "collapsed": false,
    "scrolled": true
   },
   "outputs": [],
   "source": [
    "#定义tanh的导数\n",
    "def dtanh(s):\n",
    "    return 1-np.tanh(s)**2\n",
    "\n",
    "class NNet():\n",
    "    def __init__(self,trainX,trainY,testX,testY,M,r,J):\n",
    "        self.trainX = trainX\n",
    "        self.trainY = trainY\n",
    "        self.testX = testX\n",
    "        self.testY = testY\n",
    "        self.M = M\n",
    "        self.r = r\n",
    "        self.J = J\n",
    "        self.W10 = np.random.uniform(-self.r,self.r,[self.M,3])\n",
    "        self.W21 = np.random.uniform(-self.r,self.r,[1,self.M+1])\n",
    "              \n",
    "    def sampleXY(self):\n",
    "        #从输入数据中随机挑出一个数据\n",
    "        index = np.random.randint(0,len(self.trainX))\n",
    "        return (self.trainX[index,:],self.trainY[0,index])\n",
    "    \n",
    "    def trainOneSample(self):\n",
    "        (X0,Y0) = self.sampleXY()\n",
    "        \n",
    "        #将原来的权重引过来\n",
    "        W10 = self.W10\n",
    "        W21 = self.W21\n",
    "        M = self.M\n",
    "        r = self.r\n",
    "        J = self.J\n",
    "        \n",
    "        \n",
    "        #前向遍历，forward\n",
    "        S1 = np.dot(W10,X0)\n",
    "        X1 = np.tanh(S1)\n",
    "        assert X1.shape == (M,)\n",
    "        X1 = np.hstack([X1,1]) #向X1中增加单位1神经元\n",
    "        assert X1.shape == (M+1,)\n",
    "        S2 = np.dot(W21,X1)\n",
    "        X2 = np.tanh(S2)\n",
    "        assert X2.shape == (1,)\n",
    "\n",
    "        #后向遍历，更改W的值\n",
    "        XOUT = X2[0]\n",
    "        dOutS2 = 2*(np.tanh(S2[0])-Y0)*dtanh(S2[0])  #error对S2求导\n",
    "        dOutS1 = dOutS2*W21.T[0:len(W21.T)-1]* np.array(map(lambda x: dtanh(x),S1)).reshape(len(S1),1) #error对S1求导\n",
    "        dOutW21 = dOutS2*X1.reshape(1,len(X1)) #error对W21求导\n",
    "        assert  dOutW21.shape==W21.shape\n",
    "        dOutW10 = dOutS1*X0.reshape(1,len(X0)) #error对W10求导\n",
    "        assert  dOutW10.shape==W10.shape\n",
    "        #上面求导完成后，下面对于w开始遍历修改\n",
    "        self.W10 = W10 - J*dOutW10\n",
    "        self.W21 = W21 - J*dOutW21\n",
    "        \n",
    "    def train(self,T):\n",
    "        for i in range(T):\n",
    "            self.trainOneSample()\n",
    "    \n",
    "    def predict(self):\n",
    "        #将原来的权重引过来\n",
    "        W10 = self.W10\n",
    "        W21 = self.W21\n",
    "        X0  = self.testX\n",
    "        M   = self.M\n",
    "        \n",
    "        \n",
    "        #前向遍历，forward\n",
    "        S1 = np.dot(W10,X0.T)\n",
    "        X1 = np.tanh(S1)\n",
    "        assert X1.shape == (M,len(X0))\n",
    "        X1 = np.vstack([X1,np.ones((1,len(X0)))]) #向X1中增加单位1神经元\n",
    "        \n",
    "        assert X1.shape == (M+1,len(X0))\n",
    "        S2 = np.dot(W21,X1)\n",
    "        X2 = np.tanh(S2)\n",
    "        assert X2.shape == (1,len(X0))\n",
    "        return np.sign(X2)\n",
    "    \n",
    "    def evaluate(self):\n",
    "        p = self.predict()\n",
    "        return np.mean(p==self.testY)"
   ]
  },
  {
   "cell_type": "code",
   "execution_count": null,
   "metadata": {
    "collapsed": true
   },
   "outputs": [],
   "source": []
  },
  {
   "cell_type": "code",
   "execution_count": 442,
   "metadata": {
    "collapsed": true
   },
   "outputs": [],
   "source": [
    "#Q11\n",
    "T = 50000\n",
    "Mlist = [1,6,11,16,21]\n",
    "r = 0.1 #设定神经元初始权重范围 （-r,r）\n",
    "J = 0.1 #设定每次更改的步长\n",
    "\n",
    "#单次实验\n",
    "def singleExperiment(trainX,trainY,testX,testY,Mlist,r,J,T):\n",
    "    Outcome = []  #包含了各个Mlist中的结果\n",
    "    for M in Mlist:\n",
    "        N0 = NNet(trainX,trainY,testX,testY,M,r,J)\n",
    "        N0.train(T)\n",
    "        Outcome.append(N0.evaluate())\n",
    "    return Outcome\n",
    "def Experiment(trainX,trainY,testX,testY,Mlist,r,J,T,NumOfExp):\n",
    "    Outcomes = []\n",
    "    for i in range(NumOfExp):\n",
    "        Outcomes.append(singleExperiment(trainX,trainY,testX,testY,Mlist,r,J,T))\n",
    "    return Outcomes"
   ]
  },
  {
   "cell_type": "code",
   "execution_count": 443,
   "metadata": {
    "collapsed": false
   },
   "outputs": [],
   "source": [
    "Outcomes = Experiment(trainX,trainY,testX,testY,Mlist,r,J,50000,500)"
   ]
  },
  {
   "cell_type": "code",
   "execution_count": 453,
   "metadata": {
    "collapsed": false
   },
   "outputs": [
    {
     "data": {
      "text/plain": [
       "array([ 0.710184,  0.955376,  0.93716 ,  0.918144,  0.895992])"
      ]
     },
     "execution_count": 453,
     "metadata": {},
     "output_type": "execute_result"
    }
   ],
   "source": [
    "np.mean(np.array(Outcomes),0)"
   ]
  },
  {
   "cell_type": "code",
   "execution_count": 461,
   "metadata": {
    "collapsed": true
   },
   "outputs": [],
   "source": [
    "#Q12\n",
    "T = 50000\n",
    "M = 3\n",
    "#r = 0.1 #设定神经元初始权重范围 （-r,r）\n",
    "rlist = [0,0.1,10,100,1000]\n",
    "J = 0.1 #设定每次更改的步长\n",
    "\n",
    "#单次实验\n",
    "def singleExperiment(trainX,trainY,testX,testY,M,rlist,J,T):\n",
    "    Outcome = []  #包含了各个Mlist中的结果\n",
    "    for r in rlist:\n",
    "        N0 = NNet(trainX,trainY,testX,testY,M,r,J)\n",
    "        N0.train(T)\n",
    "        Outcome.append(N0.evaluate())\n",
    "    return Outcome\n",
    "def Experiment(trainX,trainY,testX,testY,M,rlist,J,T,NumOfExp):\n",
    "    Outcomes = []\n",
    "    for i in range(NumOfExp):\n",
    "        Outcomes.append(singleExperiment(trainX,trainY,testX,testY,M,rlist,J,T))\n",
    "    return Outcomes"
   ]
  },
  {
   "cell_type": "code",
   "execution_count": 462,
   "metadata": {
    "collapsed": true
   },
   "outputs": [],
   "source": [
    "Outcomes = Experiment(trainX,trainY,testX,testY,M,rlist,J,50000,100)"
   ]
  },
  {
   "cell_type": "code",
   "execution_count": 466,
   "metadata": {
    "collapsed": false,
    "scrolled": false
   },
   "outputs": [
    {
     "data": {
      "text/plain": [
       "(5L,)"
      ]
     },
     "execution_count": 466,
     "metadata": {},
     "output_type": "execute_result"
    }
   ],
   "source": [
    "np.mean(np.array(Outcomes),0).shape"
   ]
  },
  {
   "cell_type": "code",
   "execution_count": 467,
   "metadata": {
    "collapsed": false
   },
   "outputs": [
    {
     "data": {
      "text/plain": [
       "array([ 0.50896,  0.96208,  0.67072,  0.52312,  0.49192])"
      ]
     },
     "execution_count": 467,
     "metadata": {},
     "output_type": "execute_result"
    }
   ],
   "source": [
    "np.mean(np.array(Outcomes),0)"
   ]
  },
  {
   "cell_type": "code",
   "execution_count": null,
   "metadata": {
    "collapsed": true
   },
   "outputs": [],
   "source": [
    "#Q13\n",
    "T = 50000\n",
    "M = 3\n",
    "r = 0.1 #设定神经元初始权重范围 （-r,r）\n",
    "Jlist = [0.001,0.01,0.1,1,10] #设定每次更改的步长\n",
    "\n",
    "#单次实验\n",
    "def singleExperiment(trainX,trainY,testX,testY,M,r,Jlist,T):\n",
    "    Outcome = []  #包含了各个Mlist中的结果\n",
    "    for J in Jlist:\n",
    "        N0 = NNet(trainX,trainY,testX,testY,M,r,J)\n",
    "        N0.train(T)\n",
    "        Outcome.append(N0.evaluate())\n",
    "    return Outcome\n",
    "def Experiment(trainX,trainY,testX,testY,M,r,Jlist,T,NumOfExp):\n",
    "    Outcomes = []\n",
    "    for i in range(NumOfExp):\n",
    "        Outcomes.append(singleExperiment(trainX,trainY,testX,testY,M,r,Jlist,T))\n",
    "    return Outcomes"
   ]
  },
  {
   "cell_type": "code",
   "execution_count": 500,
   "metadata": {
    "collapsed": false
   },
   "outputs": [],
   "source": [
    "#Q14\n",
    "#d-8-3-1的网络结构\n",
    "#定义tanh的导数\n",
    "def dtanh(s):\n",
    "    return 1-np.tanh(s)**2\n",
    "\n",
    "class NNet():\n",
    "    def __init__(self,trainX,trainY,testX,testY,r,J):\n",
    "        self.trainX = trainX\n",
    "        self.trainY = trainY\n",
    "        self.testX = testX\n",
    "        self.testY = testY\n",
    "        self.r = r\n",
    "        self.J = J\n",
    "        self.W10 = np.random.uniform(-self.r,self.r,[8,3])\n",
    "        self.W21 = np.random.uniform(-self.r,self.r,[3,9])\n",
    "        self.W32 = np.random.uniform(-self.r,self.r,[1,4])\n",
    "              \n",
    "    def sampleXY(self):\n",
    "        #从输入数据中随机挑出一个数据\n",
    "        index = np.random.randint(0,len(self.trainX))\n",
    "        return (self.trainX[index,:],self.trainY[0,index])\n",
    "    def trainOneSample(self):\n",
    "        (X0,Y0) = self.sampleXY()\n",
    "        \n",
    "        #将原来的权重引过来\n",
    "        W10 = self.W10\n",
    "        W21 = self.W21\n",
    "        W32 = self.W32\n",
    "\n",
    "        r = self.r\n",
    "        J = self.J\n",
    "        \n",
    "        \n",
    "        #前向遍历，forward\n",
    "        S1 = np.dot(W10,X0)\n",
    "        X1 = np.tanh(S1)\n",
    "        assert X1.shape == (8,)\n",
    "        X1 = np.hstack([X1,1]) #向X1中增加单位1神经元\n",
    "        assert X1.shape == (9,)\n",
    "        S2 = np.dot(W21,X1)\n",
    "        X2 = np.tanh(S2)\n",
    "        assert X2.shape == (3,)\n",
    "        X2 = np.hstack([X2,1]) #向X2中增加单位1神经元\n",
    "        assert X2.shape == (4,)\n",
    "        S3 = np.dot(W32,X2)\n",
    "        X3 = np.tanh(S3)\n",
    "        assert X3.shape == (1,)\n",
    "        \n",
    "        #后向遍历，更改W的值\n",
    "        XOUT = X3[0]\n",
    "        dOutS3 = 2*(np.tanh(S3[0])-Y0)*dtanh(S3[0])                                                    #error对SS求导\n",
    "        dOutS2 = dOutS3*W32.T[0:len(W32.T)-1]* np.array(map(lambda x: dtanh(x),S2)).reshape(len(S2),1) #error对S1求导\n",
    "#         print dOutS2.shape 3 1\n",
    "#         print W21.T.shape 9 3\n",
    "#         print np.array(map(lambda x: dtanh(x),S1)).reshape(len(S1),1).shape 8 1\n",
    "        dOutS1 = np.dot(W21.T[0:len(W21.T)-1],dOutS2) * np.array(map(lambda x: dtanh(x),S1)).reshape(len(S1),1) #error对S1求导\n",
    "        \n",
    "        dOutW32 = dOutS3*X2.reshape(1,len(X2)) #error对W32求导\n",
    "        assert  dOutW32.shape==W32.shape\n",
    "        dOutW21 = dOutS2*X1.reshape(1,len(X1)) #error对W21求导\n",
    "        assert  dOutW21.shape==W21.shape\n",
    "        dOutW10 = dOutS1*X0.reshape(1,len(X0)) #error对W10求导\n",
    "        assert  dOutW10.shape==W10.shape\n",
    "        \n",
    "        #上面求导完成后，下面对于w开始遍历修改\n",
    "        self.W10 = W10 - J*dOutW10\n",
    "        self.W21 = W21 - J*dOutW21\n",
    "        self.W32 = W32 - J*dOutW32\n",
    "        \n",
    "        \n",
    "    def train(self,T):\n",
    "        for i in range(T):\n",
    "            self.trainOneSample()\n",
    "    \n",
    "    def predict(self):\n",
    "        #将原来的权重引过来\n",
    "        W10 = self.W10\n",
    "        W21 = self.W21\n",
    "        W32 = self.W32\n",
    "        X0  = self.testX\n",
    "      \n",
    "        #前向遍历，forward\n",
    "        S1 = np.dot(W10,X0.T)\n",
    "        X1 = np.tanh(S1)\n",
    "        assert X1.shape == (8,len(X0))\n",
    "        X1 = np.vstack([X1,np.ones((1,len(X0)))]) #向X1中增加单位1神经元\n",
    "        assert X1.shape == (9,len(X0))\n",
    "        S2 = np.dot(W21,X1)\n",
    "        X2 = np.tanh(S2)\n",
    "        assert X2.shape == (3,len(X0))\n",
    "        X2 = np.vstack([X2,np.ones((1,len(X0)))]) #向X1中增加单位1神经元\n",
    "        assert X2.shape == (4,len(X0))\n",
    "        S3 = np.dot(W32,X2)\n",
    "        X3 = np.tanh(S3)\n",
    "        assert X3.shape == (1,len(X0))\n",
    "        \n",
    "        return np.sign(X3)\n",
    "    \n",
    "    def evaluate(self):\n",
    "        p = self.predict()\n",
    "        return np.mean(p==self.testY)"
   ]
  },
  {
   "cell_type": "code",
   "execution_count": 505,
   "metadata": {
    "collapsed": true
   },
   "outputs": [],
   "source": [
    "#Q14\n",
    "T = 50000\n",
    "r = 0.1 #设定神经元初始权重范围 （-r,r）\n",
    "J = 0.01 #设定每次更改的步长\n",
    "\n",
    "#单次实验\n",
    "def singleExperiment(trainX,trainY,testX,testY,r,J,T):\n",
    "    N0 = NNet(trainX,trainY,testX,testY,r,J)\n",
    "    N0.train(T)\n",
    "    Outcome = N0.evaluate()\n",
    "    return Outcome\n",
    "def Experiment(trainX,trainY,testX,testY,r,J,T,NumOfExp):\n",
    "    Outcomes = []\n",
    "    for i in range(NumOfExp):\n",
    "        Outcomes.append(singleExperiment(trainX,trainY,testX,testY,r,J,T))\n",
    "    return Outcomes"
   ]
  },
  {
   "cell_type": "code",
   "execution_count": 506,
   "metadata": {
    "collapsed": false
   },
   "outputs": [],
   "source": [
    "Outcomes = Experiment(trainX,trainY,testX,testY,r,J,T,100)"
   ]
  },
  {
   "cell_type": "code",
   "execution_count": 508,
   "metadata": {
    "collapsed": false
   },
   "outputs": [
    {
     "data": {
      "text/plain": [
       "0.96332000000000007"
      ]
     },
     "execution_count": 508,
     "metadata": {},
     "output_type": "execute_result"
    }
   ],
   "source": [
    "np.mean(Outcomes)"
   ]
  }
 ],
 "metadata": {
  "kernelspec": {
   "display_name": "Python 2",
   "language": "python",
   "name": "python2"
  },
  "language_info": {
   "codemirror_mode": {
    "name": "ipython",
    "version": 2
   },
   "file_extension": ".py",
   "mimetype": "text/x-python",
   "name": "python",
   "nbconvert_exporter": "python",
   "pygments_lexer": "ipython2",
   "version": "2.7.11"
  }
 },
 "nbformat": 4,
 "nbformat_minor": 0
}
