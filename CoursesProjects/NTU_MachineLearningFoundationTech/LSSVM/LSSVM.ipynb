{
 "cells": [
  {
   "cell_type": "markdown",
   "metadata": {},
   "source": [
    "# Kernel Ridge Regression "
   ]
  },
  {
   "cell_type": "code",
   "execution_count": 1,
   "metadata": {
    "collapsed": true
   },
   "outputs": [],
   "source": [
    "import numpy as np\n",
    "import scipy as sp\n",
    "import random\n",
    "import copy"
   ]
  },
  {
   "cell_type": "code",
   "execution_count": 2,
   "metadata": {
    "collapsed": false
   },
   "outputs": [
    {
     "name": "stdout",
     "output_type": "stream",
     "text": [
      "C:\\Users\\younggy\\Desktop\n"
     ]
    }
   ],
   "source": [
    "cd Desktop/"
   ]
  },
  {
   "cell_type": "code",
   "execution_count": 4,
   "metadata": {
    "collapsed": false
   },
   "outputs": [],
   "source": [
    "#读取数据\n",
    "data = []\n",
    "with open(r'hw2_lssvm_all.dat') as f1:\n",
    "    for line in f1:\n",
    "        data.append(map(float,line.split()))\n",
    "data = np.array(data)\n",
    "train = data[0:400,:]\n",
    "test = data[400:,:]"
   ]
  },
  {
   "cell_type": "code",
   "execution_count": 21,
   "metadata": {
    "collapsed": false,
    "scrolled": true
   },
   "outputs": [],
   "source": [
    "def gauss(x1,x2,r):\n",
    "    '''\n",
    "    定义高斯核函数\n",
    "    '''\n",
    "    return np.exp(-r*np.sum((x1-x2)**2))\n",
    "\n",
    "def getB(data,r,lamb):\n",
    "    '''\n",
    "    根据输入的训练数据，得到参数B值\n",
    "    data: 数组,包含x和y\n",
    "    r,lamb: 实数\n",
    "    '''\n",
    "    X = data[:,0:-1]\n",
    "    Y = data[:,-1]\n",
    "    N = len(data)\n",
    "    K = np.zeros((N,N))\n",
    "    for i in range(N):\n",
    "        for j in range(N):\n",
    "            K[i,j] = gauss(X[i,:],X[j,:],r)\n",
    "    B = np.dot(np.linalg.inv(K+lamb*np.diag(np.ones(N))) ,Y)\n",
    "    return (B,X)\n",
    "\n",
    "def getY(train,testX,r,lamb):\n",
    "    '''\n",
    "    利用训练集train去训练，得到测试集x上的结果\n",
    "    train：训练集数组，包含x和y\n",
    "    testX: 测试集数组，只包含x\n",
    "    r,lamb: 实数\n",
    "    '''\n",
    "    (B,X)=getB(train,r,lamb)\n",
    "    Y = []\n",
    "    for x in testX:\n",
    "        K = []\n",
    "        for xn in X:\n",
    "            K.append(gauss(xn,x,r))\n",
    "        Y.append(np.dot(K,B))\n",
    "    return Y\n",
    "\n",
    "def test1(train,test):\n",
    "     '''\n",
    "    利用训练集train去训练，得到测试集x上的结果并返回测试集上面的精度\n",
    "    需要预先定义参数R,LAMB的范围\n",
    "    train：训练集数组，包含x和y\n",
    "    test : 测试集数组，包含x和y\n",
    "    '''\n",
    "    R = [32,2,0.125]\n",
    "    LAMB = [0.001,1,1000]\n",
    "    bestrate = 0\n",
    "    for r in R:\n",
    "        for lamb in LAMB:\n",
    "            yp = getY(train,test[:,0:-1],r,lamb)\n",
    "            rate = (np.array(yp)>0) == (test[:,-1]==1)\n",
    "            rate2 = np.mean(rate)\n",
    "            if rate2>bestrate:\n",
    "                bestrate=rate2\n",
    "    return bestrate"
   ]
  }
 ],
 "metadata": {
  "kernelspec": {
   "display_name": "Python 2",
   "language": "python",
   "name": "python2"
  },
  "language_info": {
   "codemirror_mode": {
    "name": "ipython",
    "version": 2
   },
   "file_extension": ".py",
   "mimetype": "text/x-python",
   "name": "python",
   "nbconvert_exporter": "python",
   "pygments_lexer": "ipython2",
   "version": "2.7.10"
  }
 },
 "nbformat": 4,
 "nbformat_minor": 0
}
