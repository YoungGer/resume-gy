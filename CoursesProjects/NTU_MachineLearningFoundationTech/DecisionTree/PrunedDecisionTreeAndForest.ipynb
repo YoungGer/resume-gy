{
 "cells": [
  {
   "cell_type": "code",
   "execution_count": 2,
   "metadata": {
    "collapsed": false
   },
   "outputs": [
    {
     "name": "stdout",
     "output_type": "stream",
     "text": [
      "C:\\Users\\younggy\\Desktop\n"
     ]
    }
   ],
   "source": [
    "cd Desktop/"
   ]
  },
  {
   "cell_type": "code",
   "execution_count": 3,
   "metadata": {
    "collapsed": false
   },
   "outputs": [
    {
     "name": "stdout",
     "output_type": "stream",
     "text": [
      "(100, 3)\n",
      "(1000, 3)\n"
     ]
    }
   ],
   "source": [
    "train = pd.read_csv(\"hw3_train.dat\",sep=\" \",header=None,names=[\"x\",\"y\",\"label\"])\n",
    "test = pd.read_csv(\"hw3_test.dat\",sep=\" \",header=None,names=[\"x\",\"y\",\"label\"])\n",
    "print train.shape\n",
    "print test.shape"
   ]
  },
  {
   "cell_type": "code",
   "execution_count": 4,
   "metadata": {
    "collapsed": true
   },
   "outputs": [],
   "source": [
    "#构建node基本结构\n",
    "class Node():\n",
    "    def __init__(self,value,parent):\n",
    "        self.value = value\n",
    "        self.X = value.iloc[:,0:2]\n",
    "        self.Y = value.iloc[:,2]\n",
    "        self.parent = parent\n",
    "        self.leftchild = None\n",
    "        self.rightchild = None\n",
    "        self.axis = None\n",
    "        self.theta = None\n",
    "    def getValue(self):\n",
    "        return self.value\n",
    "    def getParent(self):\n",
    "        return self.parent\n",
    "    \n",
    "    #下面开始挑选axis和theta\n",
    "    def gini(self,tr):\n",
    "        fr = 1 - tr\n",
    "        return 1- tr**2 - fr**2\n",
    "    def oneGetThetaImpurity(self,x,y):\n",
    "        #x,y是panda.dataframe的数据\n",
    "        #assert type(x)==pd.DataFrame and type(y)==pd.DataFrame\n",
    "        #输入包含xy的数据d，得到划分的theta值和划分后的impurity\n",
    "        #需要注意到，如果数据都相等的话，那么需要特别标注，也就是达到了节点\n",
    "#         if np.mean(np.array(y,dtype=\"double\"))== y[0]:\n",
    "#             return (None,0)   \n",
    "        d = pd.concat([x,y],axis=1)\n",
    "        d.columns = [\"x\",\"label\"]\n",
    "        d_sort = d.sort_values(by=\"x\")\n",
    "        #寻找划分的splittheta\n",
    "        splittheta = []\n",
    "        d_sortx = np.array(d_sort[\"x\"])\n",
    "        for i in range(len(d_sortx)-1):\n",
    "            splittheta.append((d_sortx[i]+d_sortx[i+1])/2)\n",
    "        #寻找最佳的splittheta\n",
    "        bestTheta = None\n",
    "        bestImpurity = float(\"inf\")\n",
    "        for theta in splittheta:\n",
    "            part1 = d_sort.iloc[d_sortx<theta,]\n",
    "            part2 = d_sort.iloc[d_sortx>=theta,]\n",
    "            impurity1Dir1 = len(part1)*self.gini(np.mean(part1[\"label\"]==1)) + len(part2)*self.gini(np.mean(part2[\"label\"]==-1))     \n",
    "            impurity1Dir1 = len(part1)*self.gini(np.mean(part1[\"label\"]==-1)) + len(part2)*self.gini(np.mean(part2[\"label\"]==1)) \n",
    "            impurity = min(impurity1Dir1,impurity1Dir1)\n",
    "            if impurity<bestImpurity:\n",
    "                bestImpurity = impurity\n",
    "                bestTheta = theta\n",
    "        #返回值\n",
    "        return (bestTheta,bestImpurity)\n",
    "    \n",
    "    def getAxisTheta(self):\n",
    "        #首先判断Y是不是都相等，如果都相等，那么就分不了\n",
    "        if np.mean(np.array(self.Y,dtype=\"double\"))== self.Y.iloc[0]:\n",
    "            return None\n",
    "        #否则继续往下面分\n",
    "        axis0 = self.X.iloc[:,0]\n",
    "        axis1 = self.X.iloc[:,1]\n",
    "        (bestTheta0,bestImpurity0) = self.oneGetThetaImpurity(axis0,self.Y)\n",
    "        (bestTheta1,bestImpurity1) = self.oneGetThetaImpurity(axis1,self.Y)\n",
    "        #寻找分类的最佳theta和impurity\n",
    "        bestTheta = None\n",
    "        bestAxis = None\n",
    "        bestImpurity = float(\"inf\")\n",
    "        if bestImpurity0<bestImpurity1:\n",
    "            bestAxis = 0\n",
    "            bestTheta = bestTheta0\n",
    "            bestImpurity = bestImpurity0\n",
    "        else:\n",
    "            bestAxis = 1\n",
    "            bestTheta = bestTheta1\n",
    "            bestImpurity = bestImpurity1\n",
    "        #寻找分类后的最佳part1和part2\n",
    "        index = np.array(self.X.iloc[:,bestAxis] < bestTheta)\n",
    "        left = self.value.iloc[index,:]\n",
    "        right = self.value.iloc[np.logical_not(index),:]\n",
    "        return (bestAxis,bestTheta,left,right)\n",
    "           \n",
    "    def getChilds(self):\n",
    "        if self.getAxisTheta()==None:\n",
    "            return None\n",
    "        (bestAxis,bestTheta,left,right) = self.getAxisTheta()     \n",
    "        self.leftchild = Node(left,self)\n",
    "        self.rightchild = Node(right,self)\n",
    "        self.axis = bestAxis\n",
    "        self.theta = bestTheta\n",
    "        return (self.leftchild,self.rightchild)\n",
    "    \n",
    "#构建基本树结构\n",
    "class Tree():\n",
    "    def __init__(self):\n",
    "        self.nodes = []\n",
    "        self.leaves = []\n",
    "        self.struct = {}\n",
    "    def buildTree(self,root):\n",
    "#         if root.getChilds() != None:     \n",
    "#             (leftchild, rightchild)  = root.getChilds()\n",
    "#             self.nodes.append(root)\n",
    "#             self.struct[root] = [leftchild,rightchild]\n",
    "#             self.buildTree(leftchild)\n",
    "#             self.buildTree(rightchild)\n",
    "#         else:\n",
    "#             self.leaves.append(root)\n",
    "        (leftchild, rightchild)  = root.getChilds()\n",
    "        self.nodes.append(root)\n",
    "        self.struct[root] = [leftchild,rightchild]\n",
    "        self.leaves.append(leftchild)\n",
    "        self.leaves.append(rightchild)\n",
    "        \n",
    "\n",
    "    def predict(self,node,x):\n",
    "        #确定x的样式\n",
    "        #x是np.array样式的数组,只能预测单个值\n",
    "        #定义终止条件\n",
    "        leftchild = node.leftchild\n",
    "        rightchild = node.rightchild\n",
    "        axis = node.axis\n",
    "        theta = node.theta\n",
    "        leftOutput = max(set(list(leftchild.Y)), key=list(leftchild.Y).count)\n",
    "        rightOutput = max(set(list(rightchild.Y)), key=list(rightchild.Y).count)\n",
    "        if x[axis]<theta:\n",
    "            return leftOutput\n",
    "        else:\n",
    "            return rightOutput\n",
    "    def predictD(self,node,D):\n",
    "        return [self.predict(node,i) for i in D]"
   ]
  },
  {
   "cell_type": "code",
   "execution_count": 7,
   "metadata": {
    "collapsed": true
   },
   "outputs": [],
   "source": [
    "#测试\n",
    "d = train\n",
    "n1 = Node(d,None)\n",
    "t1 = Tree()\n",
    "t1.buildTree(n1)"
   ]
  },
  {
   "cell_type": "code",
   "execution_count": 8,
   "metadata": {
    "collapsed": false
   },
   "outputs": [
    {
     "data": {
      "text/plain": [
       "1"
      ]
     },
     "execution_count": 8,
     "metadata": {},
     "output_type": "execute_result"
    }
   ],
   "source": [
    "#Q13\n",
    "len(t1.nodes)"
   ]
  },
  {
   "cell_type": "code",
   "execution_count": 10,
   "metadata": {
    "collapsed": false,
    "scrolled": true
   },
   "outputs": [
    {
     "name": "stdout",
     "output_type": "stream",
     "text": [
      "0 big random forest finished\n",
      "1 big random forest finished\n",
      "2 big random forest finished\n",
      "3 big random forest finished\n",
      "4 big random forest finished\n",
      "5 big random forest finished\n",
      "6 big random forest finished\n",
      "7 big random forest finished\n",
      "8 big random forest finished\n",
      "9 big random forest finished\n",
      "10 big random forest finished\n",
      "11 big random forest finished\n",
      "12 big random forest finished\n",
      "13 big random forest finished\n",
      "14 big random forest finished\n",
      "15 big random forest finished\n",
      "16 big random forest finished\n",
      "17 big random forest finished\n",
      "18 big random forest finished\n",
      "19 big random forest finished\n"
     ]
    },
    {
     "name": "stderr",
     "output_type": "stream",
     "text": [
      "C:\\Users\\younggy\\Anaconda\\lib\\site-packages\\numpy\\core\\_methods.py:59: RuntimeWarning: Mean of empty slice.\n",
      "  warnings.warn(\"Mean of empty slice.\", RuntimeWarning)\n"
     ]
    }
   ],
   "source": [
    "#取样，并根据取样建立DT\n",
    "EintrainRF = []\n",
    "EintestRF = []\n",
    "EintrainG = []\n",
    "#100次试验\n",
    "for i in range(20):\n",
    "    #每个RF有300个小树\n",
    "    rf_ptrain = []\n",
    "    rf_ptest = []\n",
    "    for j in range(100): #300 trees\n",
    "        sample = train.sample(len(train),replace=True)\n",
    "        n1 = Node(sample,None)\n",
    "        t1 = Tree()\n",
    "        t1.buildTree(n1)\n",
    "        #Ein.append(np.mean(t1.predictD(n1,np.array(train)[:,0:2]) != train.label))\n",
    "        #将RF中每个小树的预测结果储存到大树中\n",
    "        p_train = t1.predictD(n1,np.array(train)[:,0:2])\n",
    "        p_test = t1.predictD(n1,np.array(test)[:,0:2])\n",
    "        rf_ptrain.append(p_train)\n",
    "        rf_ptest.append(p_test)\n",
    "        EintrainG.append(np.mean(p_train!=np.array(train[\"label\"])))\n",
    "    #计算当前大树的正确率\n",
    "    print \"%s big random forest finished\" % (i)\n",
    "    rf_ptrain = np.array(rf_ptrain)\n",
    "    rf_ptest = np.array(rf_ptest)\n",
    "    #大树在训练集和测试集上不准确的概率\n",
    "    EintrainRF.append(np.mean((rf_ptrain.mean(0) >0) !=  (np.array(train[\"label\"])==1)))\n",
    "    EintestRF.append(np.mean((rf_ptest.mean(0) >0) !=  (np.array(test[\"label\"])==1)))"
   ]
  },
  {
   "cell_type": "code",
   "execution_count": 11,
   "metadata": {
    "collapsed": false
   },
   "outputs": [
    {
     "data": {
      "text/plain": [
       "0.123"
      ]
     },
     "execution_count": 11,
     "metadata": {},
     "output_type": "execute_result"
    }
   ],
   "source": [
    "np.mean(EintrainRF)"
   ]
  },
  {
   "cell_type": "code",
   "execution_count": 12,
   "metadata": {
    "collapsed": false
   },
   "outputs": [
    {
     "data": {
      "text/plain": [
       "0.16199999999999998"
      ]
     },
     "execution_count": 12,
     "metadata": {},
     "output_type": "execute_result"
    }
   ],
   "source": [
    "np.mean(EintestRF)"
   ]
  }
 ],
 "metadata": {
  "kernelspec": {
   "display_name": "Python 2",
   "language": "python",
   "name": "python2"
  },
  "language_info": {
   "codemirror_mode": {
    "name": "ipython",
    "version": 2
   },
   "file_extension": ".py",
   "mimetype": "text/x-python",
   "name": "python",
   "nbconvert_exporter": "python",
   "pygments_lexer": "ipython2",
   "version": "2.7.11"
  }
 },
 "nbformat": 4,
 "nbformat_minor": 0
}
