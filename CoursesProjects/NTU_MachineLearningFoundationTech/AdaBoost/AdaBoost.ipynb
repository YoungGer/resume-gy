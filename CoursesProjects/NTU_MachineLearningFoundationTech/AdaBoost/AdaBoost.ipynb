{
 "cells": [
  {
   "cell_type": "code",
   "execution_count": 27,
   "metadata": {
    "collapsed": true
   },
   "outputs": [],
   "source": [
    "import numpy as np\n",
    "import scipy as sp\n",
    "import random\n",
    "import copy"
   ]
  },
  {
   "cell_type": "code",
   "execution_count": 2,
   "metadata": {
    "collapsed": false
   },
   "outputs": [
    {
     "name": "stdout",
     "output_type": "stream",
     "text": [
      "C:\\Users\\younggy\\Desktop\n"
     ]
    }
   ],
   "source": [
    "cd Desktop/"
   ]
  },
  {
   "cell_type": "code",
   "execution_count": 7,
   "metadata": {
    "collapsed": false
   },
   "outputs": [],
   "source": [
    "#读取数据\n",
    "train = []\n",
    "test = []\n",
    "with open(r'hw2_adaboost_train.dat') as f1:\n",
    "    for line in f1:\n",
    "        train.append(map(float,line.split()))\n",
    "with open(r'hw2_adaboost_test.dat') as f2:\n",
    "    for line in f2:\n",
    "        test.append(map(float,line.split()))\n",
    "        \n",
    "#将数据转化成ndarray格式\n",
    "train = np.array(train)\n",
    "test = np.array(test)\n",
    "print train.shape\n",
    "print test.shape\n",
    "\n",
    "#将数据分割成X和Y\n",
    "trainX =  train[:,0:2]\n",
    "trainY =  train[:,2]\n",
    "testX = test[:,0:2]\n",
    "testY = test[:,2]"
   ]
  },
  {
   "cell_type": "code",
   "execution_count": 240,
   "metadata": {
    "collapsed": false
   },
   "outputs": [],
   "source": [
    "#ufunc函数，将参数逻辑值求反\n",
    "flogical = np.frompyfunc(lambda x: not x,1,1)\n",
    "\n",
    "#定义符号函数及其ufunc函数\n",
    "def sign(x):\n",
    "    if x>=0:\n",
    "        return 1\n",
    "    else:\n",
    "        return -1\n",
    "fsign = np.frompyfunc(sign,1,1)\n",
    "\n",
    "\n",
    "#定义stump函数及其ufunc函数\n",
    "#计算s*sign(x_i-theta)\n",
    "def f1(s,theta,x):\n",
    "    assert s==1 or s==-1\n",
    "    return s*sign(x-theta)\n",
    "f2 = np.frompyfunc(f1,3,1)\n",
    "\n",
    "\n",
    "#Decision Stump的函数\n",
    "#根据单个feature排序找到最佳值\n",
    "#模型参数包括s,theta\n",
    "def decisionStump(feature,Y,U):\n",
    "    '''\n",
    "    feature: n*1\n",
    "    Y:       n*1\n",
    "    U:       n*1\n",
    "    '''\n",
    "    N = len(feature)\n",
    "    assert len(U)==N\n",
    "    fsort=np.sort(feature)\n",
    "    #keys中指定分割的值，\n",
    "    keys = [-1]\n",
    "    for i in range(N-1):\n",
    "        keys.append( (fsort[i]+fsort[i+1])/2 )\n",
    "    #遍历keys中指定的分割值，找到最优的模型参数\n",
    "    bestEin = 1000\n",
    "    besttheta = -10\n",
    "    bests = -10\n",
    "    besterr = 10\n",
    "    for theta in keys:\n",
    "        #这里应该根据theta，并且结合s有两个模型\n",
    "        Einm1 = np.dot(f2(1,theta,feature)!=Y,U)/float(N)\n",
    "        Einm2 = np.dot(f2(-1,theta,feature)!=Y,U)/float(N)\n",
    "        #这里存储错误率\n",
    "        err1 = np.mean(f2(1,theta,feature)!=Y)\n",
    "        err2 = np.mean(f2(-1,theta,feature)!=Y)\n",
    "        if Einm1<=Einm2 and Einm1<bestEin:\n",
    "            bestEin = Einm1\n",
    "            besttheta=theta\n",
    "            bests = 1\n",
    "            besterr = err1\n",
    "        if Einm1>Einm2 and Einm2<bestEin:\n",
    "            bestEin = Einm2\n",
    "            besttheta=theta\n",
    "            bests = -1\n",
    "            besterr = err2\n",
    "    return (bestEin,besttheta,bests,besterr)\n",
    "\n",
    "#加上了特征的寻优,这里只考虑了两个特征\n",
    "def decisionStump2(features,Y,U):\n",
    "    '''\n",
    "    features: n*2\n",
    "    Y:       n*1\n",
    "    U:       n*1\n",
    "    '''\n",
    "    feature1 = features[:,0]\n",
    "    feature2 = features[:,1]\n",
    "    (bestEin1,besttheta1,bests1,besterr1) = decisionStump(feature1,Y,U)\n",
    "    (bestEin2,besttheta2,bests2,besterr2) = decisionStump(feature2,Y,U)\n",
    "#     print (bestacc1,besttheta1,bests1)\n",
    "#     print (bestacc2,besttheta2,bests2)\n",
    "    if bestEin1<bestEin2:\n",
    "        return (bestEin1,besttheta1,bests1,besterr1,1)\n",
    "    else:\n",
    "        return (bestEin2,besttheta2,bests2,besterr2,2)\n",
    "\n",
    "\n",
    "#主函数，一共得到T个g子函数，然后根据对应的a值进行组合\n",
    "def AdaBoost(features,Y,T=300):\n",
    "    N = len(Y)\n",
    "    U = np.ones(N)/float(N)\n",
    "    A = []\n",
    "    THETA = []\n",
    "    S = []\n",
    "    NUMF = []\n",
    "    UALL = []\n",
    "    ET = []\n",
    "    for i in range(T):\n",
    "        (bestEin,besttheta,bests,besterr,numF) = decisionStump2(features,Y,U)\n",
    "        THETA.append(besttheta)\n",
    "        S.append(bests)\n",
    "        NUMF.append(numF)\n",
    "        UALL.append(copy.copy(U))\n",
    "        #下面的步骤为了得到N上面的正确与否的索引\n",
    "        if numF==1:\n",
    "            index = f2(bests,besttheta,features[:,0])==Y\n",
    "        elif numF==2:\n",
    "            index = f2(bests,besttheta,features[:,1])==Y\n",
    "        else:\n",
    "            print '出错啦！！！'\n",
    "            return 0\n",
    "        #s = np.sqrt((1-besterr)/besterr)\n",
    "        et = bestEin*N/sum(U)\n",
    "        ET.append(et)\n",
    "        s = np.sqrt((1-et)/et)\n",
    "        #更新U值，对于不正确的乘s，对于正确的除以s\n",
    "        U[index] = U[index]/s\n",
    "        U[flogical(index).astype(np.bool)] = U[flogical(index).astype(np.bool)]*s\n",
    "        A.append(np.log(s))\n",
    "    return (A,THETA,S,NUMF,UALL,ET)\n",
    "\n",
    "#计算总体函数G\n",
    "def G(A,THETA,S,NUMF,X):\n",
    "    N = len(A)\n",
    "    assert len(A)==len(THETA)==len(S)==len(NUMF)\n",
    "    #计算各个小g的和\n",
    "    Gx = np.zeros(len(X))\n",
    "    K = 0\n",
    "    for i in range(N):\n",
    "        a = A[i]\n",
    "        theta = THETA[i]\n",
    "        s = S[i]\n",
    "        numf = NUMF[i]\n",
    "        assert numf==1 or numf==2\n",
    "        if numf==1:\n",
    "            Gx += a*f2(s,theta,X[:,0])\n",
    "            K+=1\n",
    "        else:\n",
    "            Gx += a*f2(s,theta,X[:,1])\n",
    "            K+=1\n",
    "    return fsign(Gx)"
   ]
  },
  {
   "cell_type": "code",
   "execution_count": 241,
   "metadata": {
    "collapsed": false
   },
   "outputs": [],
   "source": [
    "#调试\n",
    "print decisionStump2(trainX,trainY,U)\n",
    "(A,THETA,S,NUMF,UALL,ET)=AdaBoost(trainX,trainY,T=300)\n",
    "np.mean(G(A,THETA,S,NUMF,testX)==testY)"
   ]
  }
 ],
 "metadata": {
  "kernelspec": {
   "display_name": "Python 2",
   "language": "python",
   "name": "python2"
  },
  "language_info": {
   "codemirror_mode": {
    "name": "ipython",
    "version": 2
   },
   "file_extension": ".py",
   "mimetype": "text/x-python",
   "name": "python",
   "nbconvert_exporter": "python",
   "pygments_lexer": "ipython2",
   "version": "2.7.10"
  }
 },
 "nbformat": 4,
 "nbformat_minor": 0
}
