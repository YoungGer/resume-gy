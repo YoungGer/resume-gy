{
 "cells": [
  {
   "cell_type": "markdown",
   "metadata": {},
   "source": [
    "# nonlinear constrained minimization problem"
   ]
  },
  {
   "cell_type": "code",
   "execution_count": 2,
   "metadata": {
    "collapsed": false
   },
   "outputs": [
    {
     "name": "stderr",
     "output_type": "stream",
     "text": [
      "INFO: Precompiling module NLopt...\n"
     ]
    },
    {
     "name": "stdout",
     "output_type": "stream",
     "text": [
      "got 0."
     ]
    },
    {
     "name": "stderr",
     "output_type": "stream",
     "text": [
      "WARNING: Nonlinear solver does not provide dual solutions\n"
     ]
    },
    {
     "name": "stdout",
     "output_type": "stream",
     "text": [
      "4941058385765646 at [0.2499999980170959,0.2441405797154501]\n"
     ]
    }
   ],
   "source": [
    "using JuMP\n",
    "using NLopt\n",
    "\n",
    "m = Model(solver=NLoptSolver(algorithm=:LD_MMA))\n",
    "\n",
    "a1 = 5/2\n",
    "b1 = 0\n",
    "a2 = -3/2\n",
    "b2 = 1\n",
    "\n",
    "@variable(m, x1)\n",
    "@variable(m, x2 >= 0)\n",
    "\n",
    "@NLobjective(m, Min, sqrt(x2))\n",
    "@NLconstraint(m, x2 >= (a1*x1+b1)^3)\n",
    "@NLconstraint(m, x2 >= (a2*x1+b2)^3)\n",
    "\n",
    "setvalue(x1, 1.234)\n",
    "setvalue(x2, 5.678)\n",
    "\n",
    "status = solve(m)\n",
    "\n",
    "println(\"got \", getobjectivevalue(m), \" at \", [getvalue(x1),getvalue(x2)])"
   ]
  },
  {
   "cell_type": "markdown",
   "metadata": {},
   "source": [
    "# investment portfolio"
   ]
  },
  {
   "cell_type": "code",
   "execution_count": 8,
   "metadata": {
    "collapsed": false
   },
   "outputs": [
    {
     "name": "stdout",
     "output_type": "stream",
     "text": [
      "theta 0got 100.00000099806287 at [5.000000049903144,0.0]\n",
      "theta 1got 46.333333341137504 at [2.333334081727208,2.6666659299815354]\n",
      "theta 2got 23.199999987738416 at [1.200026849710243,1.3999400535093682]\n",
      "theta 3got 15.466666588397963 at [0.8000606989608487,0.9332111180327354]\n",
      "theta 4got 11.599999992622525 at [0.6000271216325413,0.6999847942882889]\n",
      "theta 5got 9.279999976613345 at [0.47998298777003323,0.5599640438213871]\n"
     ]
    }
   ],
   "source": [
    "for theta = 0:5\n",
    "    m = Model(solver=NLoptSolver(algorithm=:LD_MMA))\n",
    "\n",
    "    @variable(m, x1 >= 0)\n",
    "    @variable(m, x2 >= 0)\n",
    "\n",
    "    @NLobjective(m, Max, 20*x1+16*x2- theta*(2*x1^2+x2^2+(x1+x2)^2) )\n",
    "\n",
    "    @NLconstraint(m, x1+x2<=5)\n",
    "\n",
    "\n",
    "    setvalue(x1, 2)\n",
    "    setvalue(x2, 2)\n",
    "\n",
    "    status = solve(m)\n",
    "\n",
    "    println(\"theta \",theta,\"got \", getobjectivevalue(m), \" at \", [getvalue(x1),getvalue(x2)])\n",
    "end"
   ]
  },
  {
   "cell_type": "markdown",
   "metadata": {},
   "source": [
    "# second order cone programming"
   ]
  },
  {
   "cell_type": "code",
   "execution_count": 9,
   "metadata": {
    "collapsed": false
   },
   "outputs": [
    {
     "name": "stdout",
     "output_type": "stream",
     "text": [
      "getvalue(x) = [0.5000000000196988,0.5000000001482225]\n",
      "getvalue(t) = 0.7071067805529468\n",
      "\n",
      "ECOS 2.0.5 - (C) embotech GmbH, Zurich Switzerland, 2012-15. Web: www.embotech.com/ECOS\n",
      "\n",
      "It     pcost       dcost      gap   pres   dres    k/t    mu     step   sigma     IR    |   BT\n",
      " 0  +0.000e+00  -1.000e+00  +1e+01  5e-01  3e-01  1e+00  2e+00    ---    ---    1  1  - |  -  - \n",
      " 1  +1.196e-01  +1.450e-02  +3e+00  1e-01  4e-02  2e-01  5e-01  0.7726  5e-02   2  2  2 |  0  0\n",
      " 2  +6.637e-01  +6.546e-01  +3e-01  1e-02  3e-03  2e-02  6e-02  0.9103  3e-02   2  2  2 |  0  0\n",
      " 3  +7.066e-01  +7.066e-01  +4e-03  1e-04  3e-05  3e-04  7e-04  0.9890  1e-04   1  1  1 |  0  0\n",
      " 4  +7.071e-01  +7.071e-01  +4e-05  1e-06  3e-07  3e-06  7e-06  0.9890  1e-04   1  1  1 |  0  0\n",
      " 5  +7.071e-01  +7.071e-01  +5e-07  1e-08  4e-09  3e-08  8e-08  0.9890  1e-04   2  1  1 |  0  0\n",
      " 6  +7.071e-01  +7.071e-01  +5e-09  1e-10  4e-11  4e-10  9e-10  0.9890  1e-04   3  1  1 |  0  0\n",
      "\n",
      "OPTIMAL (within feastol=1.5e-10, reltol=7.1e-09, abstol=5.0e-09).\n",
      "Runtime: 0.000114 seconds.\n",
      "\n"
     ]
    },
    {
     "data": {
      "text/plain": [
       "0.7071067805529468"
      ]
     },
     "execution_count": 9,
     "metadata": {},
     "output_type": "execute_result"
    }
   ],
   "source": [
    "using ECOS\n",
    "\n",
    "\n",
    "m = Model(solver=ECOSSolver())\n",
    "\n",
    "@variable(m, 0<= x[1:2] <= 1)\n",
    "@variable(m, t)\n",
    "\n",
    "@objective(m, Min, t)\n",
    "\n",
    "@constraint(m, soc, norm2{ x[i], i=1:2 } <= t)\n",
    "@constraint(m, x[1]+x[2] >=1)\n",
    "\n",
    "status = solve(m)\n",
    "\n",
    "@show getvalue(x) \n",
    "@show getvalue(t) "
   ]
  },
  {
   "cell_type": "code",
   "execution_count": null,
   "metadata": {
    "collapsed": true
   },
   "outputs": [],
   "source": []
  }
 ],
 "metadata": {
  "kernelspec": {
   "display_name": "Julia 0.4.6",
   "language": "julia",
   "name": "julia-0.4"
  },
  "language_info": {
   "file_extension": ".jl",
   "mimetype": "application/julia",
   "name": "julia",
   "version": "0.4.6"
  }
 },
 "nbformat": 4,
 "nbformat_minor": 0
}
