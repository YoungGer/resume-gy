{
 "cells": [
  {
   "cell_type": "code",
   "execution_count": 2,
   "metadata": {
    "collapsed": true
   },
   "outputs": [],
   "source": [
    "using JuMP, DataFrames"
   ]
  },
  {
   "cell_type": "markdown",
   "metadata": {},
   "source": [
    "# Advertising Campaign Options\n",
    "\n",
    "integer programmer to solve or constraintion"
   ]
  },
  {
   "cell_type": "code",
   "execution_count": 48,
   "metadata": {
    "collapsed": false
   },
   "outputs": [
    {
     "data": {
      "text/latex": [
       "$$ 1.0e6 x_{tv} + 200000 x_{trade} + 300000 x_{news} + 400000 x_{radio} + 450000 x_{popular} + 450000 x_{prom} $$"
      ],
      "text/plain": [
       "1.0e6 x[tv] + 200000 x[trade] + 300000 x[news] + 400000 x[radio] + 450000 x[popular] + 450000 x[prom]"
      ]
     },
     "execution_count": 48,
     "metadata": {},
     "output_type": "execute_result"
    }
   ],
   "source": [
    "# model\n",
    "m = Model()\n",
    "\n",
    "# data\n",
    "people = [1000,200,300,400,450,450]*1000\n",
    "cost = [500,150,300,250,250,100]*1000\n",
    "designers = [700,250,200,200,300,400]\n",
    "salesmen = [200,100,100,100,100,1000]\n",
    "\n",
    "# variable\n",
    "v = [\"tv\",\"trade\",\"news\",\"radio\",\"popular\",\"prom\"]\n",
    "@variable(m, 0<=x[v]<=1, Bin)\n",
    "\n",
    "#costraint\n",
    "@constraint(m, sum{cost[i]*x[v[i]], i in 1:6} <= 1800000)\n",
    "@constraint(m, sum{designers[i]*x[v[i]], i in 1:6} <= 1500)\n",
    "@constraint(m, sum{salesmen[i]*x[v[i]], i in 1:6} <= 1200)\n",
    "@constraint(m, x[\"radio\"]+x[\"popular\"]>=x[\"prom\"])\n",
    "@constraint(m, x[\"popular\"]+x[\"trade\"]<=1)\n",
    "\n",
    "\n",
    "# objective\n",
    "@objective(m,Max,sum{people[i]*x[v[i]], i in 1:6})"
   ]
  },
  {
   "cell_type": "code",
   "execution_count": 49,
   "metadata": {
    "collapsed": false
   },
   "outputs": [
    {
     "data": {
      "text/plain": [
       ":Optimal"
      ]
     },
     "execution_count": 49,
     "metadata": {},
     "output_type": "execute_result"
    }
   ],
   "source": [
    "solve(m)"
   ]
  },
  {
   "cell_type": "code",
   "execution_count": 50,
   "metadata": {
    "collapsed": false
   },
   "outputs": [
    {
     "name": "stdout",
     "output_type": "stream",
     "text": [
      "Variable Values: x: 1 dimensions:\n",
      "[     tv] = 1.0\n",
      "[  trade] = 0.0\n",
      "[   news] = 1.0\n",
      "[  radio] = 1.0\n",
      "[popular] = 1.0\n",
      "[   prom] = 0.0\n",
      "\n",
      "Objetive value: 2.15e6\n"
     ]
    }
   ],
   "source": [
    "# Determine which items to carry \n",
    "println(\"Variable Values: \", getvalue(x))\n",
    "\n",
    "# Determine value from items carried\n",
    "println(\"Objetive value: \", getobjectivevalue(m))"
   ]
  }
 ],
 "metadata": {
  "kernelspec": {
   "display_name": "Julia 0.4.6",
   "language": "julia",
   "name": "julia-0.4"
  },
  "language_info": {
   "file_extension": ".jl",
   "mimetype": "application/julia",
   "name": "julia",
   "version": "0.4.6"
  }
 },
 "nbformat": 4,
 "nbformat_minor": 0
}
