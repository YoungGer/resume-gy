{
 "cells": [
  {
   "cell_type": "code",
   "execution_count": 1,
   "metadata": {
    "collapsed": false
   },
   "outputs": [
    {
     "name": "stderr",
     "output_type": "stream",
     "text": [
      "INFO: Nothing to be done\n",
      "INFO: METADATA is out-of-date — you may not have the latest version of ECOS\n",
      "INFO: Use `Pkg.update()` to get the latest versions of your packages\n",
      "INFO: Precompiling module ECOS...\n"
     ]
    },
    {
     "name": "stdout",
     "output_type": "stream",
     "text": [
      "getvalue(x) = [0.5000000000196988,0.5000000001482225]\n",
      "getvalue(t) = 0.7071067805529468\n",
      "\n",
      "ECOS 2.0.5 - (C) embotech GmbH, Zurich Switzerland, 2012-15. Web: www.embotech.com/ECOS\n",
      "\n",
      "It     pcost       dcost      gap   pres   dres    k/t    mu     step   sigma     IR    |   BT\n",
      " 0  +0.000e+00  -1.000e+00  +1e+01  5e-01  3e-01  1e+00  2e+00    ---    ---    1  1  - |  -  - \n",
      " 1  +1.196e-01  +1.450e-02  +3e+00  1e-01  4e-02  2e-01  5e-01  0.7726  5e-02   2  2  2 |  0  0\n",
      " 2  +6.637e-01  +6.546e-01  +3e-01  1e-02  3e-03  2e-02  6e-02  0.9103  3e-02   2  2  2 |  0  0\n",
      " 3  +7.066e-01  +7.066e-01  +4e-03  1e-04  3e-05  3e-04  7e-04  0.9890  1e-04   1  1  1 |  0  0\n",
      " 4  +7.071e-01  +7.071e-01  +4e-05  1e-06  3e-07  3e-06  7e-06  0.9890  1e-04   1  1  1 |  0  0\n",
      " 5  +7.071e-01  +7.071e-01  +5e-07  1e-08  4e-09  3e-08  8e-08  0.9890  1e-04   2  1  1 |  0  0\n",
      " 6  +7.071e-01  +7.071e-01  +5e-09  1e-10  4e-11  4e-10  9e-10  0.9890  1e-04   3  1  1 |  0  0\n",
      "\n",
      "OPTIMAL (within feastol=1.5e-10, reltol=7.1e-09, abstol=5.0e-09).\n",
      "Runtime: 0.000114 seconds.\n",
      "\n"
     ]
    },
    {
     "data": {
      "text/plain": [
       "0.7071067805529468"
      ]
     },
     "execution_count": 1,
     "metadata": {},
     "output_type": "execute_result"
    }
   ],
   "source": [
    "Pkg.add(\"ECOS\")\n",
    "#Pkg.add(\"JuMP\")\n",
    "#Pkg.update()\n",
    "using JuMP\n",
    "using ECOS\n",
    "\n",
    "\n",
    "m = Model(solver=ECOSSolver())\n",
    "@variable(m, 0<= x[1:2] <= 1)\n",
    "@variable(m, t)\n",
    "@objective(m, Min, t)\n",
    "@constraint(m, soc, norm2{ x[i], i=1:2 } <= t)\n",
    "@constraint(m, x[1]+x[2] >=1)\n",
    "status = solve(m)\n",
    "\n",
    "@show getvalue(x) \n",
    "@show getvalue(t) \n",
    "\n"
   ]
  },
  {
   "cell_type": "code",
   "execution_count": null,
   "metadata": {
    "collapsed": true
   },
   "outputs": [],
   "source": []
  }
 ],
 "metadata": {
  "kernelspec": {
   "display_name": "Julia 0.4.6",
   "language": "julia",
   "name": "julia-0.4"
  },
  "language_info": {
   "file_extension": ".jl",
   "mimetype": "application/julia",
   "name": "julia",
   "version": "0.4.6"
  }
 },
 "nbformat": 4,
 "nbformat_minor": 0
}
