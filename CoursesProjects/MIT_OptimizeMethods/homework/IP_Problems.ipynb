{
 "cells": [
  {
   "cell_type": "code",
   "execution_count": 1,
   "metadata": {
    "collapsed": true
   },
   "outputs": [],
   "source": [
    "using JuMP, DataFrames"
   ]
  },
  {
   "cell_type": "markdown",
   "metadata": {},
   "source": [
    "# Bulb Luminisity\n",
    "\n",
    "fixed cost"
   ]
  },
  {
   "cell_type": "code",
   "execution_count": 17,
   "metadata": {
    "collapsed": false
   },
   "outputs": [
    {
     "data": {
      "text/latex": [
       "$$ 450 y_{1} + 2 x_{1} + 450 y_{2} + 2 x_{2} + 450 y_{3} + 2 x_{3} + 450 y_{4} + 2 x_{4} + 450 y_{5} + 2 x_{5} $$"
      ],
      "text/plain": [
       "450 y[1] + 2 x[1] + 450 y[2] + 2 x[2] + 450 y[3] + 2 x[3] + 450 y[4] + 2 x[4] + 450 y[5] + 2 x[5]"
      ]
     },
     "execution_count": 17,
     "metadata": {},
     "output_type": "execute_result"
    }
   ],
   "source": [
    "# model\n",
    "m = Model()\n",
    "\n",
    "# variable\n",
    "\n",
    "@variable(m, x[1:5]>=0)\n",
    "@variable(m, y[1:5], Bin)\n",
    "\n",
    "#costraint\n",
    "for i = 1:5\n",
    "    @constraint(m,x[i]<=300*y[i])\n",
    "end\n",
    "\n",
    "@constraint(m, x[1]+x[2]>=250)\n",
    "@constraint(m, x[1]+x[3]>=300)\n",
    "@constraint(m, x[2]+x[3]>=150)\n",
    "@constraint(m, x[2]+x[4]>=200)\n",
    "@constraint(m, x[3]+x[5]>=350)\n",
    "@constraint(m, x[4]+x[5]>=180)\n",
    "\n",
    "# objective\n",
    "@objective(m,Min,sum{450*y[i]+2*x[i], i in 1:5})"
   ]
  },
  {
   "cell_type": "code",
   "execution_count": 18,
   "metadata": {
    "collapsed": false
   },
   "outputs": [
    {
     "data": {
      "text/plain": [
       ":Optimal"
      ]
     },
     "execution_count": 18,
     "metadata": {},
     "output_type": "execute_result"
    }
   ],
   "source": [
    "solve(m)"
   ]
  },
  {
   "cell_type": "code",
   "execution_count": 19,
   "metadata": {
    "collapsed": false
   },
   "outputs": [
    {
     "name": "stdout",
     "output_type": "stream",
     "text": [
      "Variable Values: [0.0,250.0,300.0,0.0,180.0]\n",
      "Objetive value: 2810.0\n"
     ]
    }
   ],
   "source": [
    "# Determine which items to carry \n",
    "println(\"Variable Values: \", getvalue(x))\n",
    "\n",
    "# Determine value from items carried\n",
    "println(\"Objetive value: \", getobjectivevalue(m))"
   ]
  },
  {
   "cell_type": "code",
   "execution_count": 20,
   "metadata": {
    "collapsed": false
   },
   "outputs": [
    {
     "name": "stdout",
     "output_type": "stream",
     "text": [
      "Variable Values: [0.0,1.0,1.0,0.0,1.0]\n"
     ]
    }
   ],
   "source": [
    "# Determine which items to carry \n",
    "println(\"Variable Values: \", getvalue(y))"
   ]
  },
  {
   "cell_type": "markdown",
   "metadata": {},
   "source": [
    "# Bulb Luminisity 2\n",
    "\n",
    "fixed cost with more constrains"
   ]
  },
  {
   "cell_type": "code",
   "execution_count": 22,
   "metadata": {
    "collapsed": false
   },
   "outputs": [
    {
     "data": {
      "text/latex": [
       "$$ 450 y_{1} + 2 x_{1} + 450 y_{2} + 2 x_{2} + 450 y_{3} + 2 x_{3} + 450 y_{4} + 2 x_{4} + 450 y_{5} + 2 x_{5} $$"
      ],
      "text/plain": [
       "450 y[1] + 2 x[1] + 450 y[2] + 2 x[2] + 450 y[3] + 2 x[3] + 450 y[4] + 2 x[4] + 450 y[5] + 2 x[5]"
      ]
     },
     "execution_count": 22,
     "metadata": {},
     "output_type": "execute_result"
    }
   ],
   "source": [
    "# model\n",
    "m = Model()\n",
    "\n",
    "# variable\n",
    "@variable(m, x[1:5]>=0)\n",
    "@variable(m, y[1:5], Bin)\n",
    "@variable(m, z[1:5], Bin)\n",
    "@variable(m, w, Bin)\n",
    "\n",
    "#costraint\n",
    "for i = 1:5\n",
    "    @constraint(m,x[i]<=300*y[i])\n",
    "    @constraint(m,x[i]<=300-150*z[i])\n",
    "end\n",
    "\n",
    "@constraint(m, x[1]+x[2]>=250)\n",
    "@constraint(m, x[1]+x[3]>=300)\n",
    "@constraint(m, x[2]+x[3]>=150)\n",
    "@constraint(m, x[2]+x[4]>=200)\n",
    "@constraint(m, x[3]+x[5]>=350)\n",
    "@constraint(m, x[4]+x[5]>=180)\n",
    "@constraint(m, x[1]>=300*w)\n",
    "@constraint(m, x[4]>=300*(1-w))\n",
    "@constraint(m, sum{z[i], i in 1:5}>=3)\n",
    "@constraint(m, 0.6*x[1]-0.4*x[3]<=0)\n",
    "\n",
    "# objective\n",
    "@objective(m,Min,sum{450*y[i]+2*x[i], i in 1:5})"
   ]
  },
  {
   "cell_type": "code",
   "execution_count": 23,
   "metadata": {
    "collapsed": false
   },
   "outputs": [
    {
     "data": {
      "text/plain": [
       ":Optimal"
      ]
     },
     "execution_count": 23,
     "metadata": {},
     "output_type": "execute_result"
    }
   ],
   "source": [
    "solve(m)"
   ]
  },
  {
   "cell_type": "code",
   "execution_count": 24,
   "metadata": {
    "collapsed": false
   },
   "outputs": [
    {
     "name": "stdout",
     "output_type": "stream",
     "text": [
      "Variable Values: [0.9999999999999999,1.0,1.0,1.0,1.0]\n",
      "Objetive value: 4050.0\n"
     ]
    }
   ],
   "source": [
    "# Determine which items to carry \n",
    "println(\"Variable Values: \", getvalue(y))\n",
    "\n",
    "# Determine value from items carried\n",
    "println(\"Objetive value: \", getobjectivevalue(m))"
   ]
  },
  {
   "cell_type": "markdown",
   "metadata": {},
   "source": [
    "# Production Plan"
   ]
  },
  {
   "cell_type": "code",
   "execution_count": 80,
   "metadata": {
    "collapsed": false
   },
   "outputs": [
    {
     "data": {
      "text/plain": [
       "480"
      ]
     },
     "execution_count": 80,
     "metadata": {},
     "output_type": "execute_result"
    }
   ],
   "source": [
    "m = Model()\n",
    "\n",
    "# Parameters\n",
    "item=3\n",
    "time_period=4\n",
    "setup_time=[45, 60, 100]\n",
    "price=[50, 70, 120]\n",
    "production_rate=[5, 4, 2]\n",
    "inventory_cost=[18, 15, 25]\n",
    "demand=[400 600 200 800; 240 440 100 660; 80 120 40 100]\n",
    "time_limit=480"
   ]
  },
  {
   "cell_type": "code",
   "execution_count": 81,
   "metadata": {
    "collapsed": false
   },
   "outputs": [
    {
     "data": {
      "text/latex": [
       "$$ x_{i,j} \\geq 0 \\quad\\forall i \\in \\{1,2,3\\}, j \\in \\{1,2,3,4\\} $$"
      ],
      "text/plain": [
       "3x4 Array{JuMP.Variable,2}:\n",
       " x[1,1]  x[1,2]  x[1,3]  x[1,4]\n",
       " x[2,1]  x[2,2]  x[2,3]  x[2,4]\n",
       " x[3,1]  x[3,2]  x[3,3]  x[3,4]"
      ]
     },
     "execution_count": 81,
     "metadata": {},
     "output_type": "execute_result"
    }
   ],
   "source": [
    "#variable\n",
    "@variable(m, z[1:item, 1:time_period], Bin) # 1 if item i is produced on day t, 0 otherwise\n",
    "@variable(m, s[1:item, 1:time_period] >=0) # inventory of item i at the end of day t\n",
    "@variable(m, y[1:item, 1:time_period] >=0) # number of units of item i produced on day t\n",
    "@variable(m, x[1:item, 1:time_period] >=0) # time machine spends on day t prod"
   ]
  },
  {
   "cell_type": "code",
   "execution_count": 82,
   "metadata": {
    "collapsed": false
   },
   "outputs": [],
   "source": [
    "#constrain\n",
    "## machine use time\n",
    "for t = 1:4\n",
    "    @constraint(m,sum{setup_time[i]*z[i,t], i=1:3}+sum{x[i,t] ,i=1:3}<=480)\n",
    "end\n",
    "\n",
    "for i=1:3\n",
    "    @constraint(m, s[i,4] == 0)\n",
    "end\n",
    "\n",
    "for t = 1:4\n",
    "    for i = 1:3\n",
    "        ## inventory balance\n",
    "        if t==1\n",
    "            @constraint(m,y[i,t]-demand[i,t]==s[i,t])\n",
    "        else\n",
    "            @constraint(m,s[i,t-1]+y[i,t]-demand[i,t]==s[i,t])\n",
    "        end\n",
    "        ## other\n",
    "        @constraint(m,y[i,t]==production_rate[i]*x[i,t])\n",
    "        @constraint(m,x[i,t]<=z[i,t]*480)\n",
    "    end\n",
    "end"
   ]
  },
  {
   "cell_type": "code",
   "execution_count": 83,
   "metadata": {
    "collapsed": false
   },
   "outputs": [
    {
     "data": {
      "text/latex": [
       "$$ -18 s_{1,1} - 18 s_{1,2} - 18 s_{1,3} - 18 s_{1,4} - 15 s_{2,1} - 15 s_{2,2} - 15 s_{2,3} - 15 s_{2,4} - 25 s_{3,1} - 25 s_{3,2} - 25 s_{3,3} - 25 s_{3,4} + 241600 $$"
      ],
      "text/plain": [
       "-18 s[1,1] - 18 s[1,2] - 18 s[1,3] - 18 s[1,4] - 15 s[2,1] - 15 s[2,2] - 15 s[2,3] - 15 s[2,4] - 25 s[3,1] - 25 s[3,2] - 25 s[3,3] - 25 s[3,4] + 241600"
      ]
     },
     "execution_count": 83,
     "metadata": {},
     "output_type": "execute_result"
    }
   ],
   "source": [
    "# objective\n",
    "@objective(m,Max,sum{demand[i,t]*price[i]-inventory_cost[i]*s[i,t], i=1:item, t=1:time_period})"
   ]
  },
  {
   "cell_type": "code",
   "execution_count": 84,
   "metadata": {
    "collapsed": false
   },
   "outputs": [
    {
     "data": {
      "text/plain": [
       ":Optimal"
      ]
     },
     "execution_count": 84,
     "metadata": {},
     "output_type": "execute_result"
    }
   ],
   "source": [
    "solve(m)"
   ]
  },
  {
   "cell_type": "code",
   "execution_count": 86,
   "metadata": {
    "collapsed": false
   },
   "outputs": [
    {
     "name": "stdout",
     "output_type": "stream",
     "text": [
      "Objective value: 238350.0\n",
      "Produce Item 1: 400.0 at day 1\n",
      "Produce Item 1: 600.0 at day 2\n",
      "Produce Item 1: 200.0 at day 3\n",
      "Produce Item 1: 800.0 at day 4\n",
      "Produce Item 2: 240.00000000000003 at day 1\n",
      "Produce Item 2: 440.00000000000006 at day 2\n",
      "Produce Item 2: 100.00000000000001 at day 3\n",
      "Produce Item 2: 660.0 at day 4\n",
      "Produce Item 3: 110.0 at day 1\n",
      "Produce Item 3: 90.0 at day 2\n",
      "Produce Item 3: 140.00000000000003 at day 3\n",
      "Produce Item 3: 0.0 at day 4\n"
     ]
    }
   ],
   "source": [
    "println(\"Objective value: \", getObjectiveValue(m))\n",
    "for i=1:item\n",
    "    for t=1:time_period\n",
    "        println(\"Produce Item \", i, \": \", getValue(y[i,t]), \" at day \", t)\n",
    "    end\n",
    "end"
   ]
  },
  {
   "cell_type": "markdown",
   "metadata": {},
   "source": [
    "# Production Plan with Super Day"
   ]
  },
  {
   "cell_type": "code",
   "execution_count": 94,
   "metadata": {
    "collapsed": false
   },
   "outputs": [
    {
     "data": {
      "text/latex": [
       "$$ x_{i,j} \\geq 0 \\quad\\forall i \\in \\{1,2,3\\}, j \\in \\{1,2,3,4\\} $$"
      ],
      "text/plain": [
       "3x4 Array{JuMP.Variable,2}:\n",
       " x[1,1]  x[1,2]  x[1,3]  x[1,4]\n",
       " x[2,1]  x[2,2]  x[2,3]  x[2,4]\n",
       " x[3,1]  x[3,2]  x[3,3]  x[3,4]"
      ]
     },
     "execution_count": 94,
     "metadata": {},
     "output_type": "execute_result"
    }
   ],
   "source": [
    "m = Model()\n",
    "\n",
    "# Parameters\n",
    "item=3\n",
    "time_period=4\n",
    "setup_time=[45, 60, 100]\n",
    "price=[50, 70, 120]\n",
    "production_rate=[5, 4, 2]\n",
    "inventory_cost=[18, 15, 25]\n",
    "demand=[400 600 200 800; 240 440 100 660; 80 120 40 100]\n",
    "time_limit=480\n",
    "\n",
    "#variable\n",
    "@variable(m, z[1:item, 1:time_period], Bin) # 1 if item i is produced on day t, 0 otherwise\n",
    "@variable(m, u[1:time_period], Bin) # 1 if it's super day\n",
    "@variable(m, s[1:item, 1:time_period] >=0) # inventory of item i at the end of day t\n",
    "@variable(m, y[1:item, 1:time_period] >=0) # number of units of item i produced on day t\n",
    "@variable(m, x[1:item, 1:time_period] >=0) # time machine spends on day t prod"
   ]
  },
  {
   "cell_type": "code",
   "execution_count": 95,
   "metadata": {
    "collapsed": true
   },
   "outputs": [],
   "source": [
    "#constrain\n",
    "## machine use time\n",
    "for t = 1:4\n",
    "    @constraint(m,sum{setup_time[i]*z[i,t], i=1:3}+sum{x[i,t] ,i=1:3}<=480+120*u[t])\n",
    "end\n",
    "\n",
    "for i=1:3\n",
    "    @constraint(m, s[i,4] == 0)\n",
    "end\n",
    "\n",
    "for t = 1:4\n",
    "    for i = 1:3\n",
    "        ## inventory balance\n",
    "        if t==1\n",
    "            @constraint(m,y[i,t]-demand[i,t]==s[i,t])\n",
    "        else\n",
    "            @constraint(m,s[i,t-1]+y[i,t]-demand[i,t]==s[i,t])\n",
    "        end\n",
    "        ## other\n",
    "        @constraint(m,y[i,t]==production_rate[i]*x[i,t])\n",
    "        @constraint(m,x[i,t]<=z[i,t]*480)\n",
    "    end\n",
    "end\n",
    "\n",
    "# u\n",
    "@constraint(m, sum{u[i],i=1:4}<=2)\n",
    "for t = 2:4\n",
    "    @constraint(m,u[t-1]+u[t]<=1)\n",
    "end"
   ]
  },
  {
   "cell_type": "code",
   "execution_count": 96,
   "metadata": {
    "collapsed": false
   },
   "outputs": [
    {
     "data": {
      "text/latex": [
       "$$ -18 s_{1,1} - 18 s_{1,2} - 18 s_{1,3} - 18 s_{1,4} - 15 s_{2,1} - 15 s_{2,2} - 15 s_{2,3} - 15 s_{2,4} - 25 s_{3,1} - 25 s_{3,2} - 25 s_{3,3} - 25 s_{3,4} - 50 u_{1} - 50 u_{2} - 50 u_{3} - 50 u_{4} + 241600 $$"
      ],
      "text/plain": [
       "-18 s[1,1] - 18 s[1,2] - 18 s[1,3] - 18 s[1,4] - 15 s[2,1] - 15 s[2,2] - 15 s[2,3] - 15 s[2,4] - 25 s[3,1] - 25 s[3,2] - 25 s[3,3] - 25 s[3,4] - 50 u[1] - 50 u[2] - 50 u[3] - 50 u[4] + 241600"
      ]
     },
     "execution_count": 96,
     "metadata": {},
     "output_type": "execute_result"
    }
   ],
   "source": [
    "# objective\n",
    "@objective(m,Max,sum{demand[i,t]*price[i]-inventory_cost[i]*s[i,t], i=1:item, t=1:time_period}-50*sum{u[i],i=1:4})"
   ]
  },
  {
   "cell_type": "code",
   "execution_count": 97,
   "metadata": {
    "collapsed": false
   },
   "outputs": [
    {
     "data": {
      "text/plain": [
       ":Optimal"
      ]
     },
     "execution_count": 97,
     "metadata": {},
     "output_type": "execute_result"
    }
   ],
   "source": [
    "solve(m)"
   ]
  },
  {
   "cell_type": "code",
   "execution_count": 98,
   "metadata": {
    "collapsed": false
   },
   "outputs": [
    {
     "name": "stdout",
     "output_type": "stream",
     "text": [
      "Objective value: 241500.0\n",
      "Produce Item 1: 400.00000000000006 at day 1\n",
      "Produce Item 1: 599.9999999999999 at day 2\n",
      "Produce Item 1: 200.0 at day 3\n",
      "Produce Item 1: 800.0000000000001 at day 4\n",
      "Produce Item 2: 239.99999999999997 at day 1\n",
      "Produce Item 2: 440.0 at day 2\n",
      "Produce Item 2: 100.0 at day 3\n",
      "Produce Item 2: 659.9999999999999 at day 4\n",
      "Produce Item 3: 80.0 at day 1\n",
      "Produce Item 3: 120.00000000000001 at day 2\n",
      "Produce Item 3: 40.00000000000001 at day 3\n",
      "Produce Item 3: 99.99999999999999 at day 4\n"
     ]
    }
   ],
   "source": [
    "println(\"Objective value: \", getObjectiveValue(m))\n",
    "for i=1:item\n",
    "    for t=1:time_period\n",
    "        println(\"Produce Item \", i, \": \", getValue(y[i,t]), \" at day \", t)\n",
    "    end\n",
    "end"
   ]
  },
  {
   "cell_type": "code",
   "execution_count": 99,
   "metadata": {
    "collapsed": false
   },
   "outputs": [
    {
     "data": {
      "text/plain": [
       "4-element Array{Float64,1}:\n",
       " 0.0\n",
       " 1.0\n",
       " 0.0\n",
       " 1.0"
      ]
     },
     "execution_count": 99,
     "metadata": {},
     "output_type": "execute_result"
    }
   ],
   "source": [
    "getValue(u)"
   ]
  },
  {
   "cell_type": "markdown",
   "metadata": {},
   "source": [
    "# Sudokum"
   ]
  },
  {
   "cell_type": "code",
   "execution_count": 105,
   "metadata": {
    "collapsed": false
   },
   "outputs": [],
   "source": [
    "# model\n",
    "m = Model()\n",
    "\n",
    "# data\n",
    "# The given digits\n",
    "init_sol = [ 5 3 0 0 7 0 0 0 0;\n",
    "6 0 0 1 9 5 0 0 0;\n",
    "0 9 8 0 0 0 0 6 0;\n",
    "8 0 0 0 6 0 0 0 3;\n",
    "4 0 0 8 0 3 0 0 1;\n",
    "7 0 0 0 2 0 0 0 6;\n",
    "0 6 0 0 0 0 2 8 0;\n",
    "0 0 0 4 1 9 0 0 5;\n",
    "0 0 0 0 8 0 0 7 9]\n",
    "\n",
    "# variable\n",
    "@variable(m, x[1:9,1:9,1:9], Bin)\n",
    "\n",
    "#costraint\n",
    "for ind = 1:9 # Each row, OR each column\n",
    "    for k = 1:9 # Each digit\n",
    "        @constraint(m,sum{x[ind,j,k],j=1:9}==1)\n",
    "        @constraint(m,sum{x[i,ind,k],i=1:9}==1)\n",
    "    end\n",
    "end\n",
    "\n",
    "for i = 1:9, j = 1:9\n",
    "    @constraint(m,sum{x[i,j,k],k=1:9}==1)\n",
    "end\n",
    "\n",
    "for i = 1:3:7, j = 1:3:7, k = 1:9\n",
    "# i is the top left row, j is the top left column\n",
    "# For each 3x3 square, we sum from from row i to i+2 and column j to j+2\n",
    "    @constraint(m, sum{x[r,c,k], r=i:i+2, c=j:j+2} == 1)\n",
    "end\n",
    "\n",
    "for i = 1:9, j = 1:9\n",
    "    # If the space isn’t empty\n",
    "    if init_sol[i,j] != 0\n",
    "    # Then the corresponding variable for that digit and location must be 1\n",
    "    @constraint(m, x[i,j,init_sol[i,j]] == 1)\n",
    "    end\n",
    "end"
   ]
  },
  {
   "cell_type": "code",
   "execution_count": 106,
   "metadata": {
    "collapsed": false
   },
   "outputs": [
    {
     "data": {
      "text/plain": [
       ":Optimal"
      ]
     },
     "execution_count": 106,
     "metadata": {},
     "output_type": "execute_result"
    }
   ],
   "source": [
    "solve(m)"
   ]
  },
  {
   "cell_type": "code",
   "execution_count": 107,
   "metadata": {
    "collapsed": false
   },
   "outputs": [
    {
     "name": "stdout",
     "output_type": "stream",
     "text": [
      "[5 3 4 6 7 8 9 1 2\n",
      " 6 7 2 1 9 5 3 4 8\n",
      " 1 9 8 3 4 2 5 6 7\n",
      " 8 5 9 7 6 1 4 2 3\n",
      " 4 2 6 8 5 3 7 9 1\n",
      " 7 1 3 9 2 4 8 5 6\n",
      " 9 6 1 5 3 7 2 8 4\n",
      " 2 8 7 4 1 9 6 3 5\n",
      " 3 4 5 2 8 6 1 7 9]\n"
     ]
    }
   ],
   "source": [
    "# Get the values of x\n",
    "x_val = getValue(x)\n",
    "# Create a matrix to store the solution\n",
    "sol = zeros(Int,9,9) # 9x9 matrix of integers\n",
    "for i in 1:9, j in 1:9, k in 1:9\n",
    "    if round(Int, x_val[i,j,k]) == 1\n",
    "        sol[i,j] = k\n",
    "    end\n",
    "end\n",
    "println(sol)"
   ]
  },
  {
   "cell_type": "markdown",
   "metadata": {},
   "source": [
    "# Airline Network Revenue Management"
   ]
  },
  {
   "cell_type": "code",
   "execution_count": 108,
   "metadata": {
    "collapsed": false
   },
   "outputs": [
    {
     "data": {
      "text/latex": [
       "$$ \\begin{alignat*}{1}\\min\\quad & 0\\\\\n",
       "\\text{Subject to} \\quad\\end{alignat*}\n",
       " $$"
      ],
      "text/plain": [
       "Feasibility problem with:\n",
       " * 0 linear constraints\n",
       " * 0 variables\n",
       "Solver is default solver"
      ]
     },
     "execution_count": 108,
     "metadata": {},
     "output_type": "execute_result"
    }
   ],
   "source": [
    "# model\n",
    "m = Model()"
   ]
  },
  {
   "cell_type": "code",
   "execution_count": 109,
   "metadata": {
    "collapsed": false
   },
   "outputs": [
    {
     "data": {
      "text/latex": [
       "$$ x_{i,j,k} \\geq 0 \\quad\\forall i \\in \\{b,m\\}, j \\in \\{m,s\\}, k \\in \\{r,d\\} $$"
      ],
      "text/plain": [
       "x[i,j,k] ≥ 0 ∀ i ∈ {b,m}, j ∈ {m,s}, k ∈ {r,d}"
      ]
     },
     "execution_count": 109,
     "metadata": {},
     "output_type": "execute_result"
    }
   ],
   "source": [
    "# variable\n",
    "@variable(m, x[[\"b\",\"m\"],[\"m\",\"s\"],[\"r\",\"d\"]]>=0,Int)"
   ]
  },
  {
   "cell_type": "code",
   "execution_count": 111,
   "metadata": {
    "collapsed": false
   },
   "outputs": [
    {
     "data": {
      "text/latex": [
       "$$ 428 x_{b,m,r} + 190 x_{b,m,d} + 642 x_{b,s,r} + 224 x_{b,s,d} + 512 x_{m,s,r} + 190 x_{m,s,d} $$"
      ],
      "text/plain": [
       "428 x[b,m,r] + 190 x[b,m,d] + 642 x[b,s,r] + 224 x[b,s,d] + 512 x[m,s,r] + 190 x[m,s,d]"
      ]
     },
     "execution_count": 111,
     "metadata": {},
     "output_type": "execute_result"
    }
   ],
   "source": [
    "# object\n",
    "@objective(m, Max, 428*x[\"b\",\"m\",\"r\"]+190*x[\"b\",\"m\",\"d\"]+642*x[\"b\",\"s\",\"r\"]+224*x[\"b\",\"s\",\"d\"]+512*x[\"m\",\"s\",\"r\"]+190*x[\"m\",\"s\",\"d\"])"
   ]
  },
  {
   "cell_type": "code",
   "execution_count": 112,
   "metadata": {
    "collapsed": false
   },
   "outputs": [
    {
     "data": {
      "text/latex": [
       "$$ x_{m,s,r} + x_{m,s,d} + x_{b,s,r} + x_{b,s,d} \\leq 166 $$"
      ],
      "text/plain": [
       "x[m,s,r] + x[m,s,d] + x[b,s,r] + x[b,s,d] ≤ 166"
      ]
     },
     "execution_count": 112,
     "metadata": {},
     "output_type": "execute_result"
    }
   ],
   "source": [
    "# constrain\n",
    "@constraint(m, x[\"b\",\"m\",\"r\"]<=80)\n",
    "@constraint(m, x[\"b\",\"m\",\"d\"]<=120)\n",
    "@constraint(m, x[\"b\",\"s\",\"r\"]<=75)\n",
    "@constraint(m, x[\"b\",\"s\",\"d\"]<=100)\n",
    "@constraint(m, x[\"m\",\"s\",\"r\"]<=60)\n",
    "@constraint(m, x[\"m\",\"s\",\"d\"]<=110)\n",
    "\n",
    "@constraint(m, x[\"b\",\"m\",\"r\"]+x[\"b\",\"m\",\"d\"]+x[\"b\",\"s\",\"r\"]+x[\"b\",\"s\",\"d\"]<=166)\n",
    "@constraint(m, x[\"m\",\"s\",\"r\"]+x[\"m\",\"s\",\"d\"]+x[\"b\",\"s\",\"r\"]+x[\"b\",\"s\",\"d\"]<=166)"
   ]
  },
  {
   "cell_type": "code",
   "execution_count": 113,
   "metadata": {
    "collapsed": false
   },
   "outputs": [
    {
     "data": {
      "text/plain": [
       ":Optimal"
      ]
     },
     "execution_count": 113,
     "metadata": {},
     "output_type": "execute_result"
    }
   ],
   "source": [
    "solve(m)"
   ]
  },
  {
   "cell_type": "code",
   "execution_count": 115,
   "metadata": {
    "collapsed": false
   },
   "outputs": [
    {
     "data": {
      "text/plain": [
       "121090.0"
      ]
     },
     "execution_count": 115,
     "metadata": {},
     "output_type": "execute_result"
    }
   ],
   "source": [
    "getObjectiveValue(m)"
   ]
  },
  {
   "cell_type": "code",
   "execution_count": 116,
   "metadata": {
    "collapsed": false
   },
   "outputs": [
    {
     "data": {
      "text/plain": [
       "x: 3 dimensions:\n",
       "[b,:,:]\n",
       "  [b,m,:]\n",
       "    [b,m,r] = 80.0\n",
       "    [b,m,d] = 11.0\n",
       "  [b,s,:]\n",
       "    [b,s,r] = 75.0\n",
       "    [b,s,d] = 0.0\n",
       "[m,:,:]\n",
       "  [m,m,:]\n",
       "    [m,m,r] = 0.0\n",
       "    [m,m,d] = 0.0\n",
       "  [m,s,:]\n",
       "    [m,s,r] = 60.0\n",
       "    [m,s,d] = 31.0\n"
      ]
     },
     "execution_count": 116,
     "metadata": {},
     "output_type": "execute_result"
    }
   ],
   "source": [
    "getValue(x)"
   ]
  }
 ],
 "metadata": {
  "kernelspec": {
   "display_name": "Julia 0.4.6",
   "language": "julia",
   "name": "julia-0.4"
  },
  "language_info": {
   "file_extension": ".jl",
   "mimetype": "application/julia",
   "name": "julia",
   "version": "0.4.6"
  }
 },
 "nbformat": 4,
 "nbformat_minor": 0
}
