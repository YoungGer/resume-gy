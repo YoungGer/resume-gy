{
 "cells": [
  {
   "cell_type": "markdown",
   "metadata": {},
   "source": [
    "# PART1"
   ]
  },
  {
   "cell_type": "code",
   "execution_count": 2,
   "metadata": {
    "collapsed": true
   },
   "outputs": [],
   "source": [
    "using JuMP, DataFrames"
   ]
  },
  {
   "cell_type": "code",
   "execution_count": 16,
   "metadata": {
    "collapsed": false
   },
   "outputs": [
    {
     "data": {
      "text/latex": [
       "$$ x_{11} + 2 x_{12} + 1.2 x_{21} + 3 x_{22} + 2 x_{31} + 3 x_{32} $$"
      ],
      "text/plain": [
       "x[11] + 2 x[12] + 1.2 x[21] + 3 x[22] + 2 x[31] + 3 x[32]"
      ]
     },
     "execution_count": 16,
     "metadata": {},
     "output_type": "execute_result"
    }
   ],
   "source": [
    "# Define model\n",
    "m = Model()\n",
    "\n",
    "# variable\n",
    "v = [11,12,21,22,31,32]\n",
    "@variable(m, x[v]>=0)\n",
    "\n",
    "# constrain\n",
    "@constraint(m, sum{x[i], i in [11,21,31]} <= 24) \n",
    "@constraint(m, sum{x[i], i in [12,22,32]} <= 24) \n",
    "@constraint(m,x[11]+2x[12]<=15) \n",
    "@constraint(m,1.2x[21]+3x[22]<=24) \n",
    "@constraint(m,2x[31]+3x[32]<=18) \n",
    "\n",
    "# Maximize value from items\n",
    "@objective(m, Max, x[11]+2x[12]+1.2x[21]+3x[22]+2x[31]+3x[32])"
   ]
  },
  {
   "cell_type": "code",
   "execution_count": 17,
   "metadata": {
    "collapsed": false
   },
   "outputs": [
    {
     "data": {
      "text/plain": [
       ":Optimal"
      ]
     },
     "execution_count": 17,
     "metadata": {},
     "output_type": "execute_result"
    }
   ],
   "source": [
    "# solve\n",
    "solve(m)"
   ]
  },
  {
   "cell_type": "code",
   "execution_count": 18,
   "metadata": {
    "collapsed": false
   },
   "outputs": [
    {
     "name": "stdout",
     "output_type": "stream",
     "text": [
      "Variable Values: x: 1 dimensions:\n",
      "[11] = 0.0\n",
      "[12] = 7.5\n",
      "[21] = 0.0\n",
      "[22] = 8.0\n",
      "[31] = 9.0\n",
      "[32] = 0.0\n",
      "\n",
      "Objetive value: 57.0\n"
     ]
    }
   ],
   "source": [
    "# Determine which items to carry \n",
    "println(\"Variable Values: \", getvalue(x))\n",
    "\n",
    "# Determine value from items carried\n",
    "println(\"Objetive value: \", getobjectivevalue(m))"
   ]
  },
  {
   "cell_type": "markdown",
   "metadata": {},
   "source": [
    "# PART2"
   ]
  },
  {
   "cell_type": "code",
   "execution_count": 30,
   "metadata": {
    "collapsed": false
   },
   "outputs": [
    {
     "data": {
      "text/latex": [
       "$$ z_{1} $$"
      ],
      "text/plain": [
       "z[1]"
      ]
     },
     "execution_count": 30,
     "metadata": {},
     "output_type": "execute_result"
    }
   ],
   "source": [
    "# Define model\n",
    "m = Model()\n",
    "\n",
    "# variable\n",
    "v = [11,12,21,22,31,32]\n",
    "@variable(m, x[v]>=0)\n",
    "@variable(m, z[1]>=0)\n",
    "\n",
    "# constrain\n",
    "@constraint(m, sum{x[i], i in [11,21,31]} <= z[1]) \n",
    "@constraint(m, sum{x[i], i in [12,22,32]} <= z[1]) \n",
    "@constraint(m,x[11]+2x[12]>=15) \n",
    "@constraint(m,1.2x[21]+3x[22]>=24) \n",
    "@constraint(m,2x[31]+3x[32]>=18) \n",
    "@constraint(m,x[11]+2x[12]<=15) \n",
    "@constraint(m,1.2x[21]+3x[22]<=24) \n",
    "@constraint(m,2x[31]+3x[32]<=18) \n",
    "\n",
    "# Maximize value from items\n",
    "@objective(m, Min, z[1])"
   ]
  },
  {
   "cell_type": "code",
   "execution_count": 31,
   "metadata": {
    "collapsed": false
   },
   "outputs": [
    {
     "data": {
      "text/plain": [
       ":Optimal"
      ]
     },
     "execution_count": 31,
     "metadata": {},
     "output_type": "execute_result"
    }
   ],
   "source": [
    "# solve\n",
    "solve(m)"
   ]
  },
  {
   "cell_type": "code",
   "execution_count": 32,
   "metadata": {
    "collapsed": false
   },
   "outputs": [
    {
     "name": "stdout",
     "output_type": "stream",
     "text": [
      "Variable Values: x: 1 dimensions:\n",
      "[11] = 4.333333333333333\n",
      "[12] = 5.333333333333332\n",
      "[21] = 0.0\n",
      "[22] = 8.0\n",
      "[31] = 9.0\n",
      "[32] = 0.0\n",
      "\n",
      "Objetive value: 13.333333333333332\n"
     ]
    }
   ],
   "source": [
    "# Determine which items to carry \n",
    "println(\"Variable Vaalues: \", getvalue(x))\n",
    "\n",
    "# Determine value from items carried\n",
    "println(\"Objetive value: \", getobjectivevalue(m))"
   ]
  },
  {
   "cell_type": "markdown",
   "metadata": {},
   "source": [
    "# PART3"
   ]
  },
  {
   "cell_type": "code",
   "execution_count": 34,
   "metadata": {
    "collapsed": false
   },
   "outputs": [
    {
     "data": {
      "text/latex": [
       "$$ 2 x + 3 y $$"
      ],
      "text/plain": [
       "2 x + 3 y"
      ]
     },
     "execution_count": 34,
     "metadata": {},
     "output_type": "execute_result"
    }
   ],
   "source": [
    "# Define model\n",
    "m = Model()\n",
    "\n",
    "# variable\n",
    "v = [11,12,21,22,31,32]\n",
    "@variable(m, x>=0)\n",
    "@variable(m, y>=0)\n",
    "\n",
    "# constrain\n",
    "\n",
    "@constraint(m,4x+6y>=30)\n",
    "@constraint(m,6x+2y>=20)\n",
    "@constraint(m,x+2y>=12)\n",
    "\n",
    "# Maximize value from items\n",
    "@objective(m, Min, 2x+3y)"
   ]
  },
  {
   "cell_type": "code",
   "execution_count": 35,
   "metadata": {
    "collapsed": false
   },
   "outputs": [
    {
     "data": {
      "text/plain": [
       ":Optimal"
      ]
     },
     "execution_count": 35,
     "metadata": {},
     "output_type": "execute_result"
    }
   ],
   "source": [
    "# solve\n",
    "solve(m)"
   ]
  },
  {
   "cell_type": "code",
   "execution_count": 39,
   "metadata": {
    "collapsed": false
   },
   "outputs": [
    {
     "name": "stdout",
     "output_type": "stream",
     "text": [
      "Variable Vaalues: [1.5999999999999996,5.2]\n",
      "Objetive value: 18.8\n"
     ]
    }
   ],
   "source": [
    "# Determine which items to carry \n",
    "println(\"Variable Vaalues: \", getvalue([x,y]))\n",
    "\n",
    "# Determine value from items carried\n",
    "println(\"Objetive value: \", getobjectivevalue(m))"
   ]
  },
  {
   "cell_type": "markdown",
   "metadata": {},
   "source": [
    "# PART 4"
   ]
  },
  {
   "cell_type": "code",
   "execution_count": 54,
   "metadata": {
    "collapsed": false
   },
   "outputs": [
    {
     "data": {
      "text/plain": [
       "10x5 Array{Any,2}:\n",
       " 448   1  5  36   2\n",
       " 305  17  4  40   7\n",
       " 337   4  5  22   4\n",
       " 455  18  2  83   5\n",
       " 314  19  1  76  13\n",
       " 437  19  5  45   1\n",
       " 438   3  1  93   0\n",
       " 413  17  3  77   0\n",
       " 481  13  5  54   0\n",
       " 150  14  0  22   2"
      ]
     },
     "execution_count": 54,
     "metadata": {},
     "output_type": "execute_result"
    }
   ],
   "source": [
    "data = readcsv(\"fooddata.csv\", header = false)\n",
    "data = data[3:12,2:6]"
   ]
  },
  {
   "cell_type": "code",
   "execution_count": 56,
   "metadata": {
    "collapsed": false
   },
   "outputs": [
    {
     "data": {
      "text/latex": [
       "$$ 448 x_{1} + 305 x_{2} + 337 x_{3} + 455 x_{4} + 314 x_{5} + 437 x_{6} + 438 x_{7} + 413 x_{8} + 481 x_{9} + 150 x_{10} $$"
      ],
      "text/plain": [
       "448 x[1] + 305 x[2] + 337 x[3] + 455 x[4] + 314 x[5] + 437 x[6] + 438 x[7] + 413 x[8] + 481 x[9] + 150 x[10]"
      ]
     },
     "execution_count": 56,
     "metadata": {},
     "output_type": "execute_result"
    }
   ],
   "source": [
    "# Define model\n",
    "m = Model()\n",
    "\n",
    "# variable\n",
    "@variable(m, x[1:10]>=0)\n",
    "\n",
    "# data\n",
    "calories = data[:,1]\n",
    "fat = data[:,2]\n",
    "sacfat = data[:,3]\n",
    "carb = data[:,4]\n",
    "protein = data[:,5]\n",
    "\n",
    "# constrain\n",
    "@constraint(m,sum{x[i]*fat[i], i in 1:10}>=50)\n",
    "@constraint(m,sum{x[i]*carb[i], i in 1:10}>=300)\n",
    "@constraint(m,sum{x[i]*protein[i], i in 1:10}>=60)\n",
    "@constraint(m,sum{x[i]*sacfat[i], i in 1:10}<=20)\n",
    "\n",
    "\n",
    "# Maximize value from items\n",
    "@objective(m, Min, sum{x[i]*calories[i], i in 1:10})"
   ]
  },
  {
   "cell_type": "code",
   "execution_count": 57,
   "metadata": {
    "collapsed": false
   },
   "outputs": [
    {
     "data": {
      "text/plain": [
       ":Optimal"
      ]
     },
     "execution_count": 57,
     "metadata": {},
     "output_type": "execute_result"
    }
   ],
   "source": [
    "# solve\n",
    "solve(m)"
   ]
  },
  {
   "cell_type": "code",
   "execution_count": 58,
   "metadata": {
    "collapsed": false
   },
   "outputs": [
    {
     "name": "stdout",
     "output_type": "stream",
     "text": [
      "Variable Vaalues: [0.0,0.0,0.0,0.0,4.615384615384616,0.0,0.0,0.0,0.0,0.0]\n",
      "Objetive value: 1449.2307692307693\n"
     ]
    }
   ],
   "source": [
    "# Determine which items to carry \n",
    "println(\"Variable Vaalues: \", getvalue(x))\n",
    "\n",
    "# Determine value from items carried\n",
    "println(\"Objetive value: \", getobjectivevalue(m))"
   ]
  },
  {
   "cell_type": "code",
   "execution_count": null,
   "metadata": {
    "collapsed": true
   },
   "outputs": [],
   "source": []
  },
  {
   "cell_type": "code",
   "execution_count": 1,
   "metadata": {
    "collapsed": false
   },
   "outputs": [
    {
     "name": "stdout",
     "output_type": "stream",
     "text": [
      "Variable Values: [1.0,1.0,0.0,1.0,0.0]\n",
      "Objetive value: 29.0\n"
     ]
    }
   ],
   "source": [
    "using JuMP, DataFrames\n",
    "\n",
    "# Define model\n",
    "m = Model()\n",
    "\n",
    "# Define capacity\n",
    "capacity = 11\n",
    "\n",
    "# Read data from CSV file using readtable\n",
    "data = readtable(\"knapsack_data.csv\", header = false)\n",
    "\n",
    "# Weights from first column, weights = [1 2 15 6 28]\n",
    "weights = data[:,1]\n",
    "\n",
    "# Values from second column, values = [1 6 18 22 7]\n",
    "values = data[:,2]\n",
    "\n",
    "# Assign binary values to items\n",
    "@variable(m, x[1:5], Bin)\n",
    "\n",
    "# Constraint on total weight\n",
    "@constraint(m, sum{weights[i]*x[i], i in 1:5} <= capacity) \n",
    "\n",
    "# Maximize value from items\n",
    "@objective(m, Max, sum{values[i]*x[i], i in 1:5})\n",
    "\n",
    "# Solve model\n",
    "solve(m)\n",
    "\n",
    "# Determine which items to carry \n",
    "println(\"Variable Values: \", getvalue(x))\n",
    "\n",
    "# Determine value from items carried\n",
    "println(\"Objetive value: \", getobjectivevalue(m))"
   ]
  },
  {
   "cell_type": "code",
   "execution_count": null,
   "metadata": {
    "collapsed": true
   },
   "outputs": [],
   "source": [
    "# Initialize JuMP\n",
    "using JuMP\n",
    "\n",
    "# Define model \n",
    "mymodel = Model()\n",
    "\n",
    "# Create a foods available array\n",
    "foods = [\"brownies\", \"ice cream\", \"cola\", \"cheese cake\"]\n",
    "\n",
    "# Define decision variables, non-negative\n",
    "@variable(mymodel, x[foods] >= 0)\n",
    "\n",
    "# Constraints\n",
    "# At least 500 calories\n",
    "@constraint(mymodel, 400x[\"brownies\"] + 200x[\"ice cream\"] + 150x[\"cola\"] + 500x[\"cheese cake\"] >= 500)\n",
    "\n",
    "# At least 6 grams of chocolate\n",
    "@constraint(mymodel, 3x[\"brownies\"] + 2x[\"ice cream\"] >= 6)\n",
    "\n",
    "# At least 10 grams of sugar\n",
    "@constraint(mymodel, 2x[\"brownies\"] + 2x[\"ice cream\"] + 4x[\"cola\"] + 4x[\"cheese cake\"] >= 10)\n",
    "\n",
    "# At least 8 grams of fat\n",
    "@constraint(mymodel, 2x[\"brownies\"] + 4x[\"ice cream\"] + 1x[\"cola\"] + 5x[\"cheese cake\"] >= 8)\n",
    "\n",
    "# Set objective function\n",
    "@objective(mymodel, Min, 0.5x[\"brownies\"] + 0.2x[\"ice cream\"] + 0.3x[\"cola\"] + 0.8x[\"cheese cake\"])\n",
    "\n",
    "# Solve the optimization problem\n",
    "solve(mymodel)\n",
    "\n",
    "# Print the consumption amounts\n",
    "println(\"Variable values: \", getvalue(x))\n",
    "\n",
    "# Print the objective value\n",
    "println(\"Objetive value: \", getobjectivevalue(mymodel))a"
   ]
  }
 ],
 "metadata": {
  "kernelspec": {
   "display_name": "Julia 0.4.6",
   "language": "julia",
   "name": "julia-0.4"
  },
  "language_info": {
   "file_extension": ".jl",
   "mimetype": "application/julia",
   "name": "julia",
   "version": "0.4.6"
  }
 },
 "nbformat": 4,
 "nbformat_minor": 0
}
